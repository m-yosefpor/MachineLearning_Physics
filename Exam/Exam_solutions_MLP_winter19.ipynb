{
 "cells": [
  {
   "cell_type": "code",
   "execution_count": 19,
   "metadata": {
    "ExecuteTime": {
     "end_time": "2019-06-23T04:14:24.525114Z",
     "start_time": "2019-06-23T04:14:24.519087Z"
    }
   },
   "outputs": [],
   "source": [
    "import numpy as np\n",
    "import matplotlib.pyplot as plt\n",
    "import pandas as pd\n",
    "\n",
    "import warnings\n",
    "warnings.filterwarnings('ignore')\n",
    "\n",
    "import keras as ks\n",
    "from keras import layers\n",
    "from keras import models\n",
    "\n",
    "from sklearn.ensemble import BaggingClassifier\n",
    "from sklearn.neighbors import KNeighborsClassifier\n",
    "from sklearn.model_selection import cross_val_score"
   ]
  },
  {
   "cell_type": "code",
   "execution_count": 3,
   "metadata": {
    "ExecuteTime": {
     "end_time": "2019-06-23T04:06:23.782325Z",
     "start_time": "2019-06-23T04:06:23.769299Z"
    }
   },
   "outputs": [],
   "source": [
    "def history_plot(history, items = ['loss']):\n",
    "    fig = plt.figure(figsize=(13, 5))\n",
    "\n",
    "    ax1  = fig.add_subplot(1,2 ,1, title= 'Accuracy' , xlabel = 'epoch' , ylabel = 'accuracy' )\n",
    "    ax1.plot(history.history['val_acc'], label = 'Validation')\n",
    "    ax1.plot(history.history['acc'], label = 'train acc')\n",
    "    ax1.legend(loc=0)\n",
    "\n",
    "    ax2  = fig.add_subplot(1,2,2, title='Loss')\n",
    "    ax2.plot(history.history['val_loss'], label = 'test loss')\n",
    "    ax2.plot(history.history['loss'], label = 'train loss')\n",
    "    ax2.legend(loc=0)\n",
    "\n",
    "    plt.tight_layout()\n",
    "    plt.show()\n",
    "    return None\n",
    "\n",
    "\n",
    "def cv_score(clf, X, Y):\n",
    "    score = cross_val_score(clf, X, Y, cv=5, scoring='accuracy')\n",
    "#     print('For RandomForest, the accuracy is {}  +/- {}'.format( dm_score.mean(), dm_score.std())  )\n",
    "    return score.mean(), score.std()"
   ]
  },
  {
   "cell_type": "markdown",
   "metadata": {},
   "source": [
    "# Sec II"
   ]
  },
  {
   "cell_type": "code",
   "execution_count": 4,
   "metadata": {
    "ExecuteTime": {
     "end_time": "2019-06-23T04:06:24.504316Z",
     "start_time": "2019-06-23T04:06:23.794299Z"
    }
   },
   "outputs": [
    {
     "data": {
      "text/html": [
       "<div>\n",
       "<style scoped>\n",
       "    .dataframe tbody tr th:only-of-type {\n",
       "        vertical-align: middle;\n",
       "    }\n",
       "\n",
       "    .dataframe tbody tr th {\n",
       "        vertical-align: top;\n",
       "    }\n",
       "\n",
       "    .dataframe thead th {\n",
       "        text-align: right;\n",
       "    }\n",
       "</style>\n",
       "<table border=\"1\" class=\"dataframe\">\n",
       "  <thead>\n",
       "    <tr style=\"text-align: right;\">\n",
       "      <th></th>\n",
       "      <th>Label</th>\n",
       "      <th>1</th>\n",
       "      <th>2</th>\n",
       "      <th>3</th>\n",
       "      <th>4</th>\n",
       "      <th>5</th>\n",
       "      <th>6</th>\n",
       "      <th>7</th>\n",
       "      <th>8</th>\n",
       "      <th>9</th>\n",
       "      <th>...</th>\n",
       "      <th>191</th>\n",
       "      <th>192</th>\n",
       "      <th>193</th>\n",
       "      <th>194</th>\n",
       "      <th>195</th>\n",
       "      <th>196</th>\n",
       "      <th>197</th>\n",
       "      <th>198</th>\n",
       "      <th>199</th>\n",
       "      <th>200</th>\n",
       "    </tr>\n",
       "  </thead>\n",
       "  <tbody>\n",
       "    <tr>\n",
       "      <th>0</th>\n",
       "      <td>0</td>\n",
       "      <td>0.660</td>\n",
       "      <td>0.106</td>\n",
       "      <td>0.434</td>\n",
       "      <td>0.387</td>\n",
       "      <td>0.903</td>\n",
       "      <td>0.661</td>\n",
       "      <td>0.158</td>\n",
       "      <td>0.291</td>\n",
       "      <td>0.210</td>\n",
       "      <td>...</td>\n",
       "      <td>0.015</td>\n",
       "      <td>0.377</td>\n",
       "      <td>0.479</td>\n",
       "      <td>0.050</td>\n",
       "      <td>0.395</td>\n",
       "      <td>0.123</td>\n",
       "      <td>0.833</td>\n",
       "      <td>0.461</td>\n",
       "      <td>0.990</td>\n",
       "      <td>0.105</td>\n",
       "    </tr>\n",
       "    <tr>\n",
       "      <th>1</th>\n",
       "      <td>1</td>\n",
       "      <td>0.844</td>\n",
       "      <td>0.813</td>\n",
       "      <td>0.030</td>\n",
       "      <td>0.939</td>\n",
       "      <td>0.721</td>\n",
       "      <td>0.287</td>\n",
       "      <td>0.539</td>\n",
       "      <td>0.874</td>\n",
       "      <td>0.787</td>\n",
       "      <td>...</td>\n",
       "      <td>0.112</td>\n",
       "      <td>0.048</td>\n",
       "      <td>0.088</td>\n",
       "      <td>0.860</td>\n",
       "      <td>0.560</td>\n",
       "      <td>0.346</td>\n",
       "      <td>0.511</td>\n",
       "      <td>0.883</td>\n",
       "      <td>0.858</td>\n",
       "      <td>0.599</td>\n",
       "    </tr>\n",
       "    <tr>\n",
       "      <th>2</th>\n",
       "      <td>0</td>\n",
       "      <td>0.560</td>\n",
       "      <td>0.567</td>\n",
       "      <td>0.568</td>\n",
       "      <td>0.434</td>\n",
       "      <td>0.414</td>\n",
       "      <td>0.180</td>\n",
       "      <td>0.448</td>\n",
       "      <td>0.888</td>\n",
       "      <td>0.023</td>\n",
       "      <td>...</td>\n",
       "      <td>0.874</td>\n",
       "      <td>0.236</td>\n",
       "      <td>0.599</td>\n",
       "      <td>0.602</td>\n",
       "      <td>0.005</td>\n",
       "      <td>0.493</td>\n",
       "      <td>0.122</td>\n",
       "      <td>0.395</td>\n",
       "      <td>0.782</td>\n",
       "      <td>0.943</td>\n",
       "    </tr>\n",
       "    <tr>\n",
       "      <th>3</th>\n",
       "      <td>0</td>\n",
       "      <td>0.681</td>\n",
       "      <td>0.245</td>\n",
       "      <td>0.909</td>\n",
       "      <td>0.785</td>\n",
       "      <td>0.738</td>\n",
       "      <td>0.570</td>\n",
       "      <td>0.692</td>\n",
       "      <td>0.411</td>\n",
       "      <td>0.182</td>\n",
       "      <td>...</td>\n",
       "      <td>0.219</td>\n",
       "      <td>0.691</td>\n",
       "      <td>0.261</td>\n",
       "      <td>0.031</td>\n",
       "      <td>0.968</td>\n",
       "      <td>0.353</td>\n",
       "      <td>0.798</td>\n",
       "      <td>0.104</td>\n",
       "      <td>0.944</td>\n",
       "      <td>0.090</td>\n",
       "    </tr>\n",
       "    <tr>\n",
       "      <th>4</th>\n",
       "      <td>0</td>\n",
       "      <td>0.846</td>\n",
       "      <td>0.431</td>\n",
       "      <td>0.805</td>\n",
       "      <td>0.237</td>\n",
       "      <td>0.465</td>\n",
       "      <td>0.642</td>\n",
       "      <td>0.219</td>\n",
       "      <td>0.102</td>\n",
       "      <td>0.795</td>\n",
       "      <td>...</td>\n",
       "      <td>0.704</td>\n",
       "      <td>0.242</td>\n",
       "      <td>0.089</td>\n",
       "      <td>0.605</td>\n",
       "      <td>0.577</td>\n",
       "      <td>0.043</td>\n",
       "      <td>0.686</td>\n",
       "      <td>0.070</td>\n",
       "      <td>0.666</td>\n",
       "      <td>0.572</td>\n",
       "    </tr>\n",
       "  </tbody>\n",
       "</table>\n",
       "<p>5 rows × 201 columns</p>\n",
       "</div>"
      ],
      "text/plain": [
       "   Label      1      2      3      4      5      6      7      8      9  ...  \\\n",
       "0      0  0.660  0.106  0.434  0.387  0.903  0.661  0.158  0.291  0.210  ...   \n",
       "1      1  0.844  0.813  0.030  0.939  0.721  0.287  0.539  0.874  0.787  ...   \n",
       "2      0  0.560  0.567  0.568  0.434  0.414  0.180  0.448  0.888  0.023  ...   \n",
       "3      0  0.681  0.245  0.909  0.785  0.738  0.570  0.692  0.411  0.182  ...   \n",
       "4      0  0.846  0.431  0.805  0.237  0.465  0.642  0.219  0.102  0.795  ...   \n",
       "\n",
       "     191    192    193    194    195    196    197    198    199    200  \n",
       "0  0.015  0.377  0.479  0.050  0.395  0.123  0.833  0.461  0.990  0.105  \n",
       "1  0.112  0.048  0.088  0.860  0.560  0.346  0.511  0.883  0.858  0.599  \n",
       "2  0.874  0.236  0.599  0.602  0.005  0.493  0.122  0.395  0.782  0.943  \n",
       "3  0.219  0.691  0.261  0.031  0.968  0.353  0.798  0.104  0.944  0.090  \n",
       "4  0.704  0.242  0.089  0.605  0.577  0.043  0.686  0.070  0.666  0.572  \n",
       "\n",
       "[5 rows x 201 columns]"
      ]
     },
     "execution_count": 4,
     "metadata": {},
     "output_type": "execute_result"
    }
   ],
   "source": [
    "df1 = pd.read_csv('Data_2.csv')\n",
    "df1.head()"
   ]
  },
  {
   "cell_type": "code",
   "execution_count": 8,
   "metadata": {
    "ExecuteTime": {
     "end_time": "2019-06-23T04:06:56.183330Z",
     "start_time": "2019-06-23T04:06:56.066293Z"
    }
   },
   "outputs": [
    {
     "data": {
      "text/plain": [
       "19997"
      ]
     },
     "execution_count": 8,
     "metadata": {},
     "output_type": "execute_result"
    }
   ],
   "source": [
    "'''\n",
    "This is for a quick-and-dirty baseline, so we can afford to skip all the rows that contain nan. \n",
    "'''\n",
    "df1.dropna(axis=0, inplace=True)\n",
    "len(df1)"
   ]
  },
  {
   "cell_type": "code",
   "execution_count": 9,
   "metadata": {
    "ExecuteTime": {
     "end_time": "2019-06-23T04:06:57.055300Z",
     "start_time": "2019-06-23T04:06:57.032294Z"
    }
   },
   "outputs": [],
   "source": [
    "'''\n",
    "Making the feature and label matrices. \n",
    "'''\n",
    "X = df1.values[:, 4:]\n",
    "Y = df1['Label'].values"
   ]
  },
  {
   "cell_type": "code",
   "execution_count": 10,
   "metadata": {
    "ExecuteTime": {
     "end_time": "2019-06-23T04:06:57.896326Z",
     "start_time": "2019-06-23T04:06:57.792292Z"
    }
   },
   "outputs": [],
   "source": [
    "'''\n",
    "Making the train and validation data sets. \n",
    "'''\n",
    "from sklearn.model_selection import train_test_split\n",
    "X_train, X_test, Y_train,  Y_test = train_test_split(X, Y)"
   ]
  },
  {
   "cell_type": "code",
   "execution_count": 20,
   "metadata": {
    "ExecuteTime": {
     "end_time": "2019-06-23T04:14:29.346392Z",
     "start_time": "2019-06-23T04:14:28.541394Z"
    }
   },
   "outputs": [
    {
     "name": "stdout",
     "output_type": "stream",
     "text": [
      "For SGD, we have: /n\n",
      " The in_score is: 0.9337200773488031\n",
      " The out_score is: 0.9308\n",
      "-------------------------------------------\n",
      "\n",
      "For Ridge clf, we have: /n\n",
      " The in_score is: 0.9488564379542576\n",
      " The out_score is: 0.947\n",
      "-------------------------------------------\n",
      "\n",
      "For Logistic Regression, we have: /n\n",
      " The in_score is: 0.9323197972927919\n",
      " The out_score is: 0.9306\n"
     ]
    }
   ],
   "source": [
    "'''\n",
    "Now, we train some simple models to get an idea of how well a simple model can do. \n",
    "Anything we do later, should be better than this baseline models.\n",
    "It's generally a good idea to try a few simple model. \n",
    "'''\n",
    "from sklearn.linear_model import LogisticRegression, SGDClassifier, RidgeClassifier\n",
    "\n",
    "model = SGDClassifier()\n",
    "model.fit(X_train, Y_train)\n",
    "\n",
    "print('For SGD, we have: /n')\n",
    "print(f\" The in_score is: {model.score(X_train, Y_train)}\" )\n",
    "print(f\" The out_score is: {model.score(X_test, Y_test)}\" )\n",
    "print('-------------------------------------------\\n')\n",
    "\n",
    "model = RidgeClassifier()\n",
    "model.fit(X_train, Y_train)\n",
    "\n",
    "print('For Ridge clf, we have: /n')\n",
    "print(f\" The in_score is: {model.score(X_train, Y_train)}\" )\n",
    "print(f\" The out_score is: {model.score(X_test, Y_test)}\" )\n",
    "print('-------------------------------------------\\n')\n",
    "\n",
    "model = LogisticRegression()\n",
    "model.fit(X_train, Y_train)\n",
    "\n",
    "print('For Logistic Regression, we have: /n')\n",
    "print(f\" The in_score is: {model.score(X_train, Y_train)}\" )\n",
    "print(f\" The out_score is: {model.score(X_test, Y_test)}\" )"
   ]
  },
  {
   "cell_type": "markdown",
   "metadata": {},
   "source": [
    "This would suffice  for a base-line model. Any model that you could manage to fit in less than 15 minutes would do. "
   ]
  },
  {
   "cell_type": "markdown",
   "metadata": {},
   "source": [
    "# Sec III"
   ]
  },
  {
   "cell_type": "code",
   "execution_count": 23,
   "metadata": {
    "ExecuteTime": {
     "end_time": "2019-06-23T04:21:41.881216Z",
     "start_time": "2019-06-23T04:21:41.799216Z"
    }
   },
   "outputs": [
    {
     "data": {
      "text/html": [
       "<div>\n",
       "<style scoped>\n",
       "    .dataframe tbody tr th:only-of-type {\n",
       "        vertical-align: middle;\n",
       "    }\n",
       "\n",
       "    .dataframe tbody tr th {\n",
       "        vertical-align: top;\n",
       "    }\n",
       "\n",
       "    .dataframe thead th {\n",
       "        text-align: right;\n",
       "    }\n",
       "</style>\n",
       "<table border=\"1\" class=\"dataframe\">\n",
       "  <thead>\n",
       "    <tr style=\"text-align: right;\">\n",
       "      <th></th>\n",
       "      <th>target</th>\n",
       "      <th>0</th>\n",
       "      <th>1</th>\n",
       "      <th>2</th>\n",
       "      <th>3</th>\n",
       "      <th>4</th>\n",
       "      <th>5</th>\n",
       "      <th>6</th>\n",
       "      <th>7</th>\n",
       "      <th>8</th>\n",
       "      <th>...</th>\n",
       "      <th>290</th>\n",
       "      <th>291</th>\n",
       "      <th>292</th>\n",
       "      <th>293</th>\n",
       "      <th>294</th>\n",
       "      <th>295</th>\n",
       "      <th>296</th>\n",
       "      <th>297</th>\n",
       "      <th>298</th>\n",
       "      <th>299</th>\n",
       "    </tr>\n",
       "    <tr>\n",
       "      <th>id</th>\n",
       "      <th></th>\n",
       "      <th></th>\n",
       "      <th></th>\n",
       "      <th></th>\n",
       "      <th></th>\n",
       "      <th></th>\n",
       "      <th></th>\n",
       "      <th></th>\n",
       "      <th></th>\n",
       "      <th></th>\n",
       "      <th></th>\n",
       "      <th></th>\n",
       "      <th></th>\n",
       "      <th></th>\n",
       "      <th></th>\n",
       "      <th></th>\n",
       "      <th></th>\n",
       "      <th></th>\n",
       "      <th></th>\n",
       "      <th></th>\n",
       "      <th></th>\n",
       "    </tr>\n",
       "  </thead>\n",
       "  <tbody>\n",
       "    <tr>\n",
       "      <th>0</th>\n",
       "      <td>1</td>\n",
       "      <td>-0.098</td>\n",
       "      <td>2.165</td>\n",
       "      <td>0.681</td>\n",
       "      <td>-0.614</td>\n",
       "      <td>1.309</td>\n",
       "      <td>-0.455</td>\n",
       "      <td>-0.236</td>\n",
       "      <td>0.276</td>\n",
       "      <td>-2.246</td>\n",
       "      <td>...</td>\n",
       "      <td>0.867</td>\n",
       "      <td>1.347</td>\n",
       "      <td>0.504</td>\n",
       "      <td>-0.649</td>\n",
       "      <td>0.672</td>\n",
       "      <td>-2.097</td>\n",
       "      <td>1.051</td>\n",
       "      <td>-0.414</td>\n",
       "      <td>1.038</td>\n",
       "      <td>-1.065</td>\n",
       "    </tr>\n",
       "    <tr>\n",
       "      <th>1</th>\n",
       "      <td>0</td>\n",
       "      <td>1.081</td>\n",
       "      <td>-0.973</td>\n",
       "      <td>-0.383</td>\n",
       "      <td>0.326</td>\n",
       "      <td>-0.428</td>\n",
       "      <td>0.317</td>\n",
       "      <td>1.172</td>\n",
       "      <td>0.352</td>\n",
       "      <td>0.004</td>\n",
       "      <td>...</td>\n",
       "      <td>-0.165</td>\n",
       "      <td>-1.695</td>\n",
       "      <td>-1.257</td>\n",
       "      <td>1.359</td>\n",
       "      <td>-0.808</td>\n",
       "      <td>-1.624</td>\n",
       "      <td>-0.458</td>\n",
       "      <td>-1.099</td>\n",
       "      <td>-0.936</td>\n",
       "      <td>0.973</td>\n",
       "    </tr>\n",
       "    <tr>\n",
       "      <th>2</th>\n",
       "      <td>1</td>\n",
       "      <td>-0.523</td>\n",
       "      <td>-0.089</td>\n",
       "      <td>-0.348</td>\n",
       "      <td>0.148</td>\n",
       "      <td>-0.022</td>\n",
       "      <td>0.404</td>\n",
       "      <td>-0.023</td>\n",
       "      <td>-0.172</td>\n",
       "      <td>0.137</td>\n",
       "      <td>...</td>\n",
       "      <td>0.013</td>\n",
       "      <td>0.263</td>\n",
       "      <td>-1.222</td>\n",
       "      <td>0.726</td>\n",
       "      <td>1.444</td>\n",
       "      <td>-1.165</td>\n",
       "      <td>-1.544</td>\n",
       "      <td>0.004</td>\n",
       "      <td>0.800</td>\n",
       "      <td>-1.211</td>\n",
       "    </tr>\n",
       "    <tr>\n",
       "      <th>3</th>\n",
       "      <td>1</td>\n",
       "      <td>0.067</td>\n",
       "      <td>-0.021</td>\n",
       "      <td>0.392</td>\n",
       "      <td>-1.637</td>\n",
       "      <td>-0.446</td>\n",
       "      <td>-0.725</td>\n",
       "      <td>-1.035</td>\n",
       "      <td>0.834</td>\n",
       "      <td>0.503</td>\n",
       "      <td>...</td>\n",
       "      <td>-0.404</td>\n",
       "      <td>0.640</td>\n",
       "      <td>-0.595</td>\n",
       "      <td>-0.966</td>\n",
       "      <td>0.900</td>\n",
       "      <td>0.467</td>\n",
       "      <td>-0.562</td>\n",
       "      <td>-0.254</td>\n",
       "      <td>-0.533</td>\n",
       "      <td>0.238</td>\n",
       "    </tr>\n",
       "    <tr>\n",
       "      <th>4</th>\n",
       "      <td>1</td>\n",
       "      <td>2.347</td>\n",
       "      <td>-0.831</td>\n",
       "      <td>0.511</td>\n",
       "      <td>-0.021</td>\n",
       "      <td>1.225</td>\n",
       "      <td>1.594</td>\n",
       "      <td>0.585</td>\n",
       "      <td>1.509</td>\n",
       "      <td>-0.012</td>\n",
       "      <td>...</td>\n",
       "      <td>0.898</td>\n",
       "      <td>0.134</td>\n",
       "      <td>2.415</td>\n",
       "      <td>-0.996</td>\n",
       "      <td>-1.006</td>\n",
       "      <td>1.378</td>\n",
       "      <td>1.246</td>\n",
       "      <td>1.478</td>\n",
       "      <td>0.428</td>\n",
       "      <td>0.253</td>\n",
       "    </tr>\n",
       "  </tbody>\n",
       "</table>\n",
       "<p>5 rows × 301 columns</p>\n",
       "</div>"
      ],
      "text/plain": [
       "    target      0      1      2      3      4      5      6      7      8  \\\n",
       "id                                                                          \n",
       "0        1 -0.098  2.165  0.681 -0.614  1.309 -0.455 -0.236  0.276 -2.246   \n",
       "1        0  1.081 -0.973 -0.383  0.326 -0.428  0.317  1.172  0.352  0.004   \n",
       "2        1 -0.523 -0.089 -0.348  0.148 -0.022  0.404 -0.023 -0.172  0.137   \n",
       "3        1  0.067 -0.021  0.392 -1.637 -0.446 -0.725 -1.035  0.834  0.503   \n",
       "4        1  2.347 -0.831  0.511 -0.021  1.225  1.594  0.585  1.509 -0.012   \n",
       "\n",
       "    ...    290    291    292    293    294    295    296    297    298    299  \n",
       "id  ...                                                                        \n",
       "0   ...  0.867  1.347  0.504 -0.649  0.672 -2.097  1.051 -0.414  1.038 -1.065  \n",
       "1   ... -0.165 -1.695 -1.257  1.359 -0.808 -1.624 -0.458 -1.099 -0.936  0.973  \n",
       "2   ...  0.013  0.263 -1.222  0.726  1.444 -1.165 -1.544  0.004  0.800 -1.211  \n",
       "3   ... -0.404  0.640 -0.595 -0.966  0.900  0.467 -0.562 -0.254 -0.533  0.238  \n",
       "4   ...  0.898  0.134  2.415 -0.996 -1.006  1.378  1.246  1.478  0.428  0.253  \n",
       "\n",
       "[5 rows x 301 columns]"
      ]
     },
     "execution_count": 23,
     "metadata": {},
     "output_type": "execute_result"
    }
   ],
   "source": [
    "df2 = pd.read_csv('Data_3.csv', index_col=0)\n",
    "df2.head()"
   ]
  },
  {
   "cell_type": "code",
   "execution_count": 24,
   "metadata": {
    "ExecuteTime": {
     "end_time": "2019-06-23T04:21:42.615223Z",
     "start_time": "2019-06-23T04:21:42.609217Z"
    }
   },
   "outputs": [
    {
     "name": "stdout",
     "output_type": "stream",
     "text": [
      "There are only 250 samples in this data set, \n",
      " besides the challenge of finding a good model, this means that it would be easy to overfit.\n"
     ]
    }
   ],
   "source": [
    "print(f'There are only {len(df2)} samples in this data set, \\n besides the challenge of finding a good model, this means that it would be easy to overfit.')"
   ]
  },
  {
   "cell_type": "code",
   "execution_count": 25,
   "metadata": {
    "ExecuteTime": {
     "end_time": "2019-06-23T04:21:44.006213Z",
     "start_time": "2019-06-23T04:21:43.993253Z"
    }
   },
   "outputs": [],
   "source": [
    "'''\n",
    "Making the train and validation data.\n",
    "'''\n",
    "X = df2.values[:, 1:]\n",
    "Y = df2['target'].values\n",
    "\n",
    "from sklearn.preprocessing import StandardScaler\n",
    "scaler = StandardScaler()\n",
    "X = scaler.fit_transform(X)\n",
    "\n",
    "from sklearn.model_selection import train_test_split\n",
    "X_train, X_test, Y_train,  Y_test = train_test_split(X, Y, random_state=5)\n"
   ]
  },
  {
   "cell_type": "markdown",
   "metadata": {},
   "source": [
    "## Baseline Model"
   ]
  },
  {
   "cell_type": "code",
   "execution_count": 26,
   "metadata": {
    "ExecuteTime": {
     "end_time": "2019-06-23T04:21:47.372216Z",
     "start_time": "2019-06-23T04:21:47.351216Z"
    }
   },
   "outputs": [
    {
     "name": "stdout",
     "output_type": "stream",
     "text": [
      "For a dummy classifier, the accuracy is 0.64  +/- 0.0\n"
     ]
    }
   ],
   "source": [
    "from sklearn.dummy import DummyClassifier\n",
    "dum_clf = DummyClassifier(strategy='most_frequent'  )\n",
    "dum_clf.fit(X_train, Y_train)\n",
    "\n",
    "dm_score = cross_val_score(dum_clf, X, Y, cv=5, scoring='accuracy')\n",
    "print('For a dummy classifier, the accuracy is {}  +/- {}'.format( dm_score.mean(), dm_score.std())  )\n"
   ]
  },
  {
   "cell_type": "code",
   "execution_count": 32,
   "metadata": {
    "ExecuteTime": {
     "end_time": "2019-06-23T04:26:24.297851Z",
     "start_time": "2019-06-23T04:26:24.177887Z"
    }
   },
   "outputs": [
    {
     "name": "stdout",
     "output_type": "stream",
     "text": [
      "For SGD, we have: /n\n",
      " The in_score is: 1.0\n",
      " The out_score is: 0.7777777777777778\n",
      "The cross-validated score is 0.664 +/- 0.0496. \n",
      "-------------------------------------------\n",
      "\n",
      "For Ridge clf, we have: /n\n",
      " The in_score is: 1.0\n",
      " The out_score is: 0.6984126984126984\n",
      "The cross-validated score is 0.632 +/- 0.0466. \n",
      "-------------------------------------------\n",
      "\n",
      "For Logistic Regression, we have: /n\n",
      " The in_score is: 1.0\n",
      " The out_score is: 0.8095238095238095\n",
      "The cross-validated score is 0.688 +/- 0.0371. \n"
     ]
    }
   ],
   "source": [
    "from sklearn.linear_model import LogisticRegression, SGDClassifier, RidgeClassifier\n",
    "\n",
    "model = SGDClassifier()\n",
    "model.fit(X_train, Y_train)\n",
    "score = cross_val_score(model, X, Y, cv=5, scoring='accuracy')\n",
    "\n",
    "print('For SGD, we have: /n')\n",
    "print(f\" The in_score is: {model.score(X_train, Y_train)}\" )\n",
    "print(f\" The out_score is: {model.score(X_test, Y_test)}\" )\n",
    "print(f'The cross-validated score is {score.mean():.3} +/- {score.std():.3}. ')\n",
    "print('-------------------------------------------\\n')\n",
    "\n",
    "model = RidgeClassifier()\n",
    "model.fit(X_train, Y_train)\n",
    "score = cross_val_score(model, X, Y, cv=5, scoring='accuracy')\n",
    "\n",
    "print('For Ridge clf, we have: /n')\n",
    "print(f\" The in_score is: {model.score(X_train, Y_train)}\" )\n",
    "print(f\" The out_score is: {model.score(X_test, Y_test)}\" )\n",
    "print(f'The cross-validated score is {score.mean():.3} +/- {score.std():.3}. ')\n",
    "print('-------------------------------------------\\n')\n",
    "\n",
    "model = LogisticRegression()\n",
    "model.fit(X_train, Y_train)\n",
    "score = cross_val_score(model, X, Y, cv=5, scoring='accuracy')\n",
    "\n",
    "print('For Logistic Regression, we have: /n')\n",
    "print(f\" The in_score is: {model.score(X_train, Y_train)}\" )\n",
    "print(f\" The out_score is: {model.score(X_test, Y_test)}\" )\n",
    "print(f'The cross-validated score is {score.mean():.3} +/- {score.std():.3}. ')"
   ]
  },
  {
   "cell_type": "markdown",
   "metadata": {},
   "source": [
    "You can see that none of these model can outperform (at least not significantly) the dummy classifier. \n",
    "Let's try a random forest classifier!"
   ]
  },
  {
   "cell_type": "code",
   "execution_count": 11,
   "metadata": {
    "ExecuteTime": {
     "end_time": "2019-06-22T17:38:16.716645Z",
     "start_time": "2019-06-22T17:38:15.000412Z"
    }
   },
   "outputs": [
    {
     "name": "stdout",
     "output_type": "stream",
     "text": [
      "Wall time: 1.71 s\n"
     ]
    }
   ],
   "source": [
    "%%time\n",
    "from sklearn.ensemble import RandomForestClassifier\n",
    "baseline_model = RandomForestClassifier(n_estimators=500, bootstrap=True, verbose=0)\n",
    "baseline_model.fit(X_train,Y_train)"
   ]
  },
  {
   "cell_type": "code",
   "execution_count": 8,
   "metadata": {
    "ExecuteTime": {
     "end_time": "2019-06-22T17:32:49.546542Z",
     "start_time": "2019-06-22T17:32:40.322513Z"
    }
   },
   "outputs": [
    {
     "name": "stdout",
     "output_type": "stream",
     "text": [
      "For RandomForest, the accuracy is 0.656  +/- 0.014966629547095779\n"
     ]
    }
   ],
   "source": [
    "rf_score = cross_val_score(baseline_model, X, Y, cv=5, scoring='accuracy')\n",
    "print('For RandomForest, the accuracy is {}  +/- {}'.format( rf_score.mean(), rf_score.std())  )"
   ]
  },
  {
   "cell_type": "code",
   "execution_count": 8,
   "metadata": {
    "ExecuteTime": {
     "end_time": "2019-06-22T17:32:49.546542Z",
     "start_time": "2019-06-22T17:32:40.322513Z"
    }
   },
   "outputs": [
    {
     "name": "stdout",
     "output_type": "stream",
     "text": [
      "For RandomForest, the accuracy is 0.656  +/- 0.014966629547095779\n"
     ]
    }
   ],
   "source": [
    "rf_score = cross_val_score(baseline_model, X, Y, cv=5, scoring='accuracy')\n",
    "print('For RandomForest, the accuracy is {}  +/- {}'.format( rf_score.mean(), rf_score.std())  )"
   ]
  },
  {
   "cell_type": "markdown",
   "metadata": {},
   "source": [
    "Almost as bad."
   ]
  },
  {
   "cell_type": "markdown",
   "metadata": {},
   "source": [
    "## Data reduction\n",
    "\n",
    "Clearly, 250 samples is not enough for find a good model, even for a linear model, we need to specify 300 coefficients and we simply don't have enough data. \n",
    "\n",
    "It makes sense to reduce the parameter space. \n",
    "\n",
    "We use a simple reduction based on the coefficients of the linear logistic regression. \n",
    "\n",
    "You probably could use other techniques like important features of  decision tree or PCA."
   ]
  },
  {
   "cell_type": "code",
   "execution_count": 39,
   "metadata": {
    "ExecuteTime": {
     "end_time": "2019-06-23T04:30:57.591984Z",
     "start_time": "2019-06-23T04:30:57.550984Z"
    }
   },
   "outputs": [
    {
     "name": "stdout",
     "output_type": "stream",
     "text": [
      "For RandomForest, the accuracy is 0.7  +/- 0.021908902300206624\n"
     ]
    }
   ],
   "source": [
    "from sklearn.linear_model import LogisticRegression\n",
    "model = LogisticRegression(class_weight='balanced', penalty='l1', C=0.1)\n",
    "model.fit(X_train, Y_train)\n",
    "score = cross_val_score(model, X, Y, cv=5, scoring='accuracy')\n",
    "print('For RandomForest, the accuracy is {}  +/- {}'.format( score.mean(), score.std())  )"
   ]
  },
  {
   "cell_type": "code",
   "execution_count": 40,
   "metadata": {
    "ExecuteTime": {
     "end_time": "2019-06-23T04:30:59.693901Z",
     "start_time": "2019-06-23T04:30:59.687933Z"
    }
   },
   "outputs": [
    {
     "name": "stdout",
     "output_type": "stream",
     "text": [
      "There are 24 non-zero weights.\n"
     ]
    }
   ],
   "source": [
    "ws = model.coef_\n",
    "print(f'There are {len(ws[ws!=0])} non-zero weights.')\n",
    "to_keep_ind = (ws!=0).reshape(-1)"
   ]
  },
  {
   "cell_type": "markdown",
   "metadata": {},
   "source": [
    "This indicates that 34(this could change based on the train and test split) of the coefs would play a role. So we only keep those. This would significantly help up not overfit. "
   ]
  },
  {
   "cell_type": "code",
   "execution_count": 41,
   "metadata": {
    "ExecuteTime": {
     "end_time": "2019-06-23T04:31:11.375110Z",
     "start_time": "2019-06-23T04:31:11.368110Z"
    }
   },
   "outputs": [],
   "source": [
    "X_red = X[:,to_keep_ind]\n",
    "X_red_train, X_red_test, Y_red_train,  Y_red_test = train_test_split(X_red, Y)"
   ]
  },
  {
   "cell_type": "code",
   "execution_count": 42,
   "metadata": {
    "ExecuteTime": {
     "end_time": "2019-06-23T04:31:13.630689Z",
     "start_time": "2019-06-23T04:31:13.607687Z"
    }
   },
   "outputs": [
    {
     "name": "stdout",
     "output_type": "stream",
     "text": [
      "For RandomForest, the accuracy is 0.716  +/- 0.0463033476111609\n"
     ]
    }
   ],
   "source": [
    "# model = RandomForestClassifier(n_estimators=500, bootstrap=True, verbose=0, class_weight='balanced') \n",
    "model = LogisticRegression(class_weight='balanced', penalty='l1', C=0.1, solver='liblinear')\n",
    "model.fit(X_red_train, Y_red_train)\n",
    "score = cross_val_score(model, X_red, Y, cv=5, scoring='accuracy')\n",
    "print('For RandomForest, the accuracy is {}  +/- {}'.format( score.mean(), score.std())  )"
   ]
  },
  {
   "cell_type": "markdown",
   "metadata": {},
   "source": [
    "This improves the performance of a random forest clf to ~75%."
   ]
  },
  {
   "cell_type": "code",
   "execution_count": 43,
   "metadata": {
    "ExecuteTime": {
     "end_time": "2019-06-23T04:31:19.051249Z",
     "start_time": "2019-06-23T04:31:16.859165Z"
    }
   },
   "outputs": [
    {
     "name": "stdout",
     "output_type": "stream",
     "text": [
      "For RandomForest, the accuracy is 0.776  +/- 0.02939387691339813\n"
     ]
    }
   ],
   "source": [
    "from sklearn.ensemble import RandomForestClassifier\n",
    "\n",
    "model = RandomForestClassifier(n_estimators=500, bootstrap=True, verbose=0, class_weight='balanced') \n",
    "# model = LogisticRegression(class_weight='balanced', penalty='l1', C=0.1, solver='liblinear')\n",
    "model.fit(X_red_train, Y_red_train)\n",
    "score = cross_val_score(model, X_red, Y, cv=5, scoring='accuracy')\n",
    "print('For RandomForest, the accuracy is {}  +/- {}'.format( score.mean(), score.std())  )"
   ]
  },
  {
   "cell_type": "code",
   "execution_count": 76,
   "metadata": {
    "ExecuteTime": {
     "end_time": "2019-06-22T17:56:27.725284Z",
     "start_time": "2019-06-22T17:56:27.465986Z"
    }
   },
   "outputs": [
    {
     "name": "stdout",
     "output_type": "stream",
     "text": [
      "_________________________________________________________________\n",
      "Layer (type)                 Output Shape              Param #   \n",
      "=================================================================\n",
      "dense_43 (Dense)             (None, 100)               2500      \n",
      "_________________________________________________________________\n",
      "dropout_30 (Dropout)         (None, 100)               0         \n",
      "_________________________________________________________________\n",
      "dense_44 (Dense)             (None, 50)                5050      \n",
      "_________________________________________________________________\n",
      "dropout_31 (Dropout)         (None, 50)                0         \n",
      "_________________________________________________________________\n",
      "dense_45 (Dense)             (None, 1)                 51        \n",
      "=================================================================\n",
      "Total params: 7,601\n",
      "Trainable params: 7,601\n",
      "Non-trainable params: 0\n",
      "_________________________________________________________________\n"
     ]
    }
   ],
   "source": [
    "nn_model = models.Sequential()\n",
    "nn_model.add( layers.Dense( 100 , activation = 'relu', kernel_regularizer=ks.regularizers.l2(l=0.1)) )\n",
    "nn_model.add(layers.Dropout(.2) )\n",
    "nn_model.add( layers.Dense( 50 , activation = 'relu', kernel_regularizer=ks.regularizers.l2(l=0.1)) )\n",
    "nn_model.add(layers.Dropout(.2) )\n",
    "nn_model.add( layers.Dense( 1 , activation = 'sigmoid') )\n",
    "\n",
    "nn_model.compile(loss = ks.losses.binary_crossentropy, \n",
    "             optimizer = ks.optimizers.Adam(lr = .001))\n",
    "\n",
    "nn_model.metrics = ['accuracy']\n",
    "\n",
    "nn_model.build(input_shape = (None, X_red_test.shape[-1] ) )\n",
    "nn_model.summary()"
   ]
  },
  {
   "cell_type": "code",
   "execution_count": 71,
   "metadata": {
    "ExecuteTime": {
     "end_time": "2019-06-22T17:51:01.447799Z",
     "start_time": "2019-06-22T17:50:41.666877Z"
    }
   },
   "outputs": [
    {
     "name": "stdout",
     "output_type": "stream",
     "text": [
      "Train on 187 samples, validate on 63 samples\n",
      "Epoch 1/50\n",
      "187/187 [==============================] - 3s 14ms/step - loss: 9.7207 - acc: 0.6364 - val_loss: 8.2100 - val_acc: 0.5556\n",
      "Epoch 2/50\n",
      "187/187 [==============================] - 0s 1ms/step - loss: 7.0602 - acc: 0.6791 - val_loss: 5.9399 - val_acc: 0.5714\n",
      "Epoch 3/50\n",
      "187/187 [==============================] - 0s 2ms/step - loss: 5.0842 - acc: 0.6898 - val_loss: 4.3008 - val_acc: 0.5714\n",
      "Epoch 4/50\n",
      "187/187 [==============================] - 0s 2ms/step - loss: 3.6747 - acc: 0.6684 - val_loss: 3.1329 - val_acc: 0.5714\n",
      "Epoch 5/50\n",
      "187/187 [==============================] - 0s 2ms/step - loss: 2.6758 - acc: 0.6738 - val_loss: 2.3187 - val_acc: 0.5714\n",
      "Epoch 6/50\n",
      "187/187 [==============================] - 0s 2ms/step - loss: 1.9787 - acc: 0.6684 - val_loss: 1.7595 - val_acc: 0.5714\n",
      "Epoch 7/50\n",
      "187/187 [==============================] - 0s 2ms/step - loss: 1.5065 - acc: 0.6631 - val_loss: 1.3761 - val_acc: 0.5714\n",
      "Epoch 8/50\n",
      "187/187 [==============================] - 0s 2ms/step - loss: 1.1848 - acc: 0.6631 - val_loss: 1.1244 - val_acc: 0.5714\n",
      "Epoch 9/50\n",
      "187/187 [==============================] - 0s 2ms/step - loss: 0.9734 - acc: 0.6631 - val_loss: 0.9581 - val_acc: 0.5714\n",
      "Epoch 10/50\n",
      "187/187 [==============================] - 0s 2ms/step - loss: 0.8295 - acc: 0.6631 - val_loss: 0.8468 - val_acc: 0.5873\n",
      "Epoch 11/50\n",
      "187/187 [==============================] - 0s 2ms/step - loss: 0.7371 - acc: 0.6684 - val_loss: 0.7717 - val_acc: 0.6032\n",
      "Epoch 12/50\n",
      "187/187 [==============================] - 0s 1ms/step - loss: 0.6684 - acc: 0.7005 - val_loss: 0.7251 - val_acc: 0.6032\n",
      "Epoch 13/50\n",
      "187/187 [==============================] - 0s 2ms/step - loss: 0.6218 - acc: 0.7433 - val_loss: 0.6884 - val_acc: 0.6508\n",
      "Epoch 14/50\n",
      "187/187 [==============================] - 0s 2ms/step - loss: 0.5944 - acc: 0.7807 - val_loss: 0.6716 - val_acc: 0.6825\n",
      "Epoch 15/50\n",
      "187/187 [==============================] - 0s 2ms/step - loss: 0.5705 - acc: 0.7968 - val_loss: 0.6529 - val_acc: 0.6508\n",
      "Epoch 16/50\n",
      "187/187 [==============================] - 0s 2ms/step - loss: 0.5595 - acc: 0.8128 - val_loss: 0.6536 - val_acc: 0.6508\n",
      "Epoch 17/50\n",
      "187/187 [==============================] - 0s 1ms/step - loss: 0.5447 - acc: 0.8289 - val_loss: 0.6336 - val_acc: 0.6825\n",
      "Epoch 18/50\n",
      "187/187 [==============================] - 0s 2ms/step - loss: 0.5399 - acc: 0.8235 - val_loss: 0.6490 - val_acc: 0.6667\n",
      "Epoch 19/50\n",
      "187/187 [==============================] - 0s 1ms/step - loss: 0.5324 - acc: 0.8342 - val_loss: 0.6256 - val_acc: 0.7302\n",
      "Epoch 20/50\n",
      "187/187 [==============================] - 0s 2ms/step - loss: 0.5285 - acc: 0.8449 - val_loss: 0.6182 - val_acc: 0.7143\n",
      "Epoch 21/50\n",
      "187/187 [==============================] - 0s 1ms/step - loss: 0.5257 - acc: 0.8503 - val_loss: 0.6192 - val_acc: 0.7302\n",
      "Epoch 22/50\n",
      "187/187 [==============================] - 0s 1ms/step - loss: 0.5168 - acc: 0.8449 - val_loss: 0.6111 - val_acc: 0.7778\n",
      "Epoch 23/50\n",
      "187/187 [==============================] - 0s 2ms/step - loss: 0.5053 - acc: 0.8449 - val_loss: 0.6214 - val_acc: 0.7302\n",
      "Epoch 24/50\n",
      "187/187 [==============================] - 0s 2ms/step - loss: 0.5147 - acc: 0.8289 - val_loss: 0.6030 - val_acc: 0.7778\n",
      "Epoch 25/50\n",
      "187/187 [==============================] - 0s 1ms/step - loss: 0.5039 - acc: 0.8503 - val_loss: 0.6090 - val_acc: 0.7460\n",
      "Epoch 26/50\n",
      "187/187 [==============================] - 0s 2ms/step - loss: 0.4997 - acc: 0.8396 - val_loss: 0.5981 - val_acc: 0.7937\n",
      "Epoch 27/50\n",
      "187/187 [==============================] - 0s 2ms/step - loss: 0.5067 - acc: 0.8556 - val_loss: 0.6004 - val_acc: 0.7460\n",
      "Epoch 28/50\n",
      "187/187 [==============================] - 0s 1ms/step - loss: 0.4957 - acc: 0.8556 - val_loss: 0.5890 - val_acc: 0.7619\n",
      "Epoch 29/50\n",
      "187/187 [==============================] - 0s 2ms/step - loss: 0.5069 - acc: 0.8449 - val_loss: 0.5889 - val_acc: 0.7778\n",
      "Epoch 30/50\n",
      "187/187 [==============================] - 0s 2ms/step - loss: 0.4930 - acc: 0.8663 - val_loss: 0.5872 - val_acc: 0.7778\n",
      "Epoch 31/50\n",
      "187/187 [==============================] - 0s 2ms/step - loss: 0.4901 - acc: 0.8449 - val_loss: 0.5842 - val_acc: 0.8254\n",
      "Epoch 32/50\n",
      "187/187 [==============================] - 0s 2ms/step - loss: 0.4953 - acc: 0.8770 - val_loss: 0.5972 - val_acc: 0.7778\n",
      "Epoch 33/50\n",
      "187/187 [==============================] - 0s 2ms/step - loss: 0.4808 - acc: 0.8663 - val_loss: 0.5890 - val_acc: 0.7460\n",
      "Epoch 34/50\n",
      "187/187 [==============================] - 0s 2ms/step - loss: 0.4853 - acc: 0.8663 - val_loss: 0.5793 - val_acc: 0.7937\n",
      "Epoch 35/50\n",
      "187/187 [==============================] - 0s 2ms/step - loss: 0.4782 - acc: 0.8610 - val_loss: 0.5855 - val_acc: 0.7778\n",
      "Epoch 36/50\n",
      "187/187 [==============================] - 0s 2ms/step - loss: 0.4646 - acc: 0.8503 - val_loss: 0.5912 - val_acc: 0.7778\n",
      "Epoch 37/50\n",
      "187/187 [==============================] - 0s 2ms/step - loss: 0.4693 - acc: 0.8984 - val_loss: 0.5907 - val_acc: 0.7619\n",
      "Epoch 38/50\n",
      "187/187 [==============================] - 0s 1ms/step - loss: 0.4669 - acc: 0.8610 - val_loss: 0.5723 - val_acc: 0.8095\n",
      "Epoch 39/50\n",
      "187/187 [==============================] - 0s 1ms/step - loss: 0.4832 - acc: 0.8556 - val_loss: 0.5890 - val_acc: 0.8095\n",
      "Epoch 40/50\n",
      "187/187 [==============================] - 0s 2ms/step - loss: 0.4749 - acc: 0.8610 - val_loss: 0.5779 - val_acc: 0.8095\n",
      "Epoch 41/50\n",
      "187/187 [==============================] - 0s 2ms/step - loss: 0.4581 - acc: 0.8717 - val_loss: 0.5845 - val_acc: 0.7937\n",
      "Epoch 42/50\n",
      "187/187 [==============================] - 0s 2ms/step - loss: 0.4665 - acc: 0.8503 - val_loss: 0.5740 - val_acc: 0.7778\n",
      "Epoch 43/50\n",
      "187/187 [==============================] - 0s 2ms/step - loss: 0.4577 - acc: 0.8717 - val_loss: 0.5924 - val_acc: 0.7937\n",
      "Epoch 44/50\n",
      "187/187 [==============================] - 0s 1ms/step - loss: 0.4607 - acc: 0.8770 - val_loss: 0.5953 - val_acc: 0.7937\n",
      "Epoch 45/50\n",
      "187/187 [==============================] - 0s 1ms/step - loss: 0.4599 - acc: 0.8717 - val_loss: 0.5804 - val_acc: 0.7937\n",
      "Epoch 46/50\n",
      "187/187 [==============================] - 0s 1ms/step - loss: 0.4533 - acc: 0.8877 - val_loss: 0.5748 - val_acc: 0.8095\n",
      "Epoch 47/50\n",
      "187/187 [==============================] - 0s 1ms/step - loss: 0.4691 - acc: 0.8556 - val_loss: 0.5744 - val_acc: 0.8095\n",
      "Epoch 48/50\n",
      "187/187 [==============================] - 0s 1ms/step - loss: 0.4700 - acc: 0.8556 - val_loss: 0.5706 - val_acc: 0.7937\n",
      "Epoch 49/50\n",
      "187/187 [==============================] - 0s 1ms/step - loss: 0.4709 - acc: 0.8717 - val_loss: 0.5616 - val_acc: 0.8095\n",
      "Epoch 50/50\n",
      "187/187 [==============================] - 0s 1ms/step - loss: 0.4520 - acc: 0.8717 - val_loss: 0.5882 - val_acc: 0.7937\n"
     ]
    },
    {
     "data": {
      "image/png": "[encoded data removed]",
      "text/plain": [
       "<Figure size 936x360 with 2 Axes>"
      ]
     },
     "metadata": {
      "needs_background": "light"
     },
     "output_type": "display_data"
    },
    {
     "name": "stdout",
     "output_type": "stream",
     "text": [
      "Wall time: 19.8 s\n"
     ]
    }
   ],
   "source": [
    "%%time\n",
    "history = nn_model.fit(X_red_train, Y_red_train, batch_size= 8, \n",
    "                      epochs=50, \n",
    "#                        verbose = 0, \n",
    "                      validation_data=(X_red_test, Y_red_test) )\n",
    "\n",
    "history_plot(history)"
   ]
  },
  {
   "cell_type": "code",
   "execution_count": 25,
   "metadata": {
    "ExecuteTime": {
     "end_time": "2019-06-22T17:41:59.225644Z",
     "start_time": "2019-06-22T17:41:58.763394Z"
    }
   },
   "outputs": [],
   "source": [
    "nn_model.save('exam_secIII.hd5')\n",
    "np.save('to_keep_ind', to_keep_ind)"
   ]
  },
  {
   "cell_type": "markdown",
   "metadata": {},
   "source": [
    "This clearly is still overfitting, but at least the validation score is around 80%."
   ]
  },
  {
   "cell_type": "markdown",
   "metadata": {},
   "source": [
    "## Bootstrapping"
   ]
  },
  {
   "cell_type": "code",
   "execution_count": 74,
   "metadata": {
    "ExecuteTime": {
     "end_time": "2019-06-22T17:53:17.233971Z",
     "start_time": "2019-06-22T17:53:17.224988Z"
    }
   },
   "outputs": [],
   "source": [
    "'''\n",
    "But we can do a lot better. The main challenge is that we don't have enough data, so we can more by bootstrapping. \n",
    "'''\n",
    "from sklearn.utils import resample\n",
    "X_bts, Y_bts = resample( X_red, Y, n_samples=1000)\n",
    "\n",
    "from sklearn.model_selection import train_test_split\n",
    "X_bts_train, X_bts_test, Y_bts_train,  Y_bts_test = train_test_split(X_bts, Y_bts, random_state=0)"
   ]
  },
  {
   "cell_type": "code",
   "execution_count": 77,
   "metadata": {
    "ExecuteTime": {
     "end_time": "2019-06-22T17:58:59.144369Z",
     "start_time": "2019-06-22T17:56:38.827287Z"
    }
   },
   "outputs": [
    {
     "name": "stdout",
     "output_type": "stream",
     "text": [
      "Train on 750 samples, validate on 250 samples\n",
      "Epoch 1/100\n",
      "750/750 [==============================] - 4s 5ms/step - loss: 6.6175 - acc: 0.6387 - val_loss: 3.3183 - val_acc: 0.6920\n",
      "Epoch 2/100\n",
      "750/750 [==============================] - 1s 2ms/step - loss: 2.0110 - acc: 0.6427 - val_loss: 1.1483 - val_acc: 0.6920\n",
      "Epoch 3/100\n",
      "750/750 [==============================] - 2s 2ms/step - loss: 0.8691 - acc: 0.6587 - val_loss: 0.6583 - val_acc: 0.7800\n",
      "Epoch 4/100\n",
      "750/750 [==============================] - 1s 2ms/step - loss: 0.6164 - acc: 0.7560 - val_loss: 0.5573 - val_acc: 0.8480\n",
      "Epoch 5/100\n",
      "750/750 [==============================] - 2s 2ms/step - loss: 0.5548 - acc: 0.8253 - val_loss: 0.5213 - val_acc: 0.8520\n",
      "Epoch 6/100\n",
      "750/750 [==============================] - 2s 2ms/step - loss: 0.5314 - acc: 0.8360 - val_loss: 0.5052 - val_acc: 0.8560\n",
      "Epoch 7/100\n",
      "750/750 [==============================] - 2s 2ms/step - loss: 0.5113 - acc: 0.8587 - val_loss: 0.4953 - val_acc: 0.8440\n",
      "Epoch 8/100\n",
      "750/750 [==============================] - 2s 2ms/step - loss: 0.5033 - acc: 0.8493 - val_loss: 0.4676 - val_acc: 0.8600\n",
      "Epoch 9/100\n",
      "750/750 [==============================] - 2s 2ms/step - loss: 0.4967 - acc: 0.8573 - val_loss: 0.4732 - val_acc: 0.8480\n",
      "Epoch 10/100\n",
      "750/750 [==============================] - 1s 2ms/step - loss: 0.4825 - acc: 0.8613 - val_loss: 0.4748 - val_acc: 0.8440\n",
      "Epoch 11/100\n",
      "750/750 [==============================] - 1s 2ms/step - loss: 0.4787 - acc: 0.8707 - val_loss: 0.4602 - val_acc: 0.8600\n",
      "Epoch 12/100\n",
      "750/750 [==============================] - 1s 2ms/step - loss: 0.4665 - acc: 0.8653 - val_loss: 0.4657 - val_acc: 0.8480\n",
      "Epoch 13/100\n",
      "750/750 [==============================] - 2s 2ms/step - loss: 0.4613 - acc: 0.8693 - val_loss: 0.4444 - val_acc: 0.8640\n",
      "Epoch 14/100\n",
      "750/750 [==============================] - 2s 2ms/step - loss: 0.4610 - acc: 0.8760 - val_loss: 0.4393 - val_acc: 0.8640\n",
      "Epoch 15/100\n",
      "750/750 [==============================] - 2s 2ms/step - loss: 0.4601 - acc: 0.8600 - val_loss: 0.4377 - val_acc: 0.8800\n",
      "Epoch 16/100\n",
      "750/750 [==============================] - 1s 2ms/step - loss: 0.4542 - acc: 0.8787 - val_loss: 0.4305 - val_acc: 0.8800\n",
      "Epoch 17/100\n",
      "750/750 [==============================] - 1s 1ms/step - loss: 0.4508 - acc: 0.8707 - val_loss: 0.4322 - val_acc: 0.8920\n",
      "Epoch 18/100\n",
      "750/750 [==============================] - 1s 2ms/step - loss: 0.4372 - acc: 0.8813 - val_loss: 0.4278 - val_acc: 0.8960\n",
      "Epoch 19/100\n",
      "750/750 [==============================] - 1s 2ms/step - loss: 0.4434 - acc: 0.8853 - val_loss: 0.4149 - val_acc: 0.8920\n",
      "Epoch 20/100\n",
      "750/750 [==============================] - 1s 2ms/step - loss: 0.4373 - acc: 0.8840 - val_loss: 0.4216 - val_acc: 0.8800\n",
      "Epoch 21/100\n",
      "750/750 [==============================] - 1s 2ms/step - loss: 0.4394 - acc: 0.8920 - val_loss: 0.4230 - val_acc: 0.8800\n",
      "Epoch 22/100\n",
      "750/750 [==============================] - 1s 2ms/step - loss: 0.4205 - acc: 0.9000 - val_loss: 0.4059 - val_acc: 0.9120\n",
      "Epoch 23/100\n",
      "750/750 [==============================] - 1s 2ms/step - loss: 0.4243 - acc: 0.8933 - val_loss: 0.4145 - val_acc: 0.8920\n",
      "Epoch 24/100\n",
      "750/750 [==============================] - 1s 2ms/step - loss: 0.4221 - acc: 0.8947 - val_loss: 0.4042 - val_acc: 0.9080\n",
      "Epoch 25/100\n",
      "750/750 [==============================] - 1s 2ms/step - loss: 0.4217 - acc: 0.8933 - val_loss: 0.4207 - val_acc: 0.9040\n",
      "Epoch 26/100\n",
      "750/750 [==============================] - 2s 2ms/step - loss: 0.4162 - acc: 0.9000 - val_loss: 0.4071 - val_acc: 0.8920\n",
      "Epoch 27/100\n",
      "750/750 [==============================] - 1s 2ms/step - loss: 0.4056 - acc: 0.8947 - val_loss: 0.4045 - val_acc: 0.8920\n",
      "Epoch 28/100\n",
      "750/750 [==============================] - 1s 2ms/step - loss: 0.4098 - acc: 0.9200 - val_loss: 0.4081 - val_acc: 0.8840\n",
      "Epoch 29/100\n",
      "750/750 [==============================] - 1s 2ms/step - loss: 0.4151 - acc: 0.8987 - val_loss: 0.3965 - val_acc: 0.9200\n",
      "Epoch 30/100\n",
      "750/750 [==============================] - 1s 2ms/step - loss: 0.3997 - acc: 0.9040 - val_loss: 0.3852 - val_acc: 0.9280\n",
      "Epoch 31/100\n",
      "750/750 [==============================] - 1s 2ms/step - loss: 0.3925 - acc: 0.9147 - val_loss: 0.3918 - val_acc: 0.9280\n",
      "Epoch 32/100\n",
      "750/750 [==============================] - 1s 2ms/step - loss: 0.4011 - acc: 0.9093 - val_loss: 0.3802 - val_acc: 0.9240\n",
      "Epoch 33/100\n",
      "750/750 [==============================] - 2s 2ms/step - loss: 0.3906 - acc: 0.9173 - val_loss: 0.3887 - val_acc: 0.9120\n",
      "Epoch 34/100\n",
      "750/750 [==============================] - 1s 1ms/step - loss: 0.3986 - acc: 0.9093 - val_loss: 0.3867 - val_acc: 0.9200\n",
      "Epoch 35/100\n",
      "750/750 [==============================] - 1s 1ms/step - loss: 0.3848 - acc: 0.9173 - val_loss: 0.3982 - val_acc: 0.9080\n",
      "Epoch 36/100\n",
      "750/750 [==============================] - 1s 2ms/step - loss: 0.3895 - acc: 0.9240 - val_loss: 0.3642 - val_acc: 0.9440\n",
      "Epoch 37/100\n",
      "750/750 [==============================] - ETA: 0s - loss: 0.3810 - acc: 0.925 - 1s 1ms/step - loss: 0.3838 - acc: 0.9227 - val_loss: 0.3634 - val_acc: 0.9480\n",
      "Epoch 38/100\n",
      "750/750 [==============================] - 1s 1ms/step - loss: 0.3813 - acc: 0.9280 - val_loss: 0.3681 - val_acc: 0.9280\n",
      "Epoch 39/100\n",
      "750/750 [==============================] - 1s 1ms/step - loss: 0.3753 - acc: 0.9200 - val_loss: 0.3660 - val_acc: 0.9200\n",
      "Epoch 40/100\n",
      "750/750 [==============================] - 1s 1ms/step - loss: 0.3801 - acc: 0.9160 - val_loss: 0.3791 - val_acc: 0.9320\n",
      "Epoch 41/100\n",
      "750/750 [==============================] - 1s 1ms/step - loss: 0.3763 - acc: 0.9213 - val_loss: 0.3607 - val_acc: 0.9320\n",
      "Epoch 42/100\n",
      "750/750 [==============================] - 1s 1ms/step - loss: 0.3764 - acc: 0.9187 - val_loss: 0.3743 - val_acc: 0.9200\n",
      "Epoch 43/100\n",
      "750/750 [==============================] - 1s 2ms/step - loss: 0.3775 - acc: 0.9147 - val_loss: 0.3595 - val_acc: 0.9280\n",
      "Epoch 44/100\n",
      "750/750 [==============================] - 1s 1ms/step - loss: 0.3646 - acc: 0.9253 - val_loss: 0.3516 - val_acc: 0.9320\n",
      "Epoch 45/100\n",
      "750/750 [==============================] - 1s 1ms/step - loss: 0.3638 - acc: 0.9320 - val_loss: 0.3622 - val_acc: 0.9360\n",
      "Epoch 46/100\n",
      "750/750 [==============================] - 1s 1ms/step - loss: 0.3609 - acc: 0.9253 - val_loss: 0.3559 - val_acc: 0.9320\n",
      "Epoch 47/100\n",
      "750/750 [==============================] - 1s 1ms/step - loss: 0.3673 - acc: 0.9293 - val_loss: 0.3551 - val_acc: 0.9320\n",
      "Epoch 48/100\n",
      "750/750 [==============================] - 1s 1ms/step - loss: 0.3655 - acc: 0.9253 - val_loss: 0.3656 - val_acc: 0.9240\n",
      "Epoch 49/100\n",
      "750/750 [==============================] - 1s 1ms/step - loss: 0.3611 - acc: 0.9253 - val_loss: 0.3750 - val_acc: 0.9000\n",
      "Epoch 50/100\n",
      "750/750 [==============================] - 1s 1ms/step - loss: 0.3578 - acc: 0.9307 - val_loss: 0.3358 - val_acc: 0.9480\n",
      "Epoch 51/100\n",
      "750/750 [==============================] - 1s 1ms/step - loss: 0.3531 - acc: 0.9240 - val_loss: 0.3517 - val_acc: 0.9600\n",
      "Epoch 52/100\n",
      "750/750 [==============================] - 1s 1ms/step - loss: 0.3650 - acc: 0.9280 - val_loss: 0.3538 - val_acc: 0.9280\n",
      "Epoch 53/100\n",
      "750/750 [==============================] - 1s 1ms/step - loss: 0.3517 - acc: 0.9307 - val_loss: 0.3534 - val_acc: 0.9440\n",
      "Epoch 54/100\n",
      "750/750 [==============================] - 1s 1ms/step - loss: 0.3448 - acc: 0.9373 - val_loss: 0.3425 - val_acc: 0.9560\n",
      "Epoch 55/100\n",
      "750/750 [==============================] - 1s 1ms/step - loss: 0.3495 - acc: 0.9307 - val_loss: 0.3343 - val_acc: 0.9560\n",
      "Epoch 56/100\n",
      "750/750 [==============================] - 1s 1ms/step - loss: 0.3316 - acc: 0.9373 - val_loss: 0.3324 - val_acc: 0.9560\n",
      "Epoch 57/100\n",
      "750/750 [==============================] - 1s 1ms/step - loss: 0.3441 - acc: 0.9387 - val_loss: 0.3523 - val_acc: 0.9360\n",
      "Epoch 58/100\n",
      "750/750 [==============================] - 1s 1ms/step - loss: 0.3396 - acc: 0.9427 - val_loss: 0.3374 - val_acc: 0.9200\n",
      "Epoch 59/100\n",
      "750/750 [==============================] - 1s 1ms/step - loss: 0.3498 - acc: 0.9280 - val_loss: 0.3419 - val_acc: 0.9480\n",
      "Epoch 60/100\n",
      "750/750 [==============================] - 1s 1ms/step - loss: 0.3425 - acc: 0.9307 - val_loss: 0.3371 - val_acc: 0.9440\n",
      "Epoch 61/100\n",
      "750/750 [==============================] - 1s 2ms/step - loss: 0.3358 - acc: 0.9413 - val_loss: 0.3242 - val_acc: 0.9600\n",
      "Epoch 62/100\n",
      "750/750 [==============================] - 2s 2ms/step - loss: 0.3205 - acc: 0.9533 - val_loss: 0.3224 - val_acc: 0.9640\n",
      "Epoch 63/100\n",
      "750/750 [==============================] - 2s 3ms/step - loss: 0.3302 - acc: 0.9427 - val_loss: 0.3273 - val_acc: 0.9600\n",
      "Epoch 64/100\n",
      "750/750 [==============================] - 2s 2ms/step - loss: 0.3355 - acc: 0.9347 - val_loss: 0.3282 - val_acc: 0.9520\n",
      "Epoch 65/100\n",
      "750/750 [==============================] - 2s 2ms/step - loss: 0.3254 - acc: 0.9467 - val_loss: 0.3206 - val_acc: 0.9400\n",
      "Epoch 66/100\n",
      "750/750 [==============================] - 2s 2ms/step - loss: 0.3288 - acc: 0.9520 - val_loss: 0.3145 - val_acc: 0.9440\n",
      "Epoch 67/100\n",
      "750/750 [==============================] - 2s 2ms/step - loss: 0.3325 - acc: 0.9387 - val_loss: 0.3299 - val_acc: 0.9400\n",
      "Epoch 68/100\n",
      "750/750 [==============================] - 2s 2ms/step - loss: 0.3275 - acc: 0.9507 - val_loss: 0.3280 - val_acc: 0.9520\n",
      "Epoch 69/100\n",
      "750/750 [==============================] - 2s 2ms/step - loss: 0.3289 - acc: 0.9427 - val_loss: 0.3274 - val_acc: 0.9520\n",
      "Epoch 70/100\n",
      "750/750 [==============================] - 2s 2ms/step - loss: 0.3159 - acc: 0.9427 - val_loss: 0.3423 - val_acc: 0.9440\n",
      "Epoch 71/100\n",
      "750/750 [==============================] - 2s 2ms/step - loss: 0.3128 - acc: 0.9547 - val_loss: 0.3194 - val_acc: 0.9440\n",
      "Epoch 72/100\n",
      "750/750 [==============================] - 2s 2ms/step - loss: 0.3217 - acc: 0.9467 - val_loss: 0.3171 - val_acc: 0.9200\n",
      "Epoch 73/100\n",
      "750/750 [==============================] - 2s 2ms/step - loss: 0.3292 - acc: 0.9413 - val_loss: 0.3275 - val_acc: 0.9600\n",
      "Epoch 74/100\n",
      "750/750 [==============================] - 2s 2ms/step - loss: 0.3190 - acc: 0.9453 - val_loss: 0.3207 - val_acc: 0.9440\n",
      "Epoch 75/100\n",
      "750/750 [==============================] - 2s 2ms/step - loss: 0.3162 - acc: 0.9560 - val_loss: 0.3292 - val_acc: 0.9440\n",
      "Epoch 76/100\n",
      "750/750 [==============================] - 2s 2ms/step - loss: 0.3006 - acc: 0.9547 - val_loss: 0.3091 - val_acc: 0.9600\n",
      "Epoch 77/100\n",
      "750/750 [==============================] - 2s 2ms/step - loss: 0.3020 - acc: 0.9573 - val_loss: 0.3218 - val_acc: 0.9240\n",
      "Epoch 78/100\n",
      "750/750 [==============================] - 2s 2ms/step - loss: 0.3290 - acc: 0.9320 - val_loss: 0.3236 - val_acc: 0.9360\n",
      "Epoch 79/100\n",
      "750/750 [==============================] - 2s 2ms/step - loss: 0.3066 - acc: 0.9467 - val_loss: 0.3205 - val_acc: 0.9520\n",
      "Epoch 80/100\n",
      "750/750 [==============================] - 2s 2ms/step - loss: 0.3119 - acc: 0.9427 - val_loss: 0.3065 - val_acc: 0.9600\n",
      "Epoch 81/100\n",
      "750/750 [==============================] - 2s 2ms/step - loss: 0.3085 - acc: 0.9480 - val_loss: 0.3273 - val_acc: 0.9600\n",
      "Epoch 82/100\n",
      "750/750 [==============================] - 1s 2ms/step - loss: 0.3104 - acc: 0.9480 - val_loss: 0.3024 - val_acc: 0.9560\n",
      "Epoch 83/100\n",
      "750/750 [==============================] - 1s 1ms/step - loss: 0.3086 - acc: 0.9453 - val_loss: 0.3131 - val_acc: 0.9560\n",
      "Epoch 84/100\n",
      "750/750 [==============================] - 1s 2ms/step - loss: 0.3032 - acc: 0.9507 - val_loss: 0.3204 - val_acc: 0.9520\n",
      "Epoch 85/100\n",
      "750/750 [==============================] - 1s 1ms/step - loss: 0.2967 - acc: 0.9587 - val_loss: 0.3015 - val_acc: 0.9520\n",
      "Epoch 86/100\n",
      "750/750 [==============================] - 1s 1ms/step - loss: 0.2957 - acc: 0.9600 - val_loss: 0.3162 - val_acc: 0.9400\n",
      "Epoch 87/100\n",
      "750/750 [==============================] - 1s 1ms/step - loss: 0.2882 - acc: 0.9573 - val_loss: 0.3193 - val_acc: 0.9440\n",
      "Epoch 88/100\n",
      "750/750 [==============================] - 1s 1ms/step - loss: 0.2929 - acc: 0.9520 - val_loss: 0.3012 - val_acc: 0.9600\n",
      "Epoch 89/100\n",
      "750/750 [==============================] - 1s 2ms/step - loss: 0.3039 - acc: 0.9493 - val_loss: 0.3167 - val_acc: 0.9600\n",
      "Epoch 90/100\n",
      "750/750 [==============================] - 1s 1ms/step - loss: 0.2870 - acc: 0.9600 - val_loss: 0.3109 - val_acc: 0.9640\n",
      "Epoch 91/100\n",
      "750/750 [==============================] - 1s 2ms/step - loss: 0.2799 - acc: 0.9627 - val_loss: 0.2992 - val_acc: 0.9640\n",
      "Epoch 92/100\n",
      "750/750 [==============================] - 1s 1ms/step - loss: 0.2859 - acc: 0.9547 - val_loss: 0.3004 - val_acc: 0.9600\n",
      "Epoch 93/100\n",
      "750/750 [==============================] - 1s 1ms/step - loss: 0.2841 - acc: 0.9707 - val_loss: 0.3254 - val_acc: 0.9400\n",
      "Epoch 94/100\n",
      "750/750 [==============================] - 1s 1ms/step - loss: 0.2964 - acc: 0.9600 - val_loss: 0.3118 - val_acc: 0.9600\n",
      "Epoch 95/100\n",
      "750/750 [==============================] - 1s 1ms/step - loss: 0.2866 - acc: 0.9587 - val_loss: 0.2995 - val_acc: 0.9680\n",
      "Epoch 96/100\n",
      "750/750 [==============================] - 1s 2ms/step - loss: 0.2845 - acc: 0.9547 - val_loss: 0.3171 - val_acc: 0.9440\n",
      "Epoch 97/100\n",
      "750/750 [==============================] - 1s 1ms/step - loss: 0.2803 - acc: 0.9653 - val_loss: 0.2924 - val_acc: 0.9600\n",
      "Epoch 98/100\n",
      "750/750 [==============================] - 1s 1ms/step - loss: 0.2837 - acc: 0.9587 - val_loss: 0.3112 - val_acc: 0.9600\n",
      "Epoch 99/100\n",
      "750/750 [==============================] - 1s 1ms/step - loss: 0.2813 - acc: 0.9573 - val_loss: 0.2847 - val_acc: 0.9680\n",
      "Epoch 100/100\n",
      "750/750 [==============================] - 1s 1ms/step - loss: 0.2781 - acc: 0.9573 - val_loss: 0.2877 - val_acc: 0.9600\n"
     ]
    },
    {
     "data": {
      "image/png": "[encoded data removed]",
      "text/plain": [
       "<Figure size 936x360 with 2 Axes>"
      ]
     },
     "metadata": {
      "needs_background": "light"
     },
     "output_type": "display_data"
    },
    {
     "name": "stdout",
     "output_type": "stream",
     "text": [
      "Wall time: 2min 20s\n"
     ]
    }
   ],
   "source": [
    "%%time\n",
    "history = nn_model.fit(X_bts_train, Y_bts_train, batch_size= 8, \n",
    "                      epochs=100, \n",
    "#                        verbose = 0, \n",
    "                      validation_data=(X_bts_test, Y_bts_test) )\n",
    "\n",
    "history_plot(history)"
   ]
  },
  {
   "cell_type": "code",
   "execution_count": 78,
   "metadata": {
    "ExecuteTime": {
     "end_time": "2019-06-22T17:59:12.506221Z",
     "start_time": "2019-06-22T17:59:10.394833Z"
    }
   },
   "outputs": [],
   "source": [
    "nn_model.save('exam_secIII_bts.hd5')"
   ]
  },
  {
   "cell_type": "markdown",
   "metadata": {},
   "source": [
    "This takes us to above 95% with just some simple ideas that we covered in our course. \n",
    "\n",
    "I hope you had fun!"
   ]
  }
 ],
 "metadata": {
  "kernelspec": {
   "display_name": "Python 3",
   "language": "python",
   "name": "python3"
  },
  "language_info": {
   "codemirror_mode": {
    "name": "ipython",
    "version": 3
   },
   "file_extension": ".py",
   "mimetype": "text/x-python",
   "name": "python",
   "nbconvert_exporter": "python",
   "pygments_lexer": "ipython3",
   "version": "3.6.8"
  },
  "latex_envs": {
   "LaTeX_envs_menu_present": true,
   "autoclose": false,
   "autocomplete": true,
   "bibliofile": "biblio.bib",
   "cite_by": "apalike",
   "current_citInitial": 1,
   "eqLabelWithNumbers": true,
   "eqNumInitial": 1,
   "hotkeys": {
    "equation": "Ctrl-E",
    "itemize": "Ctrl-I"
   },
   "labels_anchors": false,
   "latex_user_defs": false,
   "report_style_numbering": false,
   "user_envs_cfg": false
  },
  "toc": {
   "base_numbering": 1,
   "nav_menu": {},
   "number_sections": true,
   "sideBar": true,
   "skip_h1_title": false,
   "title_cell": "Table of Contents",
   "title_sidebar": "Contents",
   "toc_cell": false,
   "toc_position": {},
   "toc_section_display": true,
   "toc_window_display": false
  },
  "varInspector": {
   "cols": {
    "lenName": 16,
    "lenType": 16,
    "lenVar": 40
   },
   "kernels_config": {
    "python": {
     "delete_cmd_postfix": "",
     "delete_cmd_prefix": "del ",
     "library": "var_list.py",
     "varRefreshCmd": "print(var_dic_list())"
    },
    "r": {
     "delete_cmd_postfix": ") ",
     "delete_cmd_prefix": "rm(",
     "library": "var_list.r",
     "varRefreshCmd": "cat(var_dic_list()) "
    }
   },
   "types_to_exclude": [
    "module",
    "function",
    "builtin_function_or_method",
    "instance",
    "_Feature"
   ],
   "window_display": false
  }
 },
 "nbformat": 4,
 "nbformat_minor": 2
}
