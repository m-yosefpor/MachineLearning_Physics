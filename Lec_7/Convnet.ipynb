{
  "nbformat": 4,
  "nbformat_minor": 0,
  "metadata": {
    "colab": {
      "name": "Convnet.ipynb",
      "version": "0.3.2",
      "provenance": [],
      "collapsed_sections": [],
      "include_colab_link": true
    },
    "kernelspec": {
      "name": "python3",
      "display_name": "Python 3"
    },
    "accelerator": "GPU"
  },
  "cells": [
    {
      "cell_type": "markdown",
      "metadata": {
        "id": "view-in-github",
        "colab_type": "text"
      },
      "source": [
        "<a href=\"https://colab.research.google.com/github/sraeisi/MachineLearning_Physics/blob/master/Lec_7/Convnet.ipynb\" target=\"_parent\"><img src=\"https://colab.research.google.com/assets/colab-badge.svg\" alt=\"Open In Colab\"/></a>"
      ]
    },
    {
      "cell_type": "code",
      "metadata": {
        "id": "XyaKzVDuXLmF",
        "colab_type": "code",
        "colab": {}
      },
      "source": [
        "import numpy as np\n",
        "import matplotlib.pyplot as plt\n",
        "\n",
        "# TensorFlow and tf.keras\n",
        "import tensorflow as tf\n",
        "from tensorflow import keras\n",
        "\n",
        "import requests\n",
        "import io"
      ],
      "execution_count": 0,
      "outputs": []
    },
    {
      "cell_type": "markdown",
      "metadata": {
        "id": "vPUjDX8ABoGc",
        "colab_type": "text"
      },
      "source": [
        "## Farsi Hand-written digits classification"
      ]
    },
    {
      "cell_type": "code",
      "metadata": {
        "id": "FE54NJdSXplU",
        "colab_type": "code",
        "colab": {}
      },
      "source": [
        "'''\n",
        "Let's import the Farsi digits (your assignment)\n",
        "'''\n",
        "\n",
        "url = 'https://raw.githubusercontent.com/sraeisi/MachineLearning_Physics/master/Assignments/A3/X.npz'\n",
        "s=requests.get(url, stream=True).content\n",
        "X = np.load(io.BytesIO(s) )['arr_0']\n",
        "url = 'https://raw.githubusercontent.com/sraeisi/MachineLearning_Physics/master/Assignments/A3/Y.npz'\n",
        "s=requests.get(url, stream=True).content\n",
        "Y = np.load(io.BytesIO(s) )['arr_0']\n",
        "\n",
        "from sklearn.utils import shuffle\n",
        "X, Y = shuffle(X,Y, random_state = 0 )"
      ],
      "execution_count": 0,
      "outputs": []
    },
    {
      "cell_type": "code",
      "metadata": {
        "id": "ldLimT4BXqVg",
        "colab_type": "code",
        "outputId": "60b8b7f9-bfa7-4229-ed56-ea5a0ed31210",
        "colab": {
          "base_uri": "https://localhost:8080/",
          "height": 34
        }
      },
      "source": [
        "print('Each image is of the form: {}'.format(X[0].shape ) )"
      ],
      "execution_count": 0,
      "outputs": [
        {
          "output_type": "stream",
          "text": [
            "Each image is of the form: (32, 32)\n"
          ],
          "name": "stdout"
        }
      ]
    },
    {
      "cell_type": "code",
      "metadata": {
        "id": "WSXG5PFOXtQC",
        "colab_type": "code",
        "outputId": "2332890a-efc6-4b55-e017-916f52a5ccb5",
        "colab": {
          "base_uri": "https://localhost:8080/",
          "height": 238
        }
      },
      "source": [
        "model = keras.Sequential([\n",
        "    keras.layers.Flatten(input_shape=(32, 32)),\n",
        "    keras.layers.Dense(128, activation=tf.nn.relu),\n",
        "    keras.layers.Dense(10, activation=tf.nn.softmax)\n",
        "])\n",
        "\n",
        "from keras import layers\n",
        "from keras import models\n",
        "\n",
        "model = models.Sequential()\n",
        "model.add(layers.Flatten(input_shape=(n_w , n_h) ))\n",
        "model.add(layers.Dense(128, activation='relu'))\n",
        "model.add(layers.Dense(10, activation='softmax'))\n",
        "\n",
        "model.summary()\n"
      ],
      "execution_count": 0,
      "outputs": [
        {
          "output_type": "stream",
          "text": [
            "_________________________________________________________________\n",
            "Layer (type)                 Output Shape              Param #   \n",
            "=================================================================\n",
            "flatten_6 (Flatten)          (None, 1024)              0         \n",
            "_________________________________________________________________\n",
            "dense_11 (Dense)             (None, 128)               131200    \n",
            "_________________________________________________________________\n",
            "dense_12 (Dense)             (None, 10)                1290      \n",
            "=================================================================\n",
            "Total params: 132,490\n",
            "Trainable params: 132,490\n",
            "Non-trainable params: 0\n",
            "_________________________________________________________________\n"
          ],
          "name": "stdout"
        }
      ]
    },
    {
      "cell_type": "code",
      "metadata": {
        "id": "FyNX5FJRXx9V",
        "colab_type": "code",
        "colab": {}
      },
      "source": [
        "from sklearn.model_selection import train_test_split\n",
        "from sklearn.metrics import confusion_matrix\n",
        "\n",
        "X_train, X_test, Y_train, Y_test = train_test_split(X, Y, random_state=0)"
      ],
      "execution_count": 0,
      "outputs": []
    },
    {
      "cell_type": "code",
      "metadata": {
        "id": "RPYBp6g9Xy23",
        "colab_type": "code",
        "outputId": "1dced5be-f287-4514-f666-7c38073cc5df",
        "colab": {
          "base_uri": "https://localhost:8080/",
          "height": 204
        }
      },
      "source": [
        "model.compile(optimizer='adam', \n",
        "              loss='sparse_categorical_crossentropy',\n",
        "              metrics=['accuracy'])\n",
        "\n",
        "history = model.fit(X_train,Y_train, \n",
        "                    epochs=5, batch_size = 64, \n",
        "                   validation_data = (X_test, Y_test))"
      ],
      "execution_count": 0,
      "outputs": [
        {
          "output_type": "stream",
          "text": [
            "Train on 76764 samples, validate on 25588 samples\n",
            "Epoch 1/5\n",
            "76764/76764 [==============================] - 4s 55us/sample - loss: 0.0328 - acc: 0.9903 - val_loss: 0.0532 - val_acc: 0.9844\n",
            "Epoch 2/5\n",
            "76764/76764 [==============================] - 4s 55us/sample - loss: 0.0224 - acc: 0.9930 - val_loss: 0.0527 - val_acc: 0.9848\n",
            "Epoch 3/5\n",
            "76764/76764 [==============================] - 4s 48us/sample - loss: 0.0169 - acc: 0.9949 - val_loss: 0.0501 - val_acc: 0.9855\n",
            "Epoch 4/5\n",
            "76764/76764 [==============================] - 4s 48us/sample - loss: 0.0118 - acc: 0.9961 - val_loss: 0.0564 - val_acc: 0.9869\n",
            "Epoch 5/5\n",
            "76764/76764 [==============================] - 4s 48us/sample - loss: 0.0091 - acc: 0.9973 - val_loss: 0.0520 - val_acc: 0.9870\n"
          ],
          "name": "stdout"
        }
      ]
    },
    {
      "cell_type": "code",
      "metadata": {
        "id": "soJviX78X19-",
        "colab_type": "code",
        "outputId": "faf10bec-b255-42a1-f928-52c2b3916c4f",
        "colab": {
          "base_uri": "https://localhost:8080/",
          "height": 187
        }
      },
      "source": [
        "Y_predicted = np.argmax( model.predict(X_test) , axis=1 )\n",
        "cm = confusion_matrix(Y_test, Y_predicted)\n",
        "print(cm)"
      ],
      "execution_count": 0,
      "outputs": [
        {
          "output_type": "stream",
          "text": [
            "[[2518    0    0    0    2   14    0    1    1    0]\n",
            " [   1 2501    3    0    1    0    3    0    0    2]\n",
            " [   2    8 2458   16    7    0    2    6    0    1]\n",
            " [   0    0   52 2452   34    3    0    3    0    0]\n",
            " [   1    4   12   23 2629   11    5    3    1    3]\n",
            " [   4    1    1    1    0 2483    4    0    1    2]\n",
            " [   0    4    2    1    2    1 2570    8    2   18]\n",
            " [   2    1    3    1    3    0    0 2598    0    0]\n",
            " [   0    5    0    0    1    1    2    0 2523   16]\n",
            " [   0    6    2    0    2    0    8    0    3 2523]]\n"
          ],
          "name": "stdout"
        }
      ]
    },
    {
      "cell_type": "markdown",
      "metadata": {
        "id": "RqfxR2sWVCW6",
        "colab_type": "text"
      },
      "source": [
        "## Convnet"
      ]
    },
    {
      "cell_type": "code",
      "metadata": {
        "id": "TK3q5d4RVXqx",
        "colab_type": "code",
        "outputId": "e8387a0c-1d33-4eaf-88ba-12a452e442b6",
        "colab": {
          "base_uri": "https://localhost:8080/",
          "height": 34
        }
      },
      "source": [
        "X_train[0].shape"
      ],
      "execution_count": 0,
      "outputs": [
        {
          "output_type": "execute_result",
          "data": {
            "text/plain": [
              "(32, 32)"
            ]
          },
          "metadata": {
            "tags": []
          },
          "execution_count": 10
        }
      ]
    },
    {
      "cell_type": "code",
      "metadata": {
        "id": "YANB90b-VFEl",
        "colab_type": "code",
        "outputId": "0cecd490-f18d-44f0-c123-dba8017620e3",
        "colab": {
          "base_uri": "https://localhost:8080/",
          "height": 442
        }
      },
      "source": [
        "n_w , n_h = X[0].shape\n",
        "from keras import layers\n",
        "from keras import models\n",
        "\n",
        "model = models.Sequential()\n",
        "\n",
        "model.add(layers.Conv2D(16, (3, 3), activation='relu', input_shape=(n_w , n_h, 1)))\n",
        "model.add(layers.MaxPooling2D((2, 2)))\n",
        "\n",
        "model.add(layers.Conv2D(32, (3, 3), activation='relu'))\n",
        "model.add(layers.MaxPooling2D((2, 2)))\n",
        "\n",
        "model.add(layers.Conv2D(64, (3, 3), activation='relu'))\n",
        "model.add(layers.MaxPooling2D((2, 2)))\n",
        "\n",
        "model.add(layers.Flatten())\n",
        "\n",
        "model.add(layers.Dense(64, activation='relu'))\n",
        "model.add(layers.Dense(10, activation='softmax'))\n",
        "\n",
        "model.summary()"
      ],
      "execution_count": 0,
      "outputs": [
        {
          "output_type": "stream",
          "text": [
            "_________________________________________________________________\n",
            "Layer (type)                 Output Shape              Param #   \n",
            "=================================================================\n",
            "conv2d_22 (Conv2D)           (None, 30, 30, 16)        160       \n",
            "_________________________________________________________________\n",
            "max_pooling2d_19 (MaxPooling (None, 15, 15, 16)        0         \n",
            "_________________________________________________________________\n",
            "conv2d_23 (Conv2D)           (None, 13, 13, 32)        4640      \n",
            "_________________________________________________________________\n",
            "max_pooling2d_20 (MaxPooling (None, 6, 6, 32)          0         \n",
            "_________________________________________________________________\n",
            "conv2d_24 (Conv2D)           (None, 4, 4, 64)          18496     \n",
            "_________________________________________________________________\n",
            "max_pooling2d_21 (MaxPooling (None, 2, 2, 64)          0         \n",
            "_________________________________________________________________\n",
            "flatten_8 (Flatten)          (None, 256)               0         \n",
            "_________________________________________________________________\n",
            "dense_15 (Dense)             (None, 64)                16448     \n",
            "_________________________________________________________________\n",
            "dense_16 (Dense)             (None, 10)                650       \n",
            "=================================================================\n",
            "Total params: 40,394\n",
            "Trainable params: 40,394\n",
            "Non-trainable params: 0\n",
            "_________________________________________________________________\n"
          ],
          "name": "stdout"
        }
      ]
    },
    {
      "cell_type": "code",
      "metadata": {
        "id": "LYen5XkbVFHr",
        "colab_type": "code",
        "outputId": "efcd46fd-d89c-405f-a956-53e9ed33e9f4",
        "colab": {
          "base_uri": "https://localhost:8080/",
          "height": 204
        }
      },
      "source": [
        "model.compile(optimizer='adam', \n",
        "              loss='sparse_categorical_crossentropy',\n",
        "              metrics=['accuracy'])\n",
        "\n",
        "X_train = X_train.reshape(-1, n_w, n_h, 1)\n",
        "X_test = X_test.reshape(-1, n_w, n_h, 1)\n",
        "\n",
        "history = model.fit(X_train,Y_train, \n",
        "                    epochs=5, batch_size = 64, \n",
        "                   validation_data = (X_test, Y_test))"
      ],
      "execution_count": 0,
      "outputs": [
        {
          "output_type": "stream",
          "text": [
            "Train on 76764 samples, validate on 25588 samples\n",
            "Epoch 1/5\n",
            "76764/76764 [==============================] - 7s 94us/step - loss: 0.1433 - acc: 0.9566 - val_loss: 0.0391 - val_acc: 0.9881\n",
            "Epoch 2/5\n",
            "76764/76764 [==============================] - 6s 74us/step - loss: 0.0331 - acc: 0.9899 - val_loss: 0.0333 - val_acc: 0.9898\n",
            "Epoch 3/5\n",
            "76764/76764 [==============================] - 6s 72us/step - loss: 0.0236 - acc: 0.9925 - val_loss: 0.0257 - val_acc: 0.9912\n",
            "Epoch 4/5\n",
            "76764/76764 [==============================] - 6s 72us/step - loss: 0.0171 - acc: 0.9944 - val_loss: 0.0230 - val_acc: 0.9932\n",
            "Epoch 5/5\n",
            "76764/76764 [==============================] - 6s 72us/step - loss: 0.0149 - acc: 0.9951 - val_loss: 0.0212 - val_acc: 0.9935\n"
          ],
          "name": "stdout"
        }
      ]
    },
    {
      "cell_type": "code",
      "metadata": {
        "id": "QHxKv5_wVFKQ",
        "colab_type": "code",
        "outputId": "7d2d71c8-4771-4eb6-a804-7a4a820963d0",
        "colab": {
          "base_uri": "https://localhost:8080/",
          "height": 187
        }
      },
      "source": [
        "Y_predicted = np.argmax( model.predict(X_test ), axis=1 )\n",
        "cm = confusion_matrix(Y_test, Y_predicted)\n",
        "print(cm)"
      ],
      "execution_count": 0,
      "outputs": [
        {
          "output_type": "stream",
          "text": [
            "[[2532    0    0    0    0    3    0    0    0    1]\n",
            " [   3 2502    3    0    0    0    0    0    1    2]\n",
            " [   2    0 2489    9    0    0    0    0    0    0]\n",
            " [   0    0   25 2512    5    0    2    0    0    0]\n",
            " [   0    0    8   21 2657    0    6    0    0    0]\n",
            " [   6    2    0    0    2 2470    4    0    5    8]\n",
            " [   0    0    5    0    5    2 2586    0    0   10]\n",
            " [   3    2    8    0    1    0    0 2594    0    0]\n",
            " [   0    2    0    0    1    1    0    0 2544    0]\n",
            " [   0    3    0    0    0    0    5    0    0 2536]]\n"
          ],
          "name": "stdout"
        }
      ]
    },
    {
      "cell_type": "code",
      "metadata": {
        "id": "6e1cmJetbSqj",
        "colab_type": "code",
        "colab": {}
      },
      "source": [
        "'''Implement LeNet-5'''"
      ],
      "execution_count": 0,
      "outputs": []
    }
  ]
}