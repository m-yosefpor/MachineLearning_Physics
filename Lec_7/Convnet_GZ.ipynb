{
 "cells": [
  {
   "cell_type": "code",
   "execution_count": 37,
   "metadata": {
    "ExecuteTime": {
     "end_time": "2019-05-19T11:08:06.910099Z",
     "start_time": "2019-05-19T11:08:06.891703Z"
    },
    "init_cell": true
   },
   "outputs": [],
   "source": [
    "import numpy as np\n",
    "import matplotlib.pyplot as plt\n",
    "import pandas as pd\n",
    "# from tensorflow import keras\n",
    "import keras as ks\n",
    "from keras import layers\n",
    "from keras import models"
   ]
  },
  {
   "cell_type": "code",
   "execution_count": 38,
   "metadata": {
    "ExecuteTime": {
     "end_time": "2019-05-19T11:08:07.347632Z",
     "start_time": "2019-05-19T11:08:07.337073Z"
    },
    "init_cell": true
   },
   "outputs": [],
   "source": [
    "import os, shutil"
   ]
  },
  {
   "cell_type": "code",
   "execution_count": 39,
   "metadata": {
    "ExecuteTime": {
     "end_time": "2019-05-19T11:08:07.707378Z",
     "start_time": "2019-05-19T11:08:07.702409Z"
    },
    "init_cell": true
   },
   "outputs": [],
   "source": [
    "images_dir = r'C:\\Users\\sraeisi\\Documents\\Datasets\\Physics\\Galaxies\\Kaggle\\images_training_rev1'\n",
    "labels = r'training_solutions_rev1.csv'\n",
    "test_img_dir=r'images_test_rev1'"
   ]
  },
  {
   "cell_type": "code",
   "execution_count": 40,
   "metadata": {
    "ExecuteTime": {
     "end_time": "2019-05-19T11:08:08.108732Z",
     "start_time": "2019-05-19T11:08:08.096774Z"
    },
    "init_cell": true
   },
   "outputs": [
    {
     "data": {
      "text/plain": [
       "482"
      ]
     },
     "execution_count": 40,
     "metadata": {},
     "output_type": "execute_result"
    }
   ],
   "source": [
    "batch_size = 128\n",
    "n_w = 200\n",
    "n_h = 200\n",
    "n_c = 3\n",
    "n_classes = 27#3\n",
    "stp_epch =  int(61578/ batch_size)+1\n",
    "stp_epch"
   ]
  },
  {
   "cell_type": "markdown",
   "metadata": {},
   "source": [
    "# Question 1 estimator"
   ]
  },
  {
   "cell_type": "code",
   "execution_count": 41,
   "metadata": {
    "ExecuteTime": {
     "end_time": "2019-05-19T11:08:12.345604Z",
     "start_time": "2019-05-19T11:08:12.150392Z"
    }
   },
   "outputs": [
    {
     "data": {
      "text/html": [
       "<div>\n",
       "<style scoped>\n",
       "    .dataframe tbody tr th:only-of-type {\n",
       "        vertical-align: middle;\n",
       "    }\n",
       "\n",
       "    .dataframe tbody tr th {\n",
       "        vertical-align: top;\n",
       "    }\n",
       "\n",
       "    .dataframe thead th {\n",
       "        text-align: right;\n",
       "    }\n",
       "</style>\n",
       "<table border=\"1\" class=\"dataframe\">\n",
       "  <thead>\n",
       "    <tr style=\"text-align: right;\">\n",
       "      <th></th>\n",
       "      <th>GalaxyID</th>\n",
       "      <th>Class1.1</th>\n",
       "      <th>Class1.2</th>\n",
       "      <th>Class1.3</th>\n",
       "      <th>label</th>\n",
       "    </tr>\n",
       "  </thead>\n",
       "  <tbody>\n",
       "    <tr>\n",
       "      <th>0</th>\n",
       "      <td>100008.jpg</td>\n",
       "      <td>0.383147</td>\n",
       "      <td>0.616853</td>\n",
       "      <td>0.000000</td>\n",
       "      <td>1</td>\n",
       "    </tr>\n",
       "    <tr>\n",
       "      <th>1</th>\n",
       "      <td>100023.jpg</td>\n",
       "      <td>0.327001</td>\n",
       "      <td>0.663777</td>\n",
       "      <td>0.009222</td>\n",
       "      <td>1</td>\n",
       "    </tr>\n",
       "    <tr>\n",
       "      <th>2</th>\n",
       "      <td>100053.jpg</td>\n",
       "      <td>0.765717</td>\n",
       "      <td>0.177352</td>\n",
       "      <td>0.056931</td>\n",
       "      <td>0</td>\n",
       "    </tr>\n",
       "    <tr>\n",
       "      <th>3</th>\n",
       "      <td>100078.jpg</td>\n",
       "      <td>0.693377</td>\n",
       "      <td>0.238564</td>\n",
       "      <td>0.068059</td>\n",
       "      <td>0</td>\n",
       "    </tr>\n",
       "    <tr>\n",
       "      <th>4</th>\n",
       "      <td>100090.jpg</td>\n",
       "      <td>0.933839</td>\n",
       "      <td>0.000000</td>\n",
       "      <td>0.066161</td>\n",
       "      <td>0</td>\n",
       "    </tr>\n",
       "  </tbody>\n",
       "</table>\n",
       "</div>"
      ],
      "text/plain": [
       "     GalaxyID  Class1.1  Class1.2  Class1.3 label\n",
       "0  100008.jpg  0.383147  0.616853  0.000000     1\n",
       "1  100023.jpg  0.327001  0.663777  0.009222     1\n",
       "2  100053.jpg  0.765717  0.177352  0.056931     0\n",
       "3  100078.jpg  0.693377  0.238564  0.068059     0\n",
       "4  100090.jpg  0.933839  0.000000  0.066161     0"
      ]
     },
     "execution_count": 41,
     "metadata": {},
     "output_type": "execute_result"
    }
   ],
   "source": [
    "df = pd.read_csv('Y_1.csv')\n",
    "df['GalaxyID'] = df['GalaxyID'].astype(str)+'.jpg'\n",
    "df['label'] = np.argmax(df.drop(['GalaxyID'], axis=1).values, axis=1 ).astype(str)\n",
    "df.head()"
   ]
  },
  {
   "cell_type": "code",
   "execution_count": 42,
   "metadata": {
    "ExecuteTime": {
     "end_time": "2019-05-19T11:08:35.869197Z",
     "start_time": "2019-05-19T11:08:12.849865Z"
    }
   },
   "outputs": [
    {
     "name": "stdout",
     "output_type": "stream",
     "text": [
      "Found 46184 images belonging to 3 classes.\n",
      "Found 15394 images belonging to 3 classes.\n",
      "Found 46184 images.\n",
      "Found 15394 images.\n"
     ]
    }
   ],
   "source": [
    "from keras.preprocessing.image import ImageDataGenerator\n",
    "\n",
    "train_datagen = ImageDataGenerator(rescale=1./255.,validation_split=0.25)\n",
    "test_datagen = ImageDataGenerator(rescale=1./255. ,validation_split=0.25)\n",
    "\n",
    "train_c_generator = train_datagen.flow_from_dataframe( dataframe=df,\n",
    "                                                   directory=images_dir,\n",
    "                                                   x_col = 'GalaxyID', \n",
    "                                                   y_col = 'label', \n",
    "                                                   class_mode='categorical',\n",
    "                                                   target_size=(n_w, n_h),   \n",
    "                                                   batch_size=batch_size,\n",
    "                                                   shuffle=True, \n",
    "                                                   subset='training')\n",
    "######################################################################################\n",
    "validation_c_generator = train_datagen.flow_from_dataframe( dataframe=df,\n",
    "                                                   directory=images_dir,\n",
    "                                                   x_col = 'GalaxyID', \n",
    "                                                   y_col = 'label', \n",
    "                                                   class_mode='categorical',\n",
    "                                                   target_size=(n_w, n_h),   \n",
    "                                                   batch_size=batch_size,\n",
    "                                                   shuffle=True, \n",
    "                                                   subset='validation')\n",
    "\n",
    "######################################################################################\n",
    "\n",
    "train_generator = train_datagen.flow_from_dataframe( dataframe=df,\n",
    "                                                   directory=images_dir,\n",
    "                                                   x_col = 'GalaxyID', \n",
    "                                                   y_col = ['Class1.1','Class1.2','Class1.3'], \n",
    "                                                   class_mode='other', \n",
    "                                                   target_size=(n_w, n_h), \n",
    "                                                   batch_size=batch_size,\n",
    "                                                   shuffle=True, \n",
    "                                                   subset='training')\n",
    "\n",
    "validation_generator = train_datagen.flow_from_dataframe( dataframe=df,\n",
    "                                                   directory=images_dir,\n",
    "                                                   x_col = 'GalaxyID', \n",
    "                                                   y_col = ['Class1.1','Class1.2','Class1.3'], \n",
    "                                                   class_mode='other', \n",
    "                                                   target_size=(n_w, n_h), \n",
    "                                                   batch_size=batch_size, \n",
    "                                                   shuffle=True, \n",
    "                                                   subset='validation')\n"
   ]
  },
  {
   "cell_type": "code",
   "execution_count": 43,
   "metadata": {
    "ExecuteTime": {
     "end_time": "2019-05-19T11:08:36.706828Z",
     "start_time": "2019-05-19T11:08:36.001755Z"
    }
   },
   "outputs": [
    {
     "name": "stdout",
     "output_type": "stream",
     "text": [
      "data batch shape: (128, 200, 200, 3)\n",
      "labels batch shape: (128, 3)\n"
     ]
    }
   ],
   "source": [
    "for data_batch, labels_batch in train_generator:\n",
    "    print('data batch shape:', data_batch.shape)\n",
    "    print('labels batch shape:', labels_batch.shape)\n",
    "    break"
   ]
  },
  {
   "cell_type": "code",
   "execution_count": 44,
   "metadata": {
    "ExecuteTime": {
     "end_time": "2019-05-19T11:08:36.846049Z",
     "start_time": "2019-05-19T11:08:36.839233Z"
    }
   },
   "outputs": [],
   "source": [
    "stp_epch =  int(61578/ batch_size)+1"
   ]
  },
  {
   "cell_type": "code",
   "execution_count": 45,
   "metadata": {
    "ExecuteTime": {
     "end_time": "2019-05-19T11:08:37.294337Z",
     "start_time": "2019-05-19T11:08:36.973739Z"
    }
   },
   "outputs": [
    {
     "name": "stdout",
     "output_type": "stream",
     "text": [
      "_________________________________________________________________\n",
      "Layer (type)                 Output Shape              Param #   \n",
      "=================================================================\n",
      "conv2d_1 (Conv2D)            (None, 198, 198, 32)      896       \n",
      "_________________________________________________________________\n",
      "max_pooling2d_1 (MaxPooling2 (None, 99, 99, 32)        0         \n",
      "_________________________________________________________________\n",
      "conv2d_2 (Conv2D)            (None, 97, 97, 64)        18496     \n",
      "_________________________________________________________________\n",
      "max_pooling2d_2 (MaxPooling2 (None, 48, 48, 64)        0         \n",
      "_________________________________________________________________\n",
      "conv2d_3 (Conv2D)            (None, 46, 46, 64)        36928     \n",
      "_________________________________________________________________\n",
      "max_pooling2d_3 (MaxPooling2 (None, 23, 23, 64)        0         \n",
      "_________________________________________________________________\n",
      "conv2d_4 (Conv2D)            (None, 21, 21, 128)       73856     \n",
      "_________________________________________________________________\n",
      "flatten_3 (Flatten)          (None, 56448)             0         \n",
      "_________________________________________________________________\n",
      "dense_1 (Dense)              (None, 512)               28901888  \n",
      "_________________________________________________________________\n",
      "dense_2 (Dense)              (None, 3)                 1539      \n",
      "=================================================================\n",
      "Total params: 29,033,603\n",
      "Trainable params: 29,033,603\n",
      "Non-trainable params: 0\n",
      "_________________________________________________________________\n"
     ]
    }
   ],
   "source": [
    "from keras import layers\n",
    "from keras import models\n",
    "\n",
    "model = models.Sequential()\n",
    "model.add(layers.Conv2D(32, (3, 3), activation='relu', input_shape=(n_w , n_h, 3)))\n",
    "model.add(layers.MaxPooling2D((2, 2)))\n",
    "model.add(layers.Conv2D(64, (3, 3), activation='relu'))\n",
    "model.add(layers.MaxPooling2D((2, 2)))\n",
    "model.add(layers.Conv2D(64, (3, 3), activation='relu'))\n",
    "model.add(layers.MaxPooling2D((2, 2)))\n",
    "model.add(layers.Conv2D(128, (3, 3), activation='relu'))\n",
    "# model.add(layers.MaxPooling2D((3, 3)))\n",
    "# model.add(layers.Conv2D(64, (5, 5), activation='relu'))\n",
    "\n",
    "model.add(layers.Flatten())\n",
    "\n",
    "model.add(layers.Dense(512, activation='relu'))\n",
    "model.add(layers.Dense(3, activation='softmax'))\n",
    "\n",
    "model.summary()"
   ]
  },
  {
   "cell_type": "code",
   "execution_count": 30,
   "metadata": {},
   "outputs": [],
   "source": [
    "model.compile(loss=ks.losses.mean_squared_error, \n",
    "             optimizer=ks.optimizers.SGD(lr=0.01, decay=1e-6, momentum=0.9, nesterov=True), \n",
    "             metrics=['acc'])"
   ]
  },
  {
   "cell_type": "code",
   "execution_count": 24,
   "metadata": {},
   "outputs": [
    {
     "name": "stdout",
     "output_type": "stream",
     "text": [
      "[name: \"/device:CPU:0\"\n",
      "device_type: \"CPU\"\n",
      "memory_limit: 268435456\n",
      "locality {\n",
      "}\n",
      "incarnation: 1985596717678863155\n",
      ", name: \"/device:GPU:0\"\n",
      "device_type: \"GPU\"\n",
      "memory_limit: 4947404390\n",
      "locality {\n",
      "  bus_id: 1\n",
      "  links {\n",
      "  }\n",
      "}\n",
      "incarnation: 564968549418463548\n",
      "physical_device_desc: \"device: 0, name: GeForce GTX 1060, pci bus id: 0000:02:00.0, compute capability: 6.1\"\n",
      "]\n"
     ]
    }
   ],
   "source": [
    "from tensorflow.python.client import device_lib\n",
    "print(device_lib.list_local_devices())"
   ]
  },
  {
   "cell_type": "code",
   "execution_count": 24,
   "metadata": {},
   "outputs": [
    {
     "name": "stdout",
     "output_type": "stream",
     "text": [
      "Epoch 1/10\n",
      "241/241 [==============================] - 97s 403ms/step - loss: 0.0430 - acc: 0.7129\n",
      "Epoch 2/10\n",
      "241/241 [==============================] - 136s 564ms/step - loss: 0.0385 - acc: 0.7473\n",
      "Epoch 3/10\n",
      "241/241 [==============================] - 175s 725ms/step - loss: 0.0354 - acc: 0.7674\n",
      "Epoch 4/10\n",
      "241/241 [==============================] - 152s 629ms/step - loss: 0.0332 - acc: 0.7775\n",
      "Epoch 5/10\n",
      "241/241 [==============================] - 144s 598ms/step - loss: 0.0315 - acc: 0.7872\n",
      "Epoch 6/10\n",
      "241/241 [==============================] - 174s 724ms/step - loss: 0.0299 - acc: 0.7922\n",
      "Epoch 7/10\n",
      "241/241 [==============================] - 154s 641ms/step - loss: 0.0288 - acc: 0.7988\n",
      "Epoch 8/10\n",
      "241/241 [==============================] - 169s 701ms/step - loss: 0.0284 - acc: 0.7995\n",
      "Epoch 9/10\n",
      "241/241 [==============================] - 190s 787ms/step - loss: 0.0278 - acc: 0.8020\n",
      "Epoch 10/10\n",
      "241/241 [==============================] - 158s 656ms/step - loss: 0.0270 - acc: 0.8049\n"
     ]
    }
   ],
   "source": [
    "%%time\n",
    "history = model.fit_generator(train_generator, \n",
    "                             steps_per_epoch=stp_epch, \n",
    "                             epochs=10)"
   ]
  },
  {
   "cell_type": "code",
   "execution_count": 25,
   "metadata": {},
   "outputs": [
    {
     "data": {
      "text/plain": [
       "[<matplotlib.lines.Line2D at 0x1b8b6b81400>]"
      ]
     },
     "execution_count": 25,
     "metadata": {},
     "output_type": "execute_result"
    },
    {
     "data": {
      "image/png": "[encoded data removed]",
      "text/plain": [
       "<Figure size 432x288 with 1 Axes>"
      ]
     },
     "metadata": {
      "needs_background": "light"
     },
     "output_type": "display_data"
    }
   ],
   "source": [
    "plt.plot(history.history['acc'])"
   ]
  },
  {
   "cell_type": "markdown",
   "metadata": {},
   "source": [
    "# Pretrained models"
   ]
  },
  {
   "cell_type": "markdown",
   "metadata": {},
   "source": [
    "## Pretrained VGG16 + classifier at the end"
   ]
  },
  {
   "cell_type": "code",
   "execution_count": 46,
   "metadata": {
    "ExecuteTime": {
     "end_time": "2019-05-19T11:08:42.396965Z",
     "start_time": "2019-05-19T11:08:40.574309Z"
    }
   },
   "outputs": [],
   "source": [
    "from keras.applications import VGG16\n",
    "\n",
    "conv_base = VGG16(weights='imagenet', include_top=False, input_shape=(n_w, n_h, 3))"
   ]
  },
  {
   "cell_type": "code",
   "execution_count": 47,
   "metadata": {
    "ExecuteTime": {
     "end_time": "2019-05-19T11:08:42.556505Z",
     "start_time": "2019-05-19T11:08:42.542044Z"
    }
   },
   "outputs": [
    {
     "name": "stdout",
     "output_type": "stream",
     "text": [
      "_________________________________________________________________\n",
      "Layer (type)                 Output Shape              Param #   \n",
      "=================================================================\n",
      "input_2 (InputLayer)         (None, 200, 200, 3)       0         \n",
      "_________________________________________________________________\n",
      "block1_conv1 (Conv2D)        (None, 200, 200, 64)      1792      \n",
      "_________________________________________________________________\n",
      "block1_conv2 (Conv2D)        (None, 200, 200, 64)      36928     \n",
      "_________________________________________________________________\n",
      "block1_pool (MaxPooling2D)   (None, 100, 100, 64)      0         \n",
      "_________________________________________________________________\n",
      "block2_conv1 (Conv2D)        (None, 100, 100, 128)     73856     \n",
      "_________________________________________________________________\n",
      "block2_conv2 (Conv2D)        (None, 100, 100, 128)     147584    \n",
      "_________________________________________________________________\n",
      "block2_pool (MaxPooling2D)   (None, 50, 50, 128)       0         \n",
      "_________________________________________________________________\n",
      "block3_conv1 (Conv2D)        (None, 50, 50, 256)       295168    \n",
      "_________________________________________________________________\n",
      "block3_conv2 (Conv2D)        (None, 50, 50, 256)       590080    \n",
      "_________________________________________________________________\n",
      "block3_conv3 (Conv2D)        (None, 50, 50, 256)       590080    \n",
      "_________________________________________________________________\n",
      "block3_pool (MaxPooling2D)   (None, 25, 25, 256)       0         \n",
      "_________________________________________________________________\n",
      "block4_conv1 (Conv2D)        (None, 25, 25, 512)       1180160   \n",
      "_________________________________________________________________\n",
      "block4_conv2 (Conv2D)        (None, 25, 25, 512)       2359808   \n",
      "_________________________________________________________________\n",
      "block4_conv3 (Conv2D)        (None, 25, 25, 512)       2359808   \n",
      "_________________________________________________________________\n",
      "block4_pool (MaxPooling2D)   (None, 12, 12, 512)       0         \n",
      "_________________________________________________________________\n",
      "block5_conv1 (Conv2D)        (None, 12, 12, 512)       2359808   \n",
      "_________________________________________________________________\n",
      "block5_conv2 (Conv2D)        (None, 12, 12, 512)       2359808   \n",
      "_________________________________________________________________\n",
      "block5_conv3 (Conv2D)        (None, 12, 12, 512)       2359808   \n",
      "_________________________________________________________________\n",
      "block5_pool (MaxPooling2D)   (None, 6, 6, 512)         0         \n",
      "=================================================================\n",
      "Total params: 14,714,688\n",
      "Trainable params: 14,714,688\n",
      "Non-trainable params: 0\n",
      "_________________________________________________________________\n"
     ]
    }
   ],
   "source": [
    "conv_base.summary()"
   ]
  },
  {
   "cell_type": "code",
   "execution_count": 48,
   "metadata": {
    "ExecuteTime": {
     "end_time": "2019-05-19T11:09:32.466436Z",
     "start_time": "2019-05-19T11:09:32.449261Z"
    }
   },
   "outputs": [],
   "source": [
    "def extract_features(network, generator, sample_count):\n",
    "    features = np.zeros(shape=(sample_count, 6, 6, 512))\n",
    "    labels = np.zeros(shape=(sample_count, n_classes))\n",
    "\n",
    "    i = 0\n",
    "    for inputs_batch, labels_batch in generator:\n",
    "        features_batch = network.predict(inputs_batch)\n",
    "#         print(labels_batch.shape)\n",
    "        features[i * batch_size : (i + 1) * batch_size] = features_batch\n",
    "        labels[i * batch_size : (i + 1) * batch_size] = labels_batch\n",
    "        i += 1\n",
    "#         print(i)\n",
    "        if i * batch_size >= sample_count:\n",
    "            break\n",
    "    return features, labels"
   ]
  },
  {
   "cell_type": "code",
   "execution_count": 15,
   "metadata": {},
   "outputs": [
    {
     "name": "stdout",
     "output_type": "stream",
     "text": [
      "Wall time: 3min\n"
     ]
    }
   ],
   "source": [
    "%%time \n",
    "train_features, train_labels = extract_features(conv_base, train_generator, 100*batch_size)\n",
    "validation_features, validation_labels = extract_features(conv_base, validation_generator, 10*batch_size)"
   ]
  },
  {
   "cell_type": "code",
   "execution_count": 32,
   "metadata": {},
   "outputs": [],
   "source": [
    "train_features = np.reshape(train_features, (100*batch_size, 3 * 3 * 512))\n",
    "validation_features = np.reshape(validation_features, (10*batch_size, 3 * 3 * 512))"
   ]
  },
  {
   "cell_type": "code",
   "execution_count": 25,
   "metadata": {},
   "outputs": [
    {
     "name": "stdout",
     "output_type": "stream",
     "text": [
      "_________________________________________________________________\n",
      "Layer (type)                 Output Shape              Param #   \n",
      "=================================================================\n",
      "dense_6 (Dense)              (None, 256)               1179904   \n",
      "_________________________________________________________________\n",
      "dropout_3 (Dropout)          (None, 256)               0         \n",
      "_________________________________________________________________\n",
      "dense_7 (Dense)              (None, 3)                 771       \n",
      "=================================================================\n",
      "Total params: 1,180,675\n",
      "Trainable params: 1,180,675\n",
      "Non-trainable params: 0\n",
      "_________________________________________________________________\n"
     ]
    }
   ],
   "source": [
    "'''\n",
    "Now let's make our new model.\n",
    "'''\n",
    "pre_trained_model = ks.models.Sequential()\n",
    "\n",
    "# pre_trained_model.add(conv_base)\n",
    "\n",
    "# pre_trained_model.add(ks.layers.Flatten())\n",
    "\n",
    "pre_trained_model.add(ks.layers.Dense(256, activation='relu', input_dim=3 * 3 * 512))\n",
    "# pre_trained_model.add(ks.layers.Dropout(0.5))\n",
    "\n",
    "pre_trained_model.add(ks.layers.Dense(3, activation='softmax'))\n",
    "\n",
    "pre_trained_model.compile(loss=ks.losses.mean_squared_error, \n",
    "             optimizer=ks.optimizers.SGD(lr=0.01, decay=1e-6, momentum=0.9, nesterov=True), \n",
    "             metrics=['acc'])\n",
    "\n",
    "pre_trained_model.summary()"
   ]
  },
  {
   "cell_type": "code",
   "execution_count": 35,
   "metadata": {},
   "outputs": [
    {
     "name": "stdout",
     "output_type": "stream",
     "text": [
      "Train on 25600 samples, validate on 2560 samples\n",
      "Epoch 1/100\n",
      "25600/25600 [==============================] - 2s 74us/step - loss: 0.0320 - acc: 0.7811 - val_loss: 0.0300 - val_acc: 0.7855\n",
      "Epoch 2/100\n",
      "25600/25600 [==============================] - 2s 62us/step - loss: 0.0317 - acc: 0.7822 - val_loss: 0.0295 - val_acc: 0.7805\n",
      "Epoch 3/100\n",
      "25600/25600 [==============================] - 2s 61us/step - loss: 0.0314 - acc: 0.7812 - val_loss: 0.0295 - val_acc: 0.7848\n",
      "Epoch 4/100\n",
      "25600/25600 [==============================] - 2s 63us/step - loss: 0.0311 - acc: 0.7854 - val_loss: 0.0295 - val_acc: 0.7891\n",
      "Epoch 5/100\n",
      "25600/25600 [==============================] - 2s 62us/step - loss: 0.0308 - acc: 0.7863 - val_loss: 0.0287 - val_acc: 0.7848\n",
      "Epoch 6/100\n",
      "25600/25600 [==============================] - 2s 63us/step - loss: 0.0306 - acc: 0.7866 - val_loss: 0.0286 - val_acc: 0.7914\n",
      "Epoch 7/100\n",
      "25600/25600 [==============================] - 2s 64us/step - loss: 0.0306 - acc: 0.7871 - val_loss: 0.0286 - val_acc: 0.7871\n",
      "Epoch 8/100\n",
      "25600/25600 [==============================] - 2s 63us/step - loss: 0.0301 - acc: 0.7891 - val_loss: 0.0307 - val_acc: 0.7832\n",
      "Epoch 9/100\n",
      "25600/25600 [==============================] - 2s 64us/step - loss: 0.0300 - acc: 0.7881 - val_loss: 0.0279 - val_acc: 0.7926\n",
      "Epoch 10/100\n",
      "25600/25600 [==============================] - 2s 64us/step - loss: 0.0300 - acc: 0.7859 - val_loss: 0.0280 - val_acc: 0.7906\n",
      "Epoch 11/100\n",
      "25600/25600 [==============================] - 2s 64us/step - loss: 0.0297 - acc: 0.7896 - val_loss: 0.0278 - val_acc: 0.7930\n",
      "Epoch 12/100\n",
      "25600/25600 [==============================] - 2s 65us/step - loss: 0.0293 - acc: 0.7902 - val_loss: 0.0280 - val_acc: 0.7898\n",
      "Epoch 13/100\n",
      "25600/25600 [==============================] - 2s 64us/step - loss: 0.0295 - acc: 0.7912 - val_loss: 0.0274 - val_acc: 0.7977\n",
      "Epoch 14/100\n",
      "25600/25600 [==============================] - 2s 65us/step - loss: 0.0292 - acc: 0.7935 - val_loss: 0.0275 - val_acc: 0.7891\n",
      "Epoch 15/100\n",
      "25600/25600 [==============================] - 2s 65us/step - loss: 0.0292 - acc: 0.7909 - val_loss: 0.0272 - val_acc: 0.7957\n",
      "Epoch 16/100\n",
      "25600/25600 [==============================] - 2s 63us/step - loss: 0.0290 - acc: 0.7916 - val_loss: 0.0272 - val_acc: 0.7922\n",
      "Epoch 17/100\n",
      "25600/25600 [==============================] - 2s 63us/step - loss: 0.0287 - acc: 0.7933 - val_loss: 0.0273 - val_acc: 0.8020\n",
      "Epoch 18/100\n",
      "25600/25600 [==============================] - 2s 65us/step - loss: 0.0289 - acc: 0.7943 - val_loss: 0.0270 - val_acc: 0.7992\n",
      "Epoch 19/100\n",
      "25600/25600 [==============================] - 2s 65us/step - loss: 0.0288 - acc: 0.7921 - val_loss: 0.0268 - val_acc: 0.7953\n",
      "Epoch 20/100\n",
      "25600/25600 [==============================] - 2s 65us/step - loss: 0.0286 - acc: 0.7940 - val_loss: 0.0268 - val_acc: 0.7980\n",
      "Epoch 21/100\n",
      "25600/25600 [==============================] - 2s 65us/step - loss: 0.0285 - acc: 0.7955 - val_loss: 0.0273 - val_acc: 0.8023\n",
      "Epoch 22/100\n",
      "25600/25600 [==============================] - 2s 65us/step - loss: 0.0283 - acc: 0.7953 - val_loss: 0.0265 - val_acc: 0.7984\n",
      "Epoch 23/100\n",
      "25600/25600 [==============================] - 2s 66us/step - loss: 0.0284 - acc: 0.7945 - val_loss: 0.0265 - val_acc: 0.7953\n",
      "Epoch 24/100\n",
      "25600/25600 [==============================] - 2s 65us/step - loss: 0.0284 - acc: 0.7957 - val_loss: 0.0267 - val_acc: 0.7926\n",
      "Epoch 25/100\n",
      "25600/25600 [==============================] - 2s 64us/step - loss: 0.0282 - acc: 0.7959 - val_loss: 0.0264 - val_acc: 0.8035\n",
      "Epoch 26/100\n",
      "25600/25600 [==============================] - 2s 64us/step - loss: 0.0281 - acc: 0.7968 - val_loss: 0.0268 - val_acc: 0.7945\n",
      "Epoch 27/100\n",
      "25600/25600 [==============================] - 2s 64us/step - loss: 0.0280 - acc: 0.7966 - val_loss: 0.0269 - val_acc: 0.8027\n",
      "Epoch 28/100\n",
      "25600/25600 [==============================] - 2s 65us/step - loss: 0.0281 - acc: 0.7971 - val_loss: 0.0263 - val_acc: 0.7973\n",
      "Epoch 29/100\n",
      "25600/25600 [==============================] - 2s 64us/step - loss: 0.0279 - acc: 0.7968 - val_loss: 0.0262 - val_acc: 0.7977\n",
      "Epoch 30/100\n",
      "25600/25600 [==============================] - 2s 65us/step - loss: 0.0280 - acc: 0.7983 - val_loss: 0.0271 - val_acc: 0.8016\n",
      "Epoch 31/100\n",
      "25600/25600 [==============================] - 2s 66us/step - loss: 0.0278 - acc: 0.7945 - val_loss: 0.0261 - val_acc: 0.8000\n",
      "Epoch 32/100\n",
      "25600/25600 [==============================] - 2s 64us/step - loss: 0.0277 - acc: 0.7976 - val_loss: 0.0264 - val_acc: 0.8012\n",
      "Epoch 33/100\n",
      "25600/25600 [==============================] - 2s 64us/step - loss: 0.0278 - acc: 0.7985 - val_loss: 0.0267 - val_acc: 0.7941\n",
      "Epoch 34/100\n",
      "25600/25600 [==============================] - 2s 64us/step - loss: 0.0277 - acc: 0.7991 - val_loss: 0.0261 - val_acc: 0.7977\n",
      "Epoch 35/100\n",
      "25600/25600 [==============================] - 2s 65us/step - loss: 0.0279 - acc: 0.7971 - val_loss: 0.0261 - val_acc: 0.8000\n",
      "Epoch 36/100\n",
      "25600/25600 [==============================] - 2s 65us/step - loss: 0.0276 - acc: 0.7990 - val_loss: 0.0264 - val_acc: 0.8051\n",
      "Epoch 37/100\n",
      "25600/25600 [==============================] - 2s 67us/step - loss: 0.0279 - acc: 0.8003 - val_loss: 0.0261 - val_acc: 0.8008\n",
      "Epoch 38/100\n",
      "25600/25600 [==============================] - 2s 65us/step - loss: 0.0277 - acc: 0.7985 - val_loss: 0.0267 - val_acc: 0.8020\n",
      "Epoch 39/100\n",
      "25600/25600 [==============================] - 2s 64us/step - loss: 0.0274 - acc: 0.8005 - val_loss: 0.0261 - val_acc: 0.7961\n",
      "Epoch 40/100\n",
      "25600/25600 [==============================] - 2s 64us/step - loss: 0.0277 - acc: 0.7976 - val_loss: 0.0262 - val_acc: 0.8066\n",
      "Epoch 41/100\n",
      "25600/25600 [==============================] - ETA: 0s - loss: 0.0276 - acc: 0.798 - 2s 65us/step - loss: 0.0276 - acc: 0.7980 - val_loss: 0.0258 - val_acc: 0.8047\n",
      "Epoch 42/100\n",
      "25600/25600 [==============================] - 2s 65us/step - loss: 0.0276 - acc: 0.7986 - val_loss: 0.0263 - val_acc: 0.7973\n",
      "Epoch 43/100\n",
      "25600/25600 [==============================] - 2s 65us/step - loss: 0.0278 - acc: 0.7993 - val_loss: 0.0258 - val_acc: 0.7984\n",
      "Epoch 44/100\n",
      "25600/25600 [==============================] - 2s 65us/step - loss: 0.0277 - acc: 0.7982 - val_loss: 0.0257 - val_acc: 0.8023\n",
      "Epoch 45/100\n",
      "25600/25600 [==============================] - 2s 67us/step - loss: 0.0274 - acc: 0.7989 - val_loss: 0.0261 - val_acc: 0.7969\n",
      "Epoch 46/100\n",
      "25600/25600 [==============================] - 2s 66us/step - loss: 0.0274 - acc: 0.7994 - val_loss: 0.0258 - val_acc: 0.8059\n",
      "Epoch 47/100\n",
      "25600/25600 [==============================] - 2s 67us/step - loss: 0.0274 - acc: 0.8005 - val_loss: 0.0258 - val_acc: 0.8008\n",
      "Epoch 48/100\n",
      "25600/25600 [==============================] - 2s 69us/step - loss: 0.0274 - acc: 0.7993 - val_loss: 0.0261 - val_acc: 0.8027\n",
      "Epoch 49/100\n",
      "25600/25600 [==============================] - 2s 69us/step - loss: 0.0272 - acc: 0.8007 - val_loss: 0.0263 - val_acc: 0.7973\n",
      "Epoch 50/100\n",
      "25600/25600 [==============================] - 2s 72us/step - loss: 0.0274 - acc: 0.7998 - val_loss: 0.0266 - val_acc: 0.7961\n",
      "Epoch 51/100\n",
      "25600/25600 [==============================] - 2s 72us/step - loss: 0.0276 - acc: 0.8004 - val_loss: 0.0257 - val_acc: 0.8000\n",
      "Epoch 52/100\n",
      "25600/25600 [==============================] - 2s 72us/step - loss: 0.0275 - acc: 0.7972 - val_loss: 0.0258 - val_acc: 0.7996\n",
      "Epoch 53/100\n",
      "25600/25600 [==============================] - 2s 73us/step - loss: 0.0274 - acc: 0.7997 - val_loss: 0.0265 - val_acc: 0.8063\n",
      "Epoch 54/100\n",
      "25600/25600 [==============================] - 2s 72us/step - loss: 0.0275 - acc: 0.8005 - val_loss: 0.0261 - val_acc: 0.7988\n",
      "Epoch 55/100\n",
      "25600/25600 [==============================] - 2s 71us/step - loss: 0.0274 - acc: 0.7999 - val_loss: 0.0255 - val_acc: 0.8012\n",
      "Epoch 56/100\n",
      "25600/25600 [==============================] - 2s 73us/step - loss: 0.0273 - acc: 0.7982 - val_loss: 0.0282 - val_acc: 0.7977\n",
      "Epoch 57/100\n",
      "25600/25600 [==============================] - 2s 77us/step - loss: 0.0275 - acc: 0.8009 - val_loss: 0.0257 - val_acc: 0.8000\n",
      "Epoch 58/100\n",
      "25600/25600 [==============================] - 2s 78us/step - loss: 0.0274 - acc: 0.8005 - val_loss: 0.0263 - val_acc: 0.8012\n",
      "Epoch 59/100\n",
      "25600/25600 [==============================] - 2s 73us/step - loss: 0.0273 - acc: 0.8014 - val_loss: 0.0255 - val_acc: 0.8051\n",
      "Epoch 60/100\n",
      "25600/25600 [==============================] - 2s 74us/step - loss: 0.0272 - acc: 0.8013 - val_loss: 0.0255 - val_acc: 0.8004\n",
      "Epoch 61/100\n",
      "25600/25600 [==============================] - 2s 73us/step - loss: 0.0274 - acc: 0.7993 - val_loss: 0.0255 - val_acc: 0.8027\n",
      "Epoch 62/100\n",
      "25600/25600 [==============================] - 2s 72us/step - loss: 0.0273 - acc: 0.8010 - val_loss: 0.0264 - val_acc: 0.7953\n",
      "Epoch 63/100\n",
      "25600/25600 [==============================] - 2s 71us/step - loss: 0.0274 - acc: 0.7998 - val_loss: 0.0256 - val_acc: 0.8031\n",
      "Epoch 64/100\n",
      "25600/25600 [==============================] - 2s 72us/step - loss: 0.0274 - acc: 0.8005 - val_loss: 0.0261 - val_acc: 0.8105\n",
      "Epoch 65/100\n",
      "25600/25600 [==============================] - 2s 74us/step - loss: 0.0272 - acc: 0.8011 - val_loss: 0.0278 - val_acc: 0.8020\n",
      "Epoch 66/100\n",
      "25600/25600 [==============================] - 2s 79us/step - loss: 0.0275 - acc: 0.8009 - val_loss: 0.0254 - val_acc: 0.8043\n",
      "Epoch 67/100\n",
      "25600/25600 [==============================] - 2s 81us/step - loss: 0.0270 - acc: 0.8020 - val_loss: 0.0255 - val_acc: 0.8031\n",
      "Epoch 68/100\n",
      "25600/25600 [==============================] - 2s 80us/step - loss: 0.0271 - acc: 0.8019 - val_loss: 0.0254 - val_acc: 0.7980\n",
      "Epoch 69/100\n",
      "25600/25600 [==============================] - 2s 81us/step - loss: 0.0272 - acc: 0.7999 - val_loss: 0.0255 - val_acc: 0.7984\n",
      "Epoch 70/100\n",
      "25600/25600 [==============================] - 2s 82us/step - loss: 0.0271 - acc: 0.8012 - val_loss: 0.0271 - val_acc: 0.8047\n",
      "Epoch 71/100\n",
      "25600/25600 [==============================] - 2s 80us/step - loss: 0.0275 - acc: 0.8007 - val_loss: 0.0253 - val_acc: 0.8043\n",
      "Epoch 72/100\n",
      "25600/25600 [==============================] - 2s 80us/step - loss: 0.0271 - acc: 0.8023 - val_loss: 0.0257 - val_acc: 0.8000\n",
      "Epoch 73/100\n",
      "25600/25600 [==============================] - 2s 89us/step - loss: 0.0272 - acc: 0.8016 - val_loss: 0.0254 - val_acc: 0.8051\n",
      "Epoch 74/100\n",
      "25600/25600 [==============================] - 3s 108us/step - loss: 0.0269 - acc: 0.8037 - val_loss: 0.0253 - val_acc: 0.7973\n",
      "Epoch 75/100\n",
      "25600/25600 [==============================] - 4s 147us/step - loss: 0.0273 - acc: 0.8005 - val_loss: 0.0253 - val_acc: 0.7984\n",
      "Epoch 76/100\n",
      "25600/25600 [==============================] - 4s 171us/step - loss: 0.0273 - acc: 0.8022 - val_loss: 0.0256 - val_acc: 0.8066oss: 0.0275 - acc: 0.794 - ETA: \n",
      "Epoch 77/100\n",
      "25600/25600 [==============================] - 3s 119us/step - loss: 0.0272 - acc: 0.8014 - val_loss: 0.0252 - val_acc: 0.8035\n",
      "Epoch 78/100\n",
      "25600/25600 [==============================] - 4s 146us/step - loss: 0.0270 - acc: 0.8014 - val_loss: 0.0254 - val_acc: 0.8035\n",
      "Epoch 79/100\n",
      "25600/25600 [==============================] - 4s 165us/step - loss: 0.0268 - acc: 0.8026 - val_loss: 0.0257 - val_acc: 0.8047\n",
      "Epoch 80/100\n",
      "25600/25600 [==============================] - 4s 175us/step - loss: 0.0269 - acc: 0.8021 - val_loss: 0.0252 - val_acc: 0.8004\n",
      "Epoch 81/100\n",
      "25600/25600 [==============================] - 6s 227us/step - loss: 0.0270 - acc: 0.8025 - val_loss: 0.0256 - val_acc: 0.8102\n",
      "Epoch 82/100\n",
      "25600/25600 [==============================] - 11s 436us/step - loss: 0.0274 - acc: 0.8027 - val_loss: 0.0254 - val_acc: 0.8035\n",
      "Epoch 83/100\n",
      "25600/25600 [==============================] - 13s 503us/step - loss: 0.0273 - acc: 0.8024 - val_loss: 0.0259 - val_acc: 0.7988\n",
      "Epoch 84/100\n",
      "25600/25600 [==============================] - 12s 480us/step - loss: 0.0273 - acc: 0.8021 - val_loss: 0.0255 - val_acc: 0.7996\n",
      "Epoch 85/100\n",
      "25600/25600 [==============================] - 12s 472us/step - loss: 0.0271 - acc: 0.8026 - val_loss: 0.0259 - val_acc: 0.8070\n",
      "Epoch 86/100\n",
      "25600/25600 [==============================] - 12s 486us/step - loss: 0.0271 - acc: 0.8019 - val_loss: 0.0255 - val_acc: 0.8051\n",
      "Epoch 87/100\n",
      "25600/25600 [==============================] - 13s 510us/step - loss: 0.0272 - acc: 0.8020 - val_loss: 0.0256 - val_acc: 0.8094\n",
      "Epoch 88/100\n",
      "25600/25600 [==============================] - 12s 458us/step - loss: 0.0272 - acc: 0.8017 - val_loss: 0.0254 - val_acc: 0.8008\n",
      "Epoch 89/100\n",
      "25600/25600 [==============================] - 11s 423us/step - loss: 0.0271 - acc: 0.8008 - val_loss: 0.0262 - val_acc: 0.8055\n",
      "Epoch 90/100\n",
      "25600/25600 [==============================] - 4s 170us/step - loss: 0.0272 - acc: 0.8022 - val_loss: 0.0254 - val_acc: 0.8094\n",
      "Epoch 91/100\n",
      "25600/25600 [==============================] - 4s 143us/step - loss: 0.0268 - acc: 0.8049 - val_loss: 0.0252 - val_acc: 0.7980\n",
      "Epoch 92/100\n",
      "25600/25600 [==============================] - 3s 129us/step - loss: 0.0267 - acc: 0.8044 - val_loss: 0.0254 - val_acc: 0.8043\n",
      "Epoch 93/100\n",
      "25600/25600 [==============================] - 3s 128us/step - loss: 0.0268 - acc: 0.8018 - val_loss: 0.0253 - val_acc: 0.8016\n",
      "Epoch 94/100\n",
      "25600/25600 [==============================] - 3s 128us/step - loss: 0.0268 - acc: 0.8021 - val_loss: 0.0274 - val_acc: 0.7953\n",
      "Epoch 95/100\n",
      "25600/25600 [==============================] - 3s 128us/step - loss: 0.0269 - acc: 0.8021 - val_loss: 0.0251 - val_acc: 0.8051\n",
      "Epoch 96/100\n",
      "25600/25600 [==============================] - 3s 118us/step - loss: 0.0269 - acc: 0.8028 - val_loss: 0.0260 - val_acc: 0.8047\n",
      "Epoch 97/100\n",
      "25600/25600 [==============================] - 3s 103us/step - loss: 0.0270 - acc: 0.8026 - val_loss: 0.0257 - val_acc: 0.8023\n",
      "Epoch 98/100\n",
      "25600/25600 [==============================] - 3s 126us/step - loss: 0.0270 - acc: 0.8023 - val_loss: 0.0251 - val_acc: 0.8063\n",
      "Epoch 99/100\n",
      "25600/25600 [==============================] - 4s 142us/step - loss: 0.0266 - acc: 0.8045 - val_loss: 0.0250 - val_acc: 0.8035\n",
      "Epoch 100/100\n",
      "25600/25600 [==============================] - 3s 113us/step - loss: 0.0270 - acc: 0.8006 - val_loss: 0.0255 - val_acc: 0.8086\n"
     ]
    }
   ],
   "source": [
    "history = pre_trained_model.fit(train_features, train_labels, epochs=100, batch_size=batch_size, \n",
    "                    validation_data= (validation_features, validation_labels)\n",
    "                   )"
   ]
  },
  {
   "cell_type": "code",
   "execution_count": 37,
   "metadata": {},
   "outputs": [
    {
     "data": {
      "image/png": "[encoded data removed]",
      "text/plain": [
       "<Figure size 936x360 with 2 Axes>"
      ]
     },
     "metadata": {
      "needs_background": "light"
     },
     "output_type": "display_data"
    }
   ],
   "source": [
    "fig = plt.figure(figsize=(13, 5))\n",
    "ax  = fig.add_subplot(1,2,1, title='Accuracy')\n",
    "plt.plot(history.history['val_acc'], label = 'test acc')\n",
    "plt.plot(history.history['acc'], label = 'train acc')\n",
    "plt.legend(loc=0)\n",
    "\n",
    "ax  = fig.add_subplot(1,2,2, title='Loss')\n",
    "plt.plot(history.history['val_loss'], label = 'test loss')\n",
    "plt.plot(history.history['loss'], label = 'train loss')\n",
    "plt.legend(loc=0)\n",
    "\n",
    "plt.tight_layout()\n",
    "plt.show()\n"
   ]
  },
  {
   "cell_type": "code",
   "execution_count": null,
   "metadata": {},
   "outputs": [],
   "source": []
  },
  {
   "cell_type": "markdown",
   "metadata": {},
   "source": [
    "## Freezed pretrained VGG16 + trainable estimator at the end"
   ]
  },
  {
   "cell_type": "code",
   "execution_count": null,
   "metadata": {},
   "outputs": [],
   "source": [
    "conv_base.trainable = False"
   ]
  },
  {
   "cell_type": "code",
   "execution_count": 42,
   "metadata": {},
   "outputs": [
    {
     "name": "stdout",
     "output_type": "stream",
     "text": [
      "_________________________________________________________________\n",
      "Layer (type)                 Output Shape              Param #   \n",
      "=================================================================\n",
      "vgg16 (Model)                (None, 3, 3, 512)         14714688  \n",
      "_________________________________________________________________\n",
      "flatten_4 (Flatten)          (None, 4608)              0         \n",
      "_________________________________________________________________\n",
      "dense_7 (Dense)              (None, 256)               1179904   \n",
      "_________________________________________________________________\n",
      "dropout_3 (Dropout)          (None, 256)               0         \n",
      "_________________________________________________________________\n",
      "dense_8 (Dense)              (None, 3)                 771       \n",
      "=================================================================\n",
      "Total params: 15,895,363\n",
      "Trainable params: 1,180,675\n",
      "Non-trainable params: 14,714,688\n",
      "_________________________________________________________________\n"
     ]
    }
   ],
   "source": [
    "'''\n",
    "Now let's make our new model.\n",
    "'''\n",
    "pre_trained_model = ks.models.Sequential()\n",
    "\n",
    "pre_trained_model.add(conv_base)\n",
    "\n",
    "pre_trained_model.add(ks.layers.Flatten())\n",
    "\n",
    "pre_trained_model.add(ks.layers.Dense(256, activation='relu' ))\n",
    "pre_trained_model.add(ks.layers.Dropout(0.5))\n",
    "\n",
    "pre_trained_model.add(ks.layers.Dense(3, activation='softmax'))\n",
    "\n",
    "pre_trained_model.compile(loss=ks.losses.mean_squared_error, \n",
    "             optimizer=ks.optimizers.SGD(lr=0.01, decay=1e-6, momentum=0.9, nesterov=True), \n",
    "             metrics=['acc'])\n",
    "\n",
    "pre_trained_model.summary()"
   ]
  },
  {
   "cell_type": "code",
   "execution_count": 43,
   "metadata": {},
   "outputs": [
    {
     "data": {
      "text/plain": [
       "[<tf.Variable 'dense_7/kernel:0' shape=(4608, 256) dtype=float32_ref>,\n",
       " <tf.Variable 'dense_7/bias:0' shape=(256,) dtype=float32_ref>,\n",
       " <tf.Variable 'dense_8/kernel:0' shape=(256, 3) dtype=float32_ref>,\n",
       " <tf.Variable 'dense_8/bias:0' shape=(3,) dtype=float32_ref>]"
      ]
     },
     "execution_count": 43,
     "metadata": {},
     "output_type": "execute_result"
    }
   ],
   "source": [
    "# conv_base.trainable = False\n",
    "pre_trained_model.trainable_weights"
   ]
  },
  {
   "cell_type": "code",
   "execution_count": 44,
   "metadata": {},
   "outputs": [
    {
     "name": "stdout",
     "output_type": "stream",
     "text": [
      "Epoch 1/2\n",
      "241/241 [==============================] - 233s 967ms/step - loss: 0.0441 - acc: 0.7052 - val_loss: 0.0346 - val_acc: 0.7688\n",
      "Epoch 2/2\n",
      "241/241 [==============================] - 253s 1s/step - loss: 0.0355 - acc: 0.7643 - val_loss: 0.0316 - val_acc: 0.7806\n"
     ]
    },
    {
     "data": {
      "image/png": "[encoded data removed]",
      "text/plain": [
       "<Figure size 936x360 with 2 Axes>"
      ]
     },
     "metadata": {
      "needs_background": "light"
     },
     "output_type": "display_data"
    },
    {
     "name": "stdout",
     "output_type": "stream",
     "text": [
      "Wall time: 8min 6s\n"
     ]
    }
   ],
   "source": [
    "%%time\n",
    "############### Training the model\n",
    "\n",
    "history = pre_trained_model.fit_generator(train_generator, epochs=2, \n",
    "                                steps_per_epoch=stp_epch, \n",
    "                                validation_data= validation_generator, \n",
    "                                validation_steps= stp_epch\n",
    "                               )\n",
    "\n",
    "##############Plotting the result\n",
    "fig = plt.figure(figsize=(13, 5))\n",
    "ax  = fig.add_subplot(1,2,1, title='Accuracy')\n",
    "plt.plot(history.history['val_acc'], label = 'test acc')\n",
    "plt.plot(history.history['acc'], label = 'train acc')\n",
    "plt.legend(loc=0)\n",
    "\n",
    "ax  = fig.add_subplot(1,2,2, title='Loss')\n",
    "plt.plot(history.history['val_loss'], label = 'test loss')\n",
    "plt.plot(history.history['loss'], label = 'train loss')\n",
    "plt.legend(loc=0)\n",
    "\n",
    "plt.tight_layout()\n",
    "plt.show()\n"
   ]
  },
  {
   "cell_type": "markdown",
   "metadata": {},
   "source": [
    "## Partially freezed pretrained VGG16 + trainable estimator at the end"
   ]
  },
  {
   "cell_type": "code",
   "execution_count": 54,
   "metadata": {},
   "outputs": [
    {
     "name": "stdout",
     "output_type": "stream",
     "text": [
      "Layer 1 is trainable: False\n",
      "Layer 2 is trainable: False\n",
      "Layer 3 is trainable: False\n",
      "Layer 4 is trainable: False\n",
      "Layer 5 is trainable: False\n",
      "Layer 6 is trainable: False\n",
      "Layer 7 is trainable: False\n",
      "Layer 8 is trainable: False\n",
      "Layer 9 is trainable: False\n",
      "Layer 10 is trainable: False\n",
      "Layer 11 is trainable: False\n",
      "Layer 12 is trainable: False\n",
      "Layer 13 is trainable: False\n",
      "Layer 14 is trainable: False\n",
      "Layer 15 is trainable: False\n",
      "Layer 16 is trainable: False\n",
      "Layer 17 is trainable: False\n",
      "Layer 18 is trainable: True\n",
      "Layer 19 is trainable: True\n"
     ]
    }
   ],
   "source": [
    "conv_base.trainble = True\n",
    "\n",
    "# We can freeze all bu the last two layers. \n",
    "for layer in conv_base.layers[:-2]:\n",
    "    layer.trainable = False\n",
    "\n",
    "## We can check which layers are traible. \n",
    "i=0    \n",
    "for layer in conv_base.layers:\n",
    "    i+=1\n",
    "    print('Layer {} is trainable: {}'.format(i,layer.trainable)  )    "
   ]
  },
  {
   "cell_type": "code",
   "execution_count": 56,
   "metadata": {},
   "outputs": [],
   "source": [
    "\n",
    "pre_trained_model = ks.models.Sequential()\n",
    "\n",
    "pre_trained_model.add(conv_base)\n",
    "\n",
    "pre_trained_model.add(ks.layers.Flatten())\n",
    "\n",
    "pre_trained_model.add(ks.layers.Dense(256, activation='relu' ))\n",
    "pre_trained_model.add(ks.layers.Dropout(0.5))\n",
    "\n",
    "pre_trained_model.add(ks.layers.Dense(3, activation='softmax'))\n",
    "\n",
    "pre_trained_model.compile(loss=ks.losses.mean_squared_error, \n",
    "             optimizer=ks.optimizers.SGD(lr=0.01, decay=1e-6, momentum=0.9, nesterov=True), \n",
    "             metrics=['acc'])\n",
    "\n"
   ]
  },
  {
   "cell_type": "code",
   "execution_count": 57,
   "metadata": {},
   "outputs": [
    {
     "name": "stdout",
     "output_type": "stream",
     "text": [
      "Epoch 1/2\n",
      "241/241 [==============================] - 217s 899ms/step - loss: 0.0443 - acc: 0.7015 - val_loss: 0.0345 - val_acc: 0.7721\n",
      "Epoch 2/2\n",
      "241/241 [==============================] - 351s 1s/step - loss: 0.0357 - acc: 0.7635 - val_loss: 0.0321 - val_acc: 0.7731\n"
     ]
    },
    {
     "data": {
      "image/png": "[encoded data removed]",
      "text/plain": [
       "<Figure size 936x360 with 2 Axes>"
      ]
     },
     "metadata": {
      "needs_background": "light"
     },
     "output_type": "display_data"
    },
    {
     "name": "stdout",
     "output_type": "stream",
     "text": [
      "Wall time: 9min 28s\n"
     ]
    }
   ],
   "source": [
    "%%time\n",
    "\n",
    "## Reset the model\n",
    "# pre_trained_model.reset_states\n",
    "\n",
    "\n",
    "############### Training the model\n",
    "\n",
    "history = pre_trained_model.fit_generator(train_generator, epochs=2, \n",
    "                                steps_per_epoch=stp_epch, \n",
    "                                validation_data= validation_generator, \n",
    "                                validation_steps= stp_epch\n",
    "                               )\n",
    "\n",
    "##############Plotting the result\n",
    "fig = plt.figure(figsize=(13, 5))\n",
    "ax  = fig.add_subplot(1,2,1, title='Accuracy')\n",
    "plt.plot(history.history['val_acc'], label = 'test acc')\n",
    "plt.plot(history.history['acc'], label = 'train acc')\n",
    "plt.legend(loc=0)\n",
    "\n",
    "ax  = fig.add_subplot(1,2,2, title='Loss')\n",
    "plt.plot(history.history['val_loss'], label = 'test loss')\n",
    "plt.plot(history.history['loss'], label = 'train loss')\n",
    "plt.legend(loc=0)\n",
    "\n",
    "plt.tight_layout()\n",
    "plt.show()\n"
   ]
  },
  {
   "cell_type": "markdown",
   "metadata": {},
   "source": [
    "# Full estimation of the labels"
   ]
  },
  {
   "cell_type": "code",
   "execution_count": 6,
   "metadata": {
    "ExecuteTime": {
     "end_time": "2019-05-19T09:48:48.410116Z",
     "start_time": "2019-05-19T09:48:47.590433Z"
    },
    "init_cell": true
   },
   "outputs": [
    {
     "data": {
      "text/html": [
       "<div>\n",
       "<style scoped>\n",
       "    .dataframe tbody tr th:only-of-type {\n",
       "        vertical-align: middle;\n",
       "    }\n",
       "\n",
       "    .dataframe tbody tr th {\n",
       "        vertical-align: top;\n",
       "    }\n",
       "\n",
       "    .dataframe thead th {\n",
       "        text-align: right;\n",
       "    }\n",
       "</style>\n",
       "<table border=\"1\" class=\"dataframe\">\n",
       "  <thead>\n",
       "    <tr style=\"text-align: right;\">\n",
       "      <th></th>\n",
       "      <th>GalaxyID</th>\n",
       "      <th>Class1.1</th>\n",
       "      <th>Class1.2</th>\n",
       "      <th>Class1.3</th>\n",
       "      <th>Class2.1</th>\n",
       "      <th>Class2.2</th>\n",
       "      <th>Class3.1</th>\n",
       "      <th>Class3.2</th>\n",
       "      <th>Class4.1</th>\n",
       "      <th>Class4.2</th>\n",
       "      <th>...</th>\n",
       "      <th>Class9.3</th>\n",
       "      <th>Class10.1</th>\n",
       "      <th>Class10.2</th>\n",
       "      <th>Class10.3</th>\n",
       "      <th>Class11.1</th>\n",
       "      <th>Class11.2</th>\n",
       "      <th>Class11.3</th>\n",
       "      <th>Class11.4</th>\n",
       "      <th>Class11.5</th>\n",
       "      <th>Class11.6</th>\n",
       "    </tr>\n",
       "  </thead>\n",
       "  <tbody>\n",
       "    <tr>\n",
       "      <th>0</th>\n",
       "      <td>100008.jpg</td>\n",
       "      <td>0.383147</td>\n",
       "      <td>0.616853</td>\n",
       "      <td>0.000000</td>\n",
       "      <td>0.000000</td>\n",
       "      <td>0.616853</td>\n",
       "      <td>0.038452</td>\n",
       "      <td>0.578401</td>\n",
       "      <td>0.418398</td>\n",
       "      <td>0.198455</td>\n",
       "      <td>...</td>\n",
       "      <td>0.000000</td>\n",
       "      <td>0.279952</td>\n",
       "      <td>0.138445</td>\n",
       "      <td>0.000000</td>\n",
       "      <td>0.000000</td>\n",
       "      <td>0.092886</td>\n",
       "      <td>0.0</td>\n",
       "      <td>0.0</td>\n",
       "      <td>0.0</td>\n",
       "      <td>0.325512</td>\n",
       "    </tr>\n",
       "    <tr>\n",
       "      <th>1</th>\n",
       "      <td>100023.jpg</td>\n",
       "      <td>0.327001</td>\n",
       "      <td>0.663777</td>\n",
       "      <td>0.009222</td>\n",
       "      <td>0.031178</td>\n",
       "      <td>0.632599</td>\n",
       "      <td>0.467370</td>\n",
       "      <td>0.165229</td>\n",
       "      <td>0.591328</td>\n",
       "      <td>0.041271</td>\n",
       "      <td>...</td>\n",
       "      <td>0.018764</td>\n",
       "      <td>0.000000</td>\n",
       "      <td>0.131378</td>\n",
       "      <td>0.459950</td>\n",
       "      <td>0.000000</td>\n",
       "      <td>0.591328</td>\n",
       "      <td>0.0</td>\n",
       "      <td>0.0</td>\n",
       "      <td>0.0</td>\n",
       "      <td>0.000000</td>\n",
       "    </tr>\n",
       "    <tr>\n",
       "      <th>2</th>\n",
       "      <td>100053.jpg</td>\n",
       "      <td>0.765717</td>\n",
       "      <td>0.177352</td>\n",
       "      <td>0.056931</td>\n",
       "      <td>0.000000</td>\n",
       "      <td>0.177352</td>\n",
       "      <td>0.000000</td>\n",
       "      <td>0.177352</td>\n",
       "      <td>0.000000</td>\n",
       "      <td>0.177352</td>\n",
       "      <td>...</td>\n",
       "      <td>0.000000</td>\n",
       "      <td>0.000000</td>\n",
       "      <td>0.000000</td>\n",
       "      <td>0.000000</td>\n",
       "      <td>0.000000</td>\n",
       "      <td>0.000000</td>\n",
       "      <td>0.0</td>\n",
       "      <td>0.0</td>\n",
       "      <td>0.0</td>\n",
       "      <td>0.000000</td>\n",
       "    </tr>\n",
       "    <tr>\n",
       "      <th>3</th>\n",
       "      <td>100078.jpg</td>\n",
       "      <td>0.693377</td>\n",
       "      <td>0.238564</td>\n",
       "      <td>0.068059</td>\n",
       "      <td>0.000000</td>\n",
       "      <td>0.238564</td>\n",
       "      <td>0.109493</td>\n",
       "      <td>0.129071</td>\n",
       "      <td>0.189098</td>\n",
       "      <td>0.049466</td>\n",
       "      <td>...</td>\n",
       "      <td>0.000000</td>\n",
       "      <td>0.094549</td>\n",
       "      <td>0.000000</td>\n",
       "      <td>0.094549</td>\n",
       "      <td>0.189098</td>\n",
       "      <td>0.000000</td>\n",
       "      <td>0.0</td>\n",
       "      <td>0.0</td>\n",
       "      <td>0.0</td>\n",
       "      <td>0.000000</td>\n",
       "    </tr>\n",
       "    <tr>\n",
       "      <th>4</th>\n",
       "      <td>100090.jpg</td>\n",
       "      <td>0.933839</td>\n",
       "      <td>0.000000</td>\n",
       "      <td>0.066161</td>\n",
       "      <td>0.000000</td>\n",
       "      <td>0.000000</td>\n",
       "      <td>0.000000</td>\n",
       "      <td>0.000000</td>\n",
       "      <td>0.000000</td>\n",
       "      <td>0.000000</td>\n",
       "      <td>...</td>\n",
       "      <td>0.000000</td>\n",
       "      <td>0.000000</td>\n",
       "      <td>0.000000</td>\n",
       "      <td>0.000000</td>\n",
       "      <td>0.000000</td>\n",
       "      <td>0.000000</td>\n",
       "      <td>0.0</td>\n",
       "      <td>0.0</td>\n",
       "      <td>0.0</td>\n",
       "      <td>0.000000</td>\n",
       "    </tr>\n",
       "  </tbody>\n",
       "</table>\n",
       "<p>5 rows × 38 columns</p>\n",
       "</div>"
      ],
      "text/plain": [
       "     GalaxyID  Class1.1  Class1.2  Class1.3  Class2.1  Class2.2  Class3.1  \\\n",
       "0  100008.jpg  0.383147  0.616853  0.000000  0.000000  0.616853  0.038452   \n",
       "1  100023.jpg  0.327001  0.663777  0.009222  0.031178  0.632599  0.467370   \n",
       "2  100053.jpg  0.765717  0.177352  0.056931  0.000000  0.177352  0.000000   \n",
       "3  100078.jpg  0.693377  0.238564  0.068059  0.000000  0.238564  0.109493   \n",
       "4  100090.jpg  0.933839  0.000000  0.066161  0.000000  0.000000  0.000000   \n",
       "\n",
       "   Class3.2  Class4.1  Class4.2  ...  Class9.3  Class10.1  Class10.2  \\\n",
       "0  0.578401  0.418398  0.198455  ...  0.000000   0.279952   0.138445   \n",
       "1  0.165229  0.591328  0.041271  ...  0.018764   0.000000   0.131378   \n",
       "2  0.177352  0.000000  0.177352  ...  0.000000   0.000000   0.000000   \n",
       "3  0.129071  0.189098  0.049466  ...  0.000000   0.094549   0.000000   \n",
       "4  0.000000  0.000000  0.000000  ...  0.000000   0.000000   0.000000   \n",
       "\n",
       "   Class10.3  Class11.1  Class11.2  Class11.3  Class11.4  Class11.5  Class11.6  \n",
       "0   0.000000   0.000000   0.092886        0.0        0.0        0.0   0.325512  \n",
       "1   0.459950   0.000000   0.591328        0.0        0.0        0.0   0.000000  \n",
       "2   0.000000   0.000000   0.000000        0.0        0.0        0.0   0.000000  \n",
       "3   0.094549   0.189098   0.000000        0.0        0.0        0.0   0.000000  \n",
       "4   0.000000   0.000000   0.000000        0.0        0.0        0.0   0.000000  \n",
       "\n",
       "[5 rows x 38 columns]"
      ]
     },
     "execution_count": 6,
     "metadata": {},
     "output_type": "execute_result"
    }
   ],
   "source": [
    "df = pd.read_csv(labels)\n",
    "df['GalaxyID'] = df['GalaxyID'].astype(str)+'.jpg'\n",
    "df.head()"
   ]
  },
  {
   "cell_type": "code",
   "execution_count": 7,
   "metadata": {
    "ExecuteTime": {
     "end_time": "2019-05-19T09:48:48.628565Z",
     "start_time": "2019-05-19T09:48:48.621618Z"
    }
   },
   "outputs": [],
   "source": [
    "label_cols = df.columns[1:]\n",
    "n_classes = len(label_cols)"
   ]
  },
  {
   "cell_type": "code",
   "execution_count": 32,
   "metadata": {
    "ExecuteTime": {
     "end_time": "2019-05-19T10:09:26.223989Z",
     "start_time": "2019-05-19T10:09:10.789155Z"
    },
    "init_cell": true
   },
   "outputs": [
    {
     "name": "stdout",
     "output_type": "stream",
     "text": [
      "Found 46184 images.\n",
      "Found 15394 images.\n"
     ]
    }
   ],
   "source": [
    "from keras.preprocessing.image import ImageDataGenerator\n",
    "\n",
    "train_datagen = ImageDataGenerator(rescale=1./255.,validation_split=0.25)\n",
    "\n",
    "\n",
    "\n",
    "######################################################################################\n",
    "\n",
    "train_generator = train_datagen.flow_from_dataframe( dataframe=df,\n",
    "                                                   directory=images_dir,\n",
    "                                                   x_col = 'GalaxyID', \n",
    "                                                   y_col = label_cols, \n",
    "                                                   class_mode='other', \n",
    "                                                   target_size=(n_w, n_h), \n",
    "                                                   batch_size=batch_size,\n",
    "                                                   shuffle=True, \n",
    "                                                   subset='training')\n",
    "\n",
    "validation_generator = train_datagen.flow_from_dataframe( dataframe=df,\n",
    "                                                   directory=images_dir,\n",
    "                                                   x_col = 'GalaxyID', \n",
    "                                                   y_col = label_cols, \n",
    "                                                   class_mode='other', \n",
    "                                                   target_size=(n_w, n_h), \n",
    "                                                   batch_size=batch_size, \n",
    "                                                   shuffle=True, \n",
    "                                                   subset='validation')\n"
   ]
  },
  {
   "cell_type": "code",
   "execution_count": 8,
   "metadata": {
    "ExecuteTime": {
     "end_time": "2019-05-19T09:11:25.913641Z",
     "start_time": "2019-05-19T09:11:17.574100Z"
    }
   },
   "outputs": [
    {
     "name": "stdout",
     "output_type": "stream",
     "text": [
      "WARNING:tensorflow:From C:\\Users\\sraeisi\\.conda\\envs\\keras-gpu\\lib\\site-packages\\tensorflow\\python\\framework\\op_def_library.py:263: colocate_with (from tensorflow.python.framework.ops) is deprecated and will be removed in a future version.\n",
      "Instructions for updating:\n",
      "Colocations handled automatically by placer.\n",
      "_________________________________________________________________\n",
      "Layer (type)                 Output Shape              Param #   \n",
      "=================================================================\n",
      "input_1 (InputLayer)         (None, 200, 200, 3)       0         \n",
      "_________________________________________________________________\n",
      "block1_conv1 (Conv2D)        (None, 200, 200, 64)      1792      \n",
      "_________________________________________________________________\n",
      "block1_conv2 (Conv2D)        (None, 200, 200, 64)      36928     \n",
      "_________________________________________________________________\n",
      "block1_pool (MaxPooling2D)   (None, 100, 100, 64)      0         \n",
      "_________________________________________________________________\n",
      "block2_conv1 (Conv2D)        (None, 100, 100, 128)     73856     \n",
      "_________________________________________________________________\n",
      "block2_conv2 (Conv2D)        (None, 100, 100, 128)     147584    \n",
      "_________________________________________________________________\n",
      "block2_pool (MaxPooling2D)   (None, 50, 50, 128)       0         \n",
      "_________________________________________________________________\n",
      "block3_conv1 (Conv2D)        (None, 50, 50, 256)       295168    \n",
      "_________________________________________________________________\n",
      "block3_conv2 (Conv2D)        (None, 50, 50, 256)       590080    \n",
      "_________________________________________________________________\n",
      "block3_conv3 (Conv2D)        (None, 50, 50, 256)       590080    \n",
      "_________________________________________________________________\n",
      "block3_pool (MaxPooling2D)   (None, 25, 25, 256)       0         \n",
      "_________________________________________________________________\n",
      "block4_conv1 (Conv2D)        (None, 25, 25, 512)       1180160   \n",
      "_________________________________________________________________\n",
      "block4_conv2 (Conv2D)        (None, 25, 25, 512)       2359808   \n",
      "_________________________________________________________________\n",
      "block4_conv3 (Conv2D)        (None, 25, 25, 512)       2359808   \n",
      "_________________________________________________________________\n",
      "block4_pool (MaxPooling2D)   (None, 12, 12, 512)       0         \n",
      "_________________________________________________________________\n",
      "block5_conv1 (Conv2D)        (None, 12, 12, 512)       2359808   \n",
      "_________________________________________________________________\n",
      "block5_conv2 (Conv2D)        (None, 12, 12, 512)       2359808   \n",
      "_________________________________________________________________\n",
      "block5_conv3 (Conv2D)        (None, 12, 12, 512)       2359808   \n",
      "_________________________________________________________________\n",
      "block5_pool (MaxPooling2D)   (None, 6, 6, 512)         0         \n",
      "=================================================================\n",
      "Total params: 14,714,688\n",
      "Trainable params: 14,714,688\n",
      "Non-trainable params: 0\n",
      "_________________________________________________________________\n"
     ]
    }
   ],
   "source": [
    "from keras.applications import VGG16\n",
    "conv_base = VGG16(weights='imagenet', include_top=False, input_shape=(n_w, n_h, 3))\n",
    "conv_base.summary()"
   ]
  },
  {
   "cell_type": "code",
   "execution_count": 25,
   "metadata": {
    "ExecuteTime": {
     "end_time": "2019-05-19T09:33:34.590274Z",
     "start_time": "2019-05-19T09:33:34.582029Z"
    }
   },
   "outputs": [],
   "source": [
    "out_lay = conv_base.layers[-1]\n",
    "con_base_out_d = out_lay.output_shape[1]"
   ]
  },
  {
   "cell_type": "code",
   "execution_count": 25,
   "metadata": {},
   "outputs": [],
   "source": [
    "\n",
    "\n",
    "def extract_features(network, generator, sample_count):\n",
    "    features = np.zeros(shape=(sample_count, con_base_out_d, con_base_out_d, 512))\n",
    "    labels = np.zeros(shape=(sample_count, n_classes))\n",
    "\n",
    "    i = 0\n",
    "    for inputs_batch, labels_batch in generator:\n",
    "        features_batch = network.predict(inputs_batch)\n",
    "#         print(features_batch.shape)\n",
    "        features[i * batch_size : (i + 1) * batch_size] = features_batch\n",
    "        labels[i * batch_size : (i + 1) * batch_size] = labels_batch\n",
    "        i += 1\n",
    "#         print(i)\n",
    "        if i * batch_size >= sample_count:\n",
    "            break\n",
    "    return features, labels"
   ]
  },
  {
   "cell_type": "code",
   "execution_count": 32,
   "metadata": {},
   "outputs": [
    {
     "name": "stdout",
     "output_type": "stream",
     "text": [
      "Wall time: 9min 29s\n"
     ]
    }
   ],
   "source": [
    "%%time \n",
    "train_features, train_labels = extract_features(conv_base, train_generator, 150*batch_size)\n",
    "validation_features, validation_labels = extract_features(conv_base, validation_generator, 20*batch_size)"
   ]
  },
  {
   "cell_type": "code",
   "execution_count": 36,
   "metadata": {},
   "outputs": [],
   "source": [
    "train_features = np.reshape(train_features, (150*batch_size, con_base_out_d * con_base_out_d * 512))\n",
    "validation_features = np.reshape(validation_features, (20*batch_size, con_base_out_d * con_base_out_d * 512))"
   ]
  },
  {
   "cell_type": "code",
   "execution_count": 39,
   "metadata": {},
   "outputs": [
    {
     "name": "stdout",
     "output_type": "stream",
     "text": [
      "_________________________________________________________________\n",
      "Layer (type)                 Output Shape              Param #   \n",
      "=================================================================\n",
      "dense_4 (Dense)              (None, 1024)              18875392  \n",
      "_________________________________________________________________\n",
      "dropout_3 (Dropout)          (None, 1024)              0         \n",
      "_________________________________________________________________\n",
      "dense_5 (Dense)              (None, 256)               262400    \n",
      "_________________________________________________________________\n",
      "dropout_4 (Dropout)          (None, 256)               0         \n",
      "_________________________________________________________________\n",
      "dense_6 (Dense)              (None, 37)                9509      \n",
      "=================================================================\n",
      "Total params: 19,147,301\n",
      "Trainable params: 19,147,301\n",
      "Non-trainable params: 0\n",
      "_________________________________________________________________\n"
     ]
    }
   ],
   "source": [
    "'''\n",
    "Now let's make our new model.\n",
    "'''\n",
    "pre_trained_model = ks.models.Sequential()\n",
    "\n",
    "# pre_trained_model.add(conv_base)\n",
    "\n",
    "# pre_trained_model.add(ks.layers.Flatten())\n",
    "\n",
    "pre_trained_model.add(ks.layers.Dense(1024, activation='relu', input_dim=con_base_out_d * con_base_out_d * 512))\n",
    "pre_trained_model.add(ks.layers.Dropout(0.15))\n",
    "\n",
    "pre_trained_model.add(ks.layers.Dense(256, activation='relu'))\n",
    "pre_trained_model.add(ks.layers.Dropout(0.15))\n",
    "\n",
    "\n",
    "pre_trained_model.add(ks.layers.Dense(n_classes, activation='sigmoid'))\n",
    "\n",
    "pre_trained_model.compile(loss=ks.losses.mean_squared_error, \n",
    "             optimizer=ks.optimizers.SGD(lr=0.00001, decay=1e-6, momentum=0.9, nesterov=True), \n",
    "             metrics=['acc', 'MSE'])\n",
    "pre_trained_model.optimizer = ks.optimizers.RMSprop(lr=1e-6)\n",
    "pre_trained_model.summary()"
   ]
  },
  {
   "cell_type": "code",
   "execution_count": 40,
   "metadata": {},
   "outputs": [
    {
     "name": "stdout",
     "output_type": "stream",
     "text": [
      "WARNING:tensorflow:From C:\\Users\\sraeisi\\.conda\\envs\\keras-gpu\\lib\\site-packages\\tensorflow\\python\\ops\\math_ops.py:3066: to_int32 (from tensorflow.python.ops.math_ops) is deprecated and will be removed in a future version.\n",
      "Instructions for updating:\n",
      "Use tf.cast instead.\n",
      "Train on 38400 samples, validate on 5120 samples\n",
      "Epoch 1/100\n",
      "38400/38400 [==============================] - 15s 386us/step - loss: 0.1285 - acc: 0.3278 - mean_squared_error: 0.1285 - val_loss: 0.0784 - val_acc: 0.6033 - val_mean_squared_error: 0.0784\n",
      "Epoch 2/100\n",
      "38400/38400 [==============================] - 13s 351us/step - loss: 0.0673 - acc: 0.5828 - mean_squared_error: 0.0673 - val_loss: 0.0419 - val_acc: 0.6033 - val_mean_squared_error: 0.0419\n",
      "Epoch 3/100\n",
      "38400/38400 [==============================] - 16s 409us/step - loss: 0.0437 - acc: 0.5799 - mean_squared_error: 0.0437 - val_loss: 0.0302 - val_acc: 0.6033 - val_mean_squared_error: 0.0302\n",
      "Epoch 4/100\n",
      "38400/38400 [==============================] - 16s 414us/step - loss: 0.0361 - acc: 0.5705 - mean_squared_error: 0.0361 - val_loss: 0.0275 - val_acc: 0.6033 - val_mean_squared_error: 0.0275\n",
      "Epoch 5/100\n",
      "38400/38400 [==============================] - 17s 432us/step - loss: 0.0339 - acc: 0.5643 - mean_squared_error: 0.0339 - val_loss: 0.0268 - val_acc: 0.6033 - val_mean_squared_error: 0.0268\n",
      "Epoch 6/100\n",
      "38400/38400 [==============================] - 19s 483us/step - loss: 0.0331 - acc: 0.5611 - mean_squared_error: 0.0331 - val_loss: 0.0264 - val_acc: 0.6033 - val_mean_squared_error: 0.0264\n",
      "Epoch 7/100\n",
      "38400/38400 [==============================] - 18s 458us/step - loss: 0.0324 - acc: 0.5612 - mean_squared_error: 0.0324 - val_loss: 0.0260 - val_acc: 0.6033 - val_mean_squared_error: 0.0260\n",
      "Epoch 8/100\n",
      "38400/38400 [==============================] - 13s 334us/step - loss: 0.0319 - acc: 0.5646 - mean_squared_error: 0.0319 - val_loss: 0.0257 - val_acc: 0.6041 - val_mean_squared_error: 0.0257\n",
      "Epoch 9/100\n",
      "38400/38400 [==============================] - 13s 328us/step - loss: 0.0315 - acc: 0.5661 - mean_squared_error: 0.0315 - val_loss: 0.0253 - val_acc: 0.6049 - val_mean_squared_error: 0.0253\n",
      "Epoch 10/100\n",
      "38400/38400 [==============================] - 13s 336us/step - loss: 0.0311 - acc: 0.5680 - mean_squared_error: 0.0311 - val_loss: 0.0250 - val_acc: 0.6049 - val_mean_squared_error: 0.0250\n",
      "Epoch 11/100\n",
      "38400/38400 [==============================] - 14s 354us/step - loss: 0.0306 - acc: 0.5679 - mean_squared_error: 0.0306 - val_loss: 0.0247 - val_acc: 0.6049 - val_mean_squared_error: 0.0247\n",
      "Epoch 12/100\n",
      "38400/38400 [==============================] - 15s 388us/step - loss: 0.0303 - acc: 0.5656 - mean_squared_error: 0.0303 - val_loss: 0.0244 - val_acc: 0.6066 - val_mean_squared_error: 0.0244\n",
      "Epoch 13/100\n",
      "38400/38400 [==============================] - 14s 372us/step - loss: 0.0299 - acc: 0.5728 - mean_squared_error: 0.0299 - val_loss: 0.0241 - val_acc: 0.6064 - val_mean_squared_error: 0.0241\n",
      "Epoch 14/100\n",
      "38400/38400 [==============================] - 16s 408us/step - loss: 0.0295 - acc: 0.5720 - mean_squared_error: 0.0295 - val_loss: 0.0239 - val_acc: 0.6074 - val_mean_squared_error: 0.0239\n",
      "Epoch 15/100\n",
      "38400/38400 [==============================] - 19s 484us/step - loss: 0.0293 - acc: 0.5726 - mean_squared_error: 0.0293 - val_loss: 0.0237 - val_acc: 0.6074 - val_mean_squared_error: 0.0237\n",
      "Epoch 16/100\n",
      "38400/38400 [==============================] - 19s 495us/step - loss: 0.0290 - acc: 0.5729 - mean_squared_error: 0.0290 - val_loss: 0.0235 - val_acc: 0.6082 - val_mean_squared_error: 0.0235\n",
      "Epoch 17/100\n",
      "38400/38400 [==============================] - 29s 749us/step - loss: 0.0286 - acc: 0.5723 - mean_squared_error: 0.0286 - val_loss: 0.0232 - val_acc: 0.6080 - val_mean_squared_error: 0.0232\n",
      "Epoch 18/100\n",
      "38400/38400 [==============================] - 38s 985us/step - loss: 0.0283 - acc: 0.5730 - mean_squared_error: 0.0283 - val_loss: 0.0230 - val_acc: 0.6086 - val_mean_squared_error: 0.0230\n",
      "Epoch 19/100\n",
      "38400/38400 [==============================] - 20s 531us/step - loss: 0.0280 - acc: 0.5755 - mean_squared_error: 0.0280 - val_loss: 0.0228 - val_acc: 0.6102 - val_mean_squared_error: 0.0228\n",
      "Epoch 20/100\n",
      "38400/38400 [==============================] - 17s 448us/step - loss: 0.0278 - acc: 0.5756 - mean_squared_error: 0.0278 - val_loss: 0.0226 - val_acc: 0.6119 - val_mean_squared_error: 0.0226\n",
      "Epoch 21/100\n",
      "38400/38400 [==============================] - 15s 400us/step - loss: 0.0275 - acc: 0.5739 - mean_squared_error: 0.0275 - val_loss: 0.0224 - val_acc: 0.6141 - val_mean_squared_error: 0.0224\n",
      "Epoch 22/100\n",
      "38400/38400 [==============================] - 15s 380us/step - loss: 0.0273 - acc: 0.5793 - mean_squared_error: 0.0273 - val_loss: 0.0223 - val_acc: 0.6139 - val_mean_squared_error: 0.0223\n",
      "Epoch 23/100\n",
      "38400/38400 [==============================] - 14s 368us/step - loss: 0.0270 - acc: 0.5799 - mean_squared_error: 0.0270 - val_loss: 0.0221 - val_acc: 0.6143 - val_mean_squared_error: 0.0221\n",
      "Epoch 24/100\n",
      "38400/38400 [==============================] - 15s 380us/step - loss: 0.0268 - acc: 0.5820 - mean_squared_error: 0.0268 - val_loss: 0.0219 - val_acc: 0.6160 - val_mean_squared_error: 0.0219\n",
      "Epoch 25/100\n",
      "38400/38400 [==============================] - 13s 350us/step - loss: 0.0266 - acc: 0.5804 - mean_squared_error: 0.0266 - val_loss: 0.0218 - val_acc: 0.6180 - val_mean_squared_error: 0.0218\n",
      "Epoch 26/100\n",
      "38400/38400 [==============================] - 13s 346us/step - loss: 0.0263 - acc: 0.5819 - mean_squared_error: 0.0263 - val_loss: 0.0217 - val_acc: 0.6184 - val_mean_squared_error: 0.0217\n",
      "Epoch 27/100\n",
      "38400/38400 [==============================] - 13s 346us/step - loss: 0.0261 - acc: 0.5820 - mean_squared_error: 0.0261 - val_loss: 0.0214 - val_acc: 0.6193 - val_mean_squared_error: 0.0214\n",
      "Epoch 28/100\n",
      "38400/38400 [==============================] - 14s 365us/step - loss: 0.0259 - acc: 0.5861 - mean_squared_error: 0.0259 - val_loss: 0.0213 - val_acc: 0.6229 - val_mean_squared_error: 0.0213\n",
      "Epoch 29/100\n",
      "38400/38400 [==============================] - 14s 354us/step - loss: 0.0257 - acc: 0.5838 - mean_squared_error: 0.0257 - val_loss: 0.0211 - val_acc: 0.6230 - val_mean_squared_error: 0.0211\n",
      "Epoch 30/100\n",
      "38400/38400 [==============================] - 13s 351us/step - loss: 0.0255 - acc: 0.5835 - mean_squared_error: 0.0255 - val_loss: 0.0210 - val_acc: 0.6242 - val_mean_squared_error: 0.0210\n",
      "Epoch 31/100\n",
      "38400/38400 [==============================] - 14s 364us/step - loss: 0.0253 - acc: 0.5865 - mean_squared_error: 0.0253 - val_loss: 0.0209 - val_acc: 0.6252 - val_mean_squared_error: 0.0209\n",
      "Epoch 32/100\n",
      "38400/38400 [==============================] - 14s 360us/step - loss: 0.0251 - acc: 0.5882 - mean_squared_error: 0.0251 - val_loss: 0.0207 - val_acc: 0.6256 - val_mean_squared_error: 0.0207\n",
      "Epoch 33/100\n",
      "38400/38400 [==============================] - 13s 349us/step - loss: 0.0250 - acc: 0.5876 - mean_squared_error: 0.0250 - val_loss: 0.0206 - val_acc: 0.6289 - val_mean_squared_error: 0.0206\n",
      "Epoch 34/100\n",
      "38400/38400 [==============================] - 13s 348us/step - loss: 0.0247 - acc: 0.5897 - mean_squared_error: 0.0247 - val_loss: 0.0205 - val_acc: 0.6285 - val_mean_squared_error: 0.0205\n",
      "Epoch 35/100\n",
      "38400/38400 [==============================] - 13s 341us/step - loss: 0.0246 - acc: 0.5914 - mean_squared_error: 0.0246 - val_loss: 0.0204 - val_acc: 0.6316 - val_mean_squared_error: 0.0204\n",
      "Epoch 36/100\n",
      "38400/38400 [==============================] - 13s 343us/step - loss: 0.0244 - acc: 0.5921 - mean_squared_error: 0.0244 - val_loss: 0.0202 - val_acc: 0.6348 - val_mean_squared_error: 0.0202\n",
      "Epoch 37/100\n",
      "38400/38400 [==============================] - 14s 365us/step - loss: 0.0242 - acc: 0.5924 - mean_squared_error: 0.0242 - val_loss: 0.0201 - val_acc: 0.6350 - val_mean_squared_error: 0.0201\n",
      "Epoch 38/100\n",
      "38400/38400 [==============================] - 14s 359us/step - loss: 0.0241 - acc: 0.5928 - mean_squared_error: 0.0241 - val_loss: 0.0200 - val_acc: 0.6363 - val_mean_squared_error: 0.0200\n",
      "Epoch 39/100\n",
      "38400/38400 [==============================] - 13s 351us/step - loss: 0.0240 - acc: 0.5933 - mean_squared_error: 0.0240 - val_loss: 0.0199 - val_acc: 0.6381 - val_mean_squared_error: 0.0199\n"
     ]
    },
    {
     "name": "stdout",
     "output_type": "stream",
     "text": [
      "Epoch 40/100\n",
      "38400/38400 [==============================] - 14s 368us/step - loss: 0.0238 - acc: 0.5974 - mean_squared_error: 0.0238 - val_loss: 0.0198 - val_acc: 0.6395 - val_mean_squared_error: 0.0198\n",
      "Epoch 41/100\n",
      "38400/38400 [==============================] - 15s 381us/step - loss: 0.0236 - acc: 0.5955 - mean_squared_error: 0.0236 - val_loss: 0.0197 - val_acc: 0.6406 - val_mean_squared_error: 0.0197\n",
      "Epoch 42/100\n",
      "38400/38400 [==============================] - 15s 382us/step - loss: 0.0235 - acc: 0.5972 - mean_squared_error: 0.0235 - val_loss: 0.0196 - val_acc: 0.6416 - val_mean_squared_error: 0.0196\n",
      "Epoch 43/100\n",
      "38400/38400 [==============================] - 14s 373us/step - loss: 0.0233 - acc: 0.5991 - mean_squared_error: 0.0233 - val_loss: 0.0195 - val_acc: 0.6422 - val_mean_squared_error: 0.0195\n",
      "Epoch 44/100\n",
      "38400/38400 [==============================] - 16s 427us/step - loss: 0.0232 - acc: 0.5993 - mean_squared_error: 0.0232 - val_loss: 0.0194 - val_acc: 0.6443 - val_mean_squared_error: 0.0194\n",
      "Epoch 45/100\n",
      "38400/38400 [==============================] - 16s 404us/step - loss: 0.0230 - acc: 0.6014 - mean_squared_error: 0.0230 - val_loss: 0.0193 - val_acc: 0.6465 - val_mean_squared_error: 0.0193\n",
      "Epoch 46/100\n",
      "38400/38400 [==============================] - 15s 402us/step - loss: 0.0229 - acc: 0.6003 - mean_squared_error: 0.0229 - val_loss: 0.0192 - val_acc: 0.6459 - val_mean_squared_error: 0.0192\n",
      "Epoch 47/100\n",
      "38400/38400 [==============================] - 16s 410us/step - loss: 0.0228 - acc: 0.6029 - mean_squared_error: 0.0228 - val_loss: 0.0192 - val_acc: 0.6463 - val_mean_squared_error: 0.0192\n",
      "Epoch 48/100\n",
      "38400/38400 [==============================] - 16s 408us/step - loss: 0.0227 - acc: 0.6042 - mean_squared_error: 0.0227 - val_loss: 0.0191 - val_acc: 0.6490 - val_mean_squared_error: 0.0191\n",
      "Epoch 49/100\n",
      "38400/38400 [==============================] - 15s 387us/step - loss: 0.0225 - acc: 0.6054 - mean_squared_error: 0.0225 - val_loss: 0.0190 - val_acc: 0.6480 - val_mean_squared_error: 0.0190\n",
      "Epoch 50/100\n",
      "38400/38400 [==============================] - 15s 393us/step - loss: 0.0224 - acc: 0.6009 - mean_squared_error: 0.0224 - val_loss: 0.0189 - val_acc: 0.6496 - val_mean_squared_error: 0.0189\n",
      "Epoch 51/100\n",
      "38400/38400 [==============================] - 17s 436us/step - loss: 0.0223 - acc: 0.6053 - mean_squared_error: 0.0223 - val_loss: 0.0188 - val_acc: 0.6508 - val_mean_squared_error: 0.0188\n",
      "Epoch 52/100\n",
      "38400/38400 [==============================] - 15s 401us/step - loss: 0.0222 - acc: 0.6095 - mean_squared_error: 0.0222 - val_loss: 0.0187 - val_acc: 0.6510 - val_mean_squared_error: 0.0187\n",
      "Epoch 53/100\n",
      "38400/38400 [==============================] - 15s 386us/step - loss: 0.0221 - acc: 0.6084 - mean_squared_error: 0.0221 - val_loss: 0.0187 - val_acc: 0.6518 - val_mean_squared_error: 0.0187\n",
      "Epoch 54/100\n",
      "38400/38400 [==============================] - 15s 393us/step - loss: 0.0220 - acc: 0.6059 - mean_squared_error: 0.0220 - val_loss: 0.0186 - val_acc: 0.6539 - val_mean_squared_error: 0.0186\n",
      "Epoch 55/100\n",
      "38400/38400 [==============================] - 15s 394us/step - loss: 0.0219 - acc: 0.6080 - mean_squared_error: 0.0219 - val_loss: 0.0185 - val_acc: 0.6553 - val_mean_squared_error: 0.0185\n",
      "Epoch 56/100\n",
      "38400/38400 [==============================] - 15s 382us/step - loss: 0.0217 - acc: 0.6094 - mean_squared_error: 0.0217 - val_loss: 0.0185 - val_acc: 0.6561 - val_mean_squared_error: 0.0185\n",
      "Epoch 57/100\n",
      "38400/38400 [==============================] - 14s 375us/step - loss: 0.0217 - acc: 0.6101 - mean_squared_error: 0.0217 - val_loss: 0.0184 - val_acc: 0.6574 - val_mean_squared_error: 0.0184\n",
      "Epoch 58/100\n",
      "38400/38400 [==============================] - 14s 368us/step - loss: 0.0215 - acc: 0.6091 - mean_squared_error: 0.0215 - val_loss: 0.0183 - val_acc: 0.6576 - val_mean_squared_error: 0.0183\n",
      "Epoch 59/100\n",
      "38400/38400 [==============================] - 14s 373us/step - loss: 0.0214 - acc: 0.6146 - mean_squared_error: 0.0214 - val_loss: 0.0183 - val_acc: 0.6602 - val_mean_squared_error: 0.0183\n",
      "Epoch 60/100\n",
      "38400/38400 [==============================] - 16s 407us/step - loss: 0.0214 - acc: 0.6133 - mean_squared_error: 0.0214 - val_loss: 0.0182 - val_acc: 0.6598 - val_mean_squared_error: 0.0182\n",
      "Epoch 61/100\n",
      "38400/38400 [==============================] - 15s 385us/step - loss: 0.0213 - acc: 0.6147 - mean_squared_error: 0.0213 - val_loss: 0.0181 - val_acc: 0.6605 - val_mean_squared_error: 0.0181\n",
      "Epoch 62/100\n",
      "38400/38400 [==============================] - 14s 362us/step - loss: 0.0212 - acc: 0.6112 - mean_squared_error: 0.0212 - val_loss: 0.0181 - val_acc: 0.6609 - val_mean_squared_error: 0.0181\n",
      "Epoch 63/100\n",
      "38400/38400 [==============================] - 14s 365us/step - loss: 0.0211 - acc: 0.6153 - mean_squared_error: 0.0211 - val_loss: 0.0180 - val_acc: 0.6605 - val_mean_squared_error: 0.0180\n",
      "Epoch 64/100\n",
      "38400/38400 [==============================] - 14s 359us/step - loss: 0.0210 - acc: 0.6124 - mean_squared_error: 0.0210 - val_loss: 0.0180 - val_acc: 0.6613 - val_mean_squared_error: 0.0180\n",
      "Epoch 65/100\n",
      "38400/38400 [==============================] - 14s 363us/step - loss: 0.0209 - acc: 0.6125 - mean_squared_error: 0.0209 - val_loss: 0.0179 - val_acc: 0.6623 - val_mean_squared_error: 0.0179\n",
      "Epoch 66/100\n",
      "38400/38400 [==============================] - 14s 371us/step - loss: 0.0208 - acc: 0.6137 - mean_squared_error: 0.0208 - val_loss: 0.0179 - val_acc: 0.6635 - val_mean_squared_error: 0.0179\n",
      "Epoch 67/100\n",
      "38400/38400 [==============================] - 14s 359us/step - loss: 0.0207 - acc: 0.6185 - mean_squared_error: 0.0207 - val_loss: 0.0178 - val_acc: 0.6643 - val_mean_squared_error: 0.0178\n",
      "Epoch 68/100\n",
      "38400/38400 [==============================] - 14s 354us/step - loss: 0.0206 - acc: 0.6182 - mean_squared_error: 0.0206 - val_loss: 0.0177 - val_acc: 0.6646 - val_mean_squared_error: 0.0177\n",
      "Epoch 69/100\n",
      "38400/38400 [==============================] - 13s 352us/step - loss: 0.0206 - acc: 0.6167 - mean_squared_error: 0.0206 - val_loss: 0.0177 - val_acc: 0.6656 - val_mean_squared_error: 0.0177\n",
      "Epoch 70/100\n",
      "38400/38400 [==============================] - 13s 351us/step - loss: 0.0205 - acc: 0.6197 - mean_squared_error: 0.0205 - val_loss: 0.0176 - val_acc: 0.6645 - val_mean_squared_error: 0.0176\n",
      "Epoch 71/100\n",
      "38400/38400 [==============================] - 14s 356us/step - loss: 0.0204 - acc: 0.6185 - mean_squared_error: 0.0204 - val_loss: 0.0176 - val_acc: 0.6656 - val_mean_squared_error: 0.0176\n",
      "Epoch 72/100\n",
      "38400/38400 [==============================] - 14s 367us/step - loss: 0.0204 - acc: 0.6189 - mean_squared_error: 0.0204 - val_loss: 0.0175 - val_acc: 0.6658 - val_mean_squared_error: 0.0175\n",
      "Epoch 73/100\n",
      "38400/38400 [==============================] - 14s 374us/step - loss: 0.0203 - acc: 0.6198 - mean_squared_error: 0.0203 - val_loss: 0.0175 - val_acc: 0.6676 - val_mean_squared_error: 0.0175\n",
      "Epoch 74/100\n",
      "38400/38400 [==============================] - 14s 362us/step - loss: 0.0202 - acc: 0.6204 - mean_squared_error: 0.0202 - val_loss: 0.0175 - val_acc: 0.6666 - val_mean_squared_error: 0.0175\n",
      "Epoch 75/100\n",
      "38400/38400 [==============================] - 13s 345us/step - loss: 0.0201 - acc: 0.6209 - mean_squared_error: 0.0201 - val_loss: 0.0174 - val_acc: 0.6680 - val_mean_squared_error: 0.0174\n",
      "Epoch 76/100\n",
      "38400/38400 [==============================] - 14s 356us/step - loss: 0.0201 - acc: 0.6246 - mean_squared_error: 0.0201 - val_loss: 0.0174 - val_acc: 0.6666 - val_mean_squared_error: 0.0174\n",
      "Epoch 77/100\n",
      "38400/38400 [==============================] - 14s 359us/step - loss: 0.0200 - acc: 0.6260 - mean_squared_error: 0.0200 - val_loss: 0.0173 - val_acc: 0.6684 - val_mean_squared_error: 0.0173\n",
      "Epoch 78/100\n",
      "38400/38400 [==============================] - 14s 360us/step - loss: 0.0199 - acc: 0.6218 - mean_squared_error: 0.0199 - val_loss: 0.0173 - val_acc: 0.6711 - val_mean_squared_error: 0.0173\n",
      "Epoch 79/100\n",
      "38400/38400 [==============================] - 14s 366us/step - loss: 0.0199 - acc: 0.6242 - mean_squared_error: 0.0199 - val_loss: 0.0172 - val_acc: 0.6689 - val_mean_squared_error: 0.0172\n",
      "Epoch 80/100\n",
      "38400/38400 [==============================] - 15s 392us/step - loss: 0.0198 - acc: 0.6249 - mean_squared_error: 0.0198 - val_loss: 0.0172 - val_acc: 0.6715 - val_mean_squared_error: 0.0172\n",
      "Epoch 81/100\n",
      "38400/38400 [==============================] - 15s 394us/step - loss: 0.0197 - acc: 0.6271 - mean_squared_error: 0.0197 - val_loss: 0.0172 - val_acc: 0.6709 - val_mean_squared_error: 0.0172\n",
      "Epoch 82/100\n",
      "38400/38400 [==============================] - 14s 374us/step - loss: 0.0197 - acc: 0.6233 - mean_squared_error: 0.0197 - val_loss: 0.0171 - val_acc: 0.6713 - val_mean_squared_error: 0.0171\n",
      "Epoch 83/100\n",
      "38400/38400 [==============================] - 15s 399us/step - loss: 0.0196 - acc: 0.6270 - mean_squared_error: 0.0196 - val_loss: 0.0171 - val_acc: 0.6699 - val_mean_squared_error: 0.0171\n",
      "Epoch 84/100\n",
      "38400/38400 [==============================] - 16s 413us/step - loss: 0.0195 - acc: 0.6256 - mean_squared_error: 0.0195 - val_loss: 0.0170 - val_acc: 0.6707 - val_mean_squared_error: 0.0170\n",
      "Epoch 85/100\n",
      "38400/38400 [==============================] - 16s 423us/step - loss: 0.0195 - acc: 0.6247 - mean_squared_error: 0.0195 - val_loss: 0.0170 - val_acc: 0.6707 - val_mean_squared_error: 0.0170\n",
      "Epoch 86/100\n",
      "38400/38400 [==============================] - 15s 390us/step - loss: 0.0194 - acc: 0.6262 - mean_squared_error: 0.0194 - val_loss: 0.0170 - val_acc: 0.6727 - val_mean_squared_error: 0.0170\n",
      "Epoch 87/100\n",
      "38400/38400 [==============================] - 17s 442us/step - loss: 0.0194 - acc: 0.6246 - mean_squared_error: 0.0194 - val_loss: 0.0169 - val_acc: 0.6732 - val_mean_squared_error: 0.0169\n",
      "Epoch 88/100\n",
      "38400/38400 [==============================] - 16s 427us/step - loss: 0.0193 - acc: 0.6308 - mean_squared_error: 0.0193 - val_loss: 0.0169 - val_acc: 0.6732 - val_mean_squared_error: 0.0169\n",
      "Epoch 89/100\n",
      "38400/38400 [==============================] - 16s 408us/step - loss: 0.0192 - acc: 0.6265 - mean_squared_error: 0.0192 - val_loss: 0.0169 - val_acc: 0.6729 - val_mean_squared_error: 0.0169\n",
      "Epoch 90/100\n",
      "38400/38400 [==============================] - 15s 381us/step - loss: 0.0192 - acc: 0.6282 - mean_squared_error: 0.0192 - val_loss: 0.0168 - val_acc: 0.6736 - val_mean_squared_error: 0.0168\n",
      "Epoch 91/100\n",
      "38400/38400 [==============================] - 15s 393us/step - loss: 0.0191 - acc: 0.6292 - mean_squared_error: 0.0191 - val_loss: 0.0168 - val_acc: 0.6742 - val_mean_squared_error: 0.0168\n",
      "Epoch 92/100\n",
      "38400/38400 [==============================] - 16s 423us/step - loss: 0.0191 - acc: 0.6297 - mean_squared_error: 0.0191 - val_loss: 0.0168 - val_acc: 0.6750 - val_mean_squared_error: 0.0168\n",
      "Epoch 93/100\n",
      "38400/38400 [==============================] - 14s 374us/step - loss: 0.0191 - acc: 0.6298 - mean_squared_error: 0.0191 - val_loss: 0.0167 - val_acc: 0.6762 - val_mean_squared_error: 0.0167\n",
      "Epoch 94/100\n",
      "38400/38400 [==============================] - 14s 375us/step - loss: 0.0190 - acc: 0.6265 - mean_squared_error: 0.0190 - val_loss: 0.0167 - val_acc: 0.6771 - val_mean_squared_error: 0.0167\n",
      "Epoch 95/100\n",
      "38400/38400 [==============================] - 16s 404us/step - loss: 0.0190 - acc: 0.6304 - mean_squared_error: 0.0190 - val_loss: 0.0167 - val_acc: 0.6779 - val_mean_squared_error: 0.0167\n",
      "Epoch 96/100\n",
      "38400/38400 [==============================] - 16s 418us/step - loss: 0.0189 - acc: 0.6310 - mean_squared_error: 0.0189 - val_loss: 0.0166 - val_acc: 0.6787 - val_mean_squared_error: 0.0166\n",
      "Epoch 97/100\n",
      "38400/38400 [==============================] - 16s 406us/step - loss: 0.0188 - acc: 0.6340 - mean_squared_error: 0.0188 - val_loss: 0.0166 - val_acc: 0.6766 - val_mean_squared_error: 0.0166\n",
      "Epoch 98/100\n",
      "38400/38400 [==============================] - 15s 395us/step - loss: 0.0188 - acc: 0.6319 - mean_squared_error: 0.0188 - val_loss: 0.0166 - val_acc: 0.6770 - val_mean_squared_error: 0.0166\n",
      "Epoch 99/100\n",
      "38400/38400 [==============================] - 16s 417us/step - loss: 0.0188 - acc: 0.6305 - mean_squared_error: 0.0188 - val_loss: 0.0165 - val_acc: 0.6803 - val_mean_squared_error: 0.0165\n",
      "Epoch 100/100\n",
      "38400/38400 [==============================] - 18s 473us/step - loss: 0.0187 - acc: 0.6344 - mean_squared_error: 0.0187 - val_loss: 0.0165 - val_acc: 0.6805 - val_mean_squared_error: 0.0165\n"
     ]
    },
    {
     "data": {
      "image/png": "[encoded data removed]",
      "text/plain": [
       "<Figure size 936x360 with 2 Axes>"
      ]
     },
     "metadata": {
      "needs_background": "light"
     },
     "output_type": "display_data"
    }
   ],
   "source": [
    "history = pre_trained_model.fit(train_features, train_labels, epochs=100, batch_size=batch_size, \n",
    "                    validation_data= (validation_features, validation_labels)\n",
    "                   )\n",
    "\n",
    "##############Plotting the result\n",
    "fig = plt.figure(figsize=(13, 5))\n",
    "ax  = fig.add_subplot(1,2,1, title='Accuracy')\n",
    "plt.plot(history.history['val_acc'], label = 'test acc')\n",
    "plt.plot(history.history['acc'], label = 'train acc')\n",
    "plt.legend(loc=0)\n",
    "\n",
    "ax  = fig.add_subplot(1,2,2, title='Loss')\n",
    "plt.plot(history.history['val_loss'], label = 'test loss')\n",
    "plt.plot(history.history['loss'], label = 'train loss')\n",
    "plt.legend(loc=0)\n",
    "\n",
    "plt.tight_layout()\n",
    "plt.show()"
   ]
  },
  {
   "cell_type": "code",
   "execution_count": 41,
   "metadata": {},
   "outputs": [],
   "source": [
    "pre_trained_model.save('150B_200pxl_fc1024_fc256.model')"
   ]
  },
  {
   "cell_type": "code",
   "execution_count": 44,
   "metadata": {},
   "outputs": [],
   "source": [
    "pre_trained_model.save('150B_200pxl_fc1024_fc256.h5')\n",
    "pre_trained_model.save_weights('150B_200pxl_fc1024_fc256_weights.h5')"
   ]
  },
  {
   "cell_type": "code",
   "execution_count": 42,
   "metadata": {},
   "outputs": [
    {
     "data": {
      "text/plain": [
       "0.13674794331177342"
      ]
     },
     "execution_count": 42,
     "metadata": {},
     "output_type": "execute_result"
    }
   ],
   "source": [
    "np.sqrt(.0187)"
   ]
  },
  {
   "cell_type": "code",
   "execution_count": 45,
   "metadata": {},
   "outputs": [],
   "source": [
    "import pickle\n",
    "\n",
    "with open('150B_200pxl_fc1024_fc256_hist', 'wb') as f:\n",
    "        pickle.dump(history.history, f)"
   ]
  },
  {
   "cell_type": "code",
   "execution_count": 53,
   "metadata": {},
   "outputs": [
    {
     "data": {
      "text/plain": [
       "[<matplotlib.lines.Line2D at 0x261ecf1a780>]"
      ]
     },
     "execution_count": 53,
     "metadata": {},
     "output_type": "execute_result"
    },
    {
     "data": {
      "image/png": "[encoded data removed]",
      "text/plain": [
       "<Figure size 432x288 with 1 Axes>"
      ]
     },
     "metadata": {
      "needs_background": "light"
     },
     "output_type": "display_data"
    }
   ],
   "source": [
    "with open('150B_200pxl_fc1024_fc256_hist', 'rb') as f:\n",
    "        hist = pickle.load(f)\n",
    "\n",
    "plt.plot(hist['val_mean_squared_error'])\n",
    "plt.plot(hist['mean_squared_error'])"
   ]
  },
  {
   "cell_type": "markdown",
   "metadata": {},
   "source": [
    "# Tuning the model\n",
    "## Adding more trainable layers"
   ]
  },
  {
   "cell_type": "code",
   "execution_count": 9,
   "metadata": {
    "ExecuteTime": {
     "end_time": "2019-05-19T09:49:14.117152Z",
     "start_time": "2019-05-19T09:49:08.576338Z"
    }
   },
   "outputs": [
    {
     "name": "stdout",
     "output_type": "stream",
     "text": [
      "WARNING:tensorflow:From C:\\Users\\sraeisi\\.conda\\envs\\keras-gpu\\lib\\site-packages\\tensorflow\\python\\framework\\op_def_library.py:263: colocate_with (from tensorflow.python.framework.ops) is deprecated and will be removed in a future version.\n",
      "Instructions for updating:\n",
      "Colocations handled automatically by placer.\n",
      "WARNING:tensorflow:From C:\\Users\\sraeisi\\.conda\\envs\\keras-gpu\\lib\\site-packages\\keras\\backend\\tensorflow_backend.py:3445: calling dropout (from tensorflow.python.ops.nn_ops) with keep_prob is deprecated and will be removed in a future version.\n",
      "Instructions for updating:\n",
      "Please use `rate` instead of `keep_prob`. Rate should be set to `rate = 1 - keep_prob`.\n",
      "WARNING:tensorflow:From C:\\Users\\sraeisi\\.conda\\envs\\keras-gpu\\lib\\site-packages\\tensorflow\\python\\ops\\math_ops.py:3066: to_int32 (from tensorflow.python.ops.math_ops) is deprecated and will be removed in a future version.\n",
      "Instructions for updating:\n",
      "Use tf.cast instead.\n"
     ]
    }
   ],
   "source": [
    "my_model = ks.models.load_model('150B_200pxl_fc1024_fc256.h5')\n"
   ]
  },
  {
   "cell_type": "code",
   "execution_count": 10,
   "metadata": {
    "ExecuteTime": {
     "end_time": "2019-05-19T09:49:15.604173Z",
     "start_time": "2019-05-19T09:49:14.342081Z"
    }
   },
   "outputs": [
    {
     "name": "stdout",
     "output_type": "stream",
     "text": [
      "_________________________________________________________________\n",
      "Layer (type)                 Output Shape              Param #   \n",
      "=================================================================\n",
      "input_1 (InputLayer)         (None, 200, 200, 3)       0         \n",
      "_________________________________________________________________\n",
      "block1_conv1 (Conv2D)        (None, 200, 200, 64)      1792      \n",
      "_________________________________________________________________\n",
      "block1_conv2 (Conv2D)        (None, 200, 200, 64)      36928     \n",
      "_________________________________________________________________\n",
      "block1_pool (MaxPooling2D)   (None, 100, 100, 64)      0         \n",
      "_________________________________________________________________\n",
      "block2_conv1 (Conv2D)        (None, 100, 100, 128)     73856     \n",
      "_________________________________________________________________\n",
      "block2_conv2 (Conv2D)        (None, 100, 100, 128)     147584    \n",
      "_________________________________________________________________\n",
      "block2_pool (MaxPooling2D)   (None, 50, 50, 128)       0         \n",
      "_________________________________________________________________\n",
      "block3_conv1 (Conv2D)        (None, 50, 50, 256)       295168    \n",
      "_________________________________________________________________\n",
      "block3_conv2 (Conv2D)        (None, 50, 50, 256)       590080    \n",
      "_________________________________________________________________\n",
      "block3_conv3 (Conv2D)        (None, 50, 50, 256)       590080    \n",
      "_________________________________________________________________\n",
      "block3_pool (MaxPooling2D)   (None, 25, 25, 256)       0         \n",
      "_________________________________________________________________\n",
      "block4_conv1 (Conv2D)        (None, 25, 25, 512)       1180160   \n",
      "_________________________________________________________________\n",
      "block4_conv2 (Conv2D)        (None, 25, 25, 512)       2359808   \n",
      "_________________________________________________________________\n",
      "block4_conv3 (Conv2D)        (None, 25, 25, 512)       2359808   \n",
      "_________________________________________________________________\n",
      "block4_pool (MaxPooling2D)   (None, 12, 12, 512)       0         \n",
      "_________________________________________________________________\n",
      "block5_conv1 (Conv2D)        (None, 12, 12, 512)       2359808   \n",
      "_________________________________________________________________\n",
      "block5_conv2 (Conv2D)        (None, 12, 12, 512)       2359808   \n",
      "_________________________________________________________________\n",
      "block5_conv3 (Conv2D)        (None, 12, 12, 512)       2359808   \n",
      "_________________________________________________________________\n",
      "block5_pool (MaxPooling2D)   (None, 6, 6, 512)         0         \n",
      "=================================================================\n",
      "Total params: 14,714,688\n",
      "Trainable params: 14,714,688\n",
      "Non-trainable params: 0\n",
      "_________________________________________________________________\n"
     ]
    }
   ],
   "source": [
    "from keras.applications import VGG16\n",
    "conv_base = VGG16(weights='imagenet', include_top=False, input_shape=(n_w, n_h, 3))\n",
    "conv_base.summary()"
   ]
  },
  {
   "cell_type": "code",
   "execution_count": 11,
   "metadata": {
    "ExecuteTime": {
     "end_time": "2019-05-19T09:49:15.877934Z",
     "start_time": "2019-05-19T09:49:15.871318Z"
    }
   },
   "outputs": [],
   "source": [
    "label_cols = df.columns[1:]\n",
    "n_classes = len(label_cols)"
   ]
  },
  {
   "cell_type": "code",
   "execution_count": 27,
   "metadata": {
    "ExecuteTime": {
     "end_time": "2019-05-19T10:07:55.047105Z",
     "start_time": "2019-05-19T10:07:55.031761Z"
    }
   },
   "outputs": [
    {
     "name": "stdout",
     "output_type": "stream",
     "text": [
      "Layer 1 is trainable: False\n",
      "Layer 2 is trainable: False\n",
      "Layer 3 is trainable: False\n",
      "Layer 4 is trainable: False\n",
      "Layer 5 is trainable: False\n",
      "Layer 6 is trainable: False\n",
      "Layer 7 is trainable: False\n",
      "Layer 8 is trainable: False\n",
      "Layer 9 is trainable: False\n",
      "Layer 10 is trainable: False\n",
      "Layer 11 is trainable: False\n",
      "Layer 12 is trainable: False\n",
      "Layer 13 is trainable: False\n",
      "Layer 14 is trainable: False\n",
      "Layer 15 is trainable: False\n",
      "Layer 16 is trainable: False\n",
      "Layer 17 is trainable: False\n",
      "Layer 18 is trainable: False\n",
      "Layer 19 is trainable: True\n"
     ]
    }
   ],
   "source": [
    "conv_base.trainble = True\n",
    "\n",
    "# We can freeze all but the last two layers. \n",
    "for layer in conv_base.layers[:-1]:\n",
    "    layer.trainable = False\n",
    "\n",
    "## We can check which layers are traible. \n",
    "i=0    \n",
    "for layer in conv_base.layers:\n",
    "    i+=1\n",
    "    print('Layer {} is trainable: {}'.format(i,layer.trainable)  )    "
   ]
  },
  {
   "cell_type": "code",
   "execution_count": 28,
   "metadata": {
    "ExecuteTime": {
     "end_time": "2019-05-19T10:08:00.093855Z",
     "start_time": "2019-05-19T10:07:59.879748Z"
    }
   },
   "outputs": [
    {
     "name": "stdout",
     "output_type": "stream",
     "text": [
      "_________________________________________________________________\n",
      "Layer (type)                 Output Shape              Param #   \n",
      "=================================================================\n",
      "vgg16 (Model)                (None, 6, 6, 512)         14714688  \n",
      "_________________________________________________________________\n",
      "flatten_2 (Flatten)          (None, 18432)             0         \n",
      "_________________________________________________________________\n",
      "sequential_2 (Sequential)    (None, 37)                19147301  \n",
      "=================================================================\n",
      "Total params: 33,861,989\n",
      "Trainable params: 19,147,301\n",
      "Non-trainable params: 14,714,688\n",
      "_________________________________________________________________\n"
     ]
    }
   ],
   "source": [
    "ext_model = ks.models.Sequential()\n",
    "ext_model.add(conv_base)\n",
    "ext_model.add(ks.layers.Flatten())\n",
    "ext_model.add(my_model)\n",
    "ext_model.summary()"
   ]
  },
  {
   "cell_type": "code",
   "execution_count": 16,
   "metadata": {
    "ExecuteTime": {
     "end_time": "2019-05-19T10:00:51.294672Z",
     "start_time": "2019-05-19T10:00:50.088203Z"
    }
   },
   "outputs": [
    {
     "name": "stdout",
     "output_type": "stream",
     "text": [
      "data batch shape: (256, 200, 200, 3)\n",
      "labels batch shape: (256, 37)\n"
     ]
    }
   ],
   "source": [
    "for data_batch, labels_batch in train_generator:\n",
    "    print('data batch shape:', data_batch.shape)\n",
    "    print('labels batch shape:', labels_batch.shape)\n",
    "    break"
   ]
  },
  {
   "cell_type": "code",
   "execution_count": 23,
   "metadata": {
    "ExecuteTime": {
     "end_time": "2019-05-19T10:03:43.368253Z",
     "start_time": "2019-05-19T10:03:40.800688Z"
    }
   },
   "outputs": [
    {
     "data": {
      "text/plain": [
       "0.017320873420552326"
      ]
     },
     "execution_count": 23,
     "metadata": {},
     "output_type": "execute_result"
    }
   ],
   "source": [
    "predicted_y = ext_model.predict(data_batch)\n",
    "from sklearn.metrics import mean_squared_error\n",
    "mean_squared_error(predicted_y, labels_batch)"
   ]
  },
  {
   "cell_type": "code",
   "execution_count": 34,
   "metadata": {
    "ExecuteTime": {
     "end_time": "2019-05-19T10:13:34.864386Z",
     "start_time": "2019-05-19T10:13:34.796631Z"
    }
   },
   "outputs": [],
   "source": [
    "ext_model.compile(loss=ks.losses.mean_squared_error, \n",
    "             optimizer=ks.optimizers.SGD(lr=0.00001, decay=1e-6, momentum=0.9, nesterov=True), \n",
    "             metrics=['acc' , 'MSE'])\n"
   ]
  },
  {
   "cell_type": "code",
   "execution_count": 35,
   "metadata": {
    "ExecuteTime": {
     "end_time": "2019-05-19T11:00:44.834613Z",
     "start_time": "2019-05-19T10:13:35.283507Z"
    }
   },
   "outputs": [
    {
     "name": "stdout",
     "output_type": "stream",
     "text": [
      "Epoch 1/2\n",
      "482/482 [==============================] - 1177s 2s/step - loss: 0.0187 - acc: 0.6337 - mean_squared_error: 0.0187 - val_loss: 0.0165 - val_acc: 0.6805 - val_mean_squared_error: 0.0165\n",
      "Epoch 2/2\n",
      "482/482 [==============================] - 1651s 3s/step - loss: 0.0187 - acc: 0.6337 - mean_squared_error: 0.0187 - val_loss: 0.0165 - val_acc: 0.6805 - val_mean_squared_error: 0.0165\n"
     ]
    },
    {
     "data": {
      "image/png": "[encoded data removed]",
      "text/plain": [
       "<Figure size 936x360 with 2 Axes>"
      ]
     },
     "metadata": {
      "needs_background": "light"
     },
     "output_type": "display_data"
    },
    {
     "name": "stdout",
     "output_type": "stream",
     "text": [
      "Wall time: 47min 9s\n"
     ]
    }
   ],
   "source": [
    "%%time\n",
    "############### Training the model\n",
    "\n",
    "history = ext_model.fit_generator(train_generator, epochs=2, \n",
    "                                steps_per_epoch=stp_epch, \n",
    "                                validation_data= validation_generator, \n",
    "                                validation_steps= stp_epch\n",
    "                               )\n",
    "\n",
    "##############Plotting the result\n",
    "fig = plt.figure(figsize=(13, 5))\n",
    "ax  = fig.add_subplot(1,2,1, title='Accuracy')\n",
    "plt.plot(history.history['val_acc'], label = 'test acc')\n",
    "plt.plot(history.history['acc'], label = 'train acc')\n",
    "plt.legend(loc=0)\n",
    "\n",
    "ax  = fig.add_subplot(1,2,2, title='Loss')\n",
    "plt.plot(history.history['val_loss'], label = 'test loss')\n",
    "plt.plot(history.history['loss'], label = 'train loss')\n",
    "plt.legend(loc=0)\n",
    "\n",
    "plt.tight_layout()\n",
    "plt.show()\n"
   ]
  },
  {
   "cell_type": "code",
   "execution_count": null,
   "metadata": {},
   "outputs": [],
   "source": []
  }
 ],
 "metadata": {
  "celltoolbar": "Initialization Cell",
  "kernelspec": {
   "display_name": "Python 3",
   "language": "python",
   "name": "python3"
  },
  "language_info": {
   "codemirror_mode": {
    "name": "ipython",
    "version": 3
   },
   "file_extension": ".py",
   "mimetype": "text/x-python",
   "name": "python",
   "nbconvert_exporter": "python",
   "pygments_lexer": "ipython3",
   "version": "3.6.6"
  },
  "latex_envs": {
   "LaTeX_envs_menu_present": true,
   "autoclose": false,
   "autocomplete": true,
   "bibliofile": "biblio.bib",
   "cite_by": "apalike",
   "current_citInitial": 1,
   "eqLabelWithNumbers": true,
   "eqNumInitial": 1,
   "hotkeys": {
    "equation": "Ctrl-E",
    "itemize": "Ctrl-I"
   },
   "labels_anchors": false,
   "latex_user_defs": false,
   "report_style_numbering": false,
   "user_envs_cfg": false
  },
  "toc": {
   "base_numbering": 1,
   "nav_menu": {},
   "number_sections": true,
   "sideBar": true,
   "skip_h1_title": false,
   "title_cell": "Table of Contents",
   "title_sidebar": "Contents",
   "toc_cell": false,
   "toc_position": {},
   "toc_section_display": true,
   "toc_window_display": false
  },
  "varInspector": {
   "cols": {
    "lenName": 16,
    "lenType": 16,
    "lenVar": 40
   },
   "kernels_config": {
    "python": {
     "delete_cmd_postfix": "",
     "delete_cmd_prefix": "del ",
     "library": "var_list.py",
     "varRefreshCmd": "print(var_dic_list())"
    },
    "r": {
     "delete_cmd_postfix": ") ",
     "delete_cmd_prefix": "rm(",
     "library": "var_list.r",
     "varRefreshCmd": "cat(var_dic_list()) "
    }
   },
   "types_to_exclude": [
    "module",
    "function",
    "builtin_function_or_method",
    "instance",
    "_Feature"
   ],
   "window_display": false
  }
 },
 "nbformat": 4,
 "nbformat_minor": 2
}
