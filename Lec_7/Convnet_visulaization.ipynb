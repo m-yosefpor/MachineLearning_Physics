{
  "nbformat": 4,
  "nbformat_minor": 0,
  "metadata": {
    "colab": {
      "name": "Convnet_visulaization.ipynb",
      "version": "0.3.2",
      "provenance": [],
      "collapsed_sections": [],
      "include_colab_link": true
    },
    "language_info": {
      "codemirror_mode": {
        "name": "ipython",
        "version": 3
      },
      "file_extension": ".py",
      "mimetype": "text/x-python",
      "name": "python",
      "nbconvert_exporter": "python",
      "pygments_lexer": "ipython3",
      "version": "3.7.1"
    },
    "kernelspec": {
      "name": "python3",
      "display_name": "Python 3"
    },
    "accelerator": "GPU"
  },
  "cells": [
    {
      "cell_type": "markdown",
      "metadata": {
        "id": "view-in-github",
        "colab_type": "text"
      },
      "source": [
        "<a href=\"https://colab.research.google.com/github/sraeisi/MachineLearning_Physics/blob/master/Lec_7/Convnet_visulaization.ipynb\" target=\"_parent\"><img src=\"https://colab.research.google.com/assets/colab-badge.svg\" alt=\"Open In Colab\"/></a>"
      ]
    },
    {
      "cell_type": "code",
      "metadata": {
        "ExecuteTime": {
          "end_time": "2019-05-19T06:55:11.333778Z",
          "start_time": "2019-05-19T06:55:11.330770Z"
        },
        "colab_type": "code",
        "id": "pyRSpnrE8Y3E",
        "init_cell": true,
        "colab": {}
      },
      "source": [
        "import numpy as np\n",
        "import pandas as pd\n",
        "import matplotlib.pyplot as plt\n",
        "import requests, io\n",
        "\n",
        "from tensorflow import keras"
      ],
      "execution_count": 0,
      "outputs": []
    },
    {
      "cell_type": "code",
      "metadata": {
        "ExecuteTime": {
          "end_time": "2019-05-19T06:55:11.377811Z",
          "start_time": "2019-05-19T06:55:11.337774Z"
        },
        "colab_type": "code",
        "id": "uVL1PyMllKdm",
        "init_cell": true,
        "colab": {}
      },
      "source": [
        "from matplotlib import style\n",
        "style.use('default')"
      ],
      "execution_count": 0,
      "outputs": []
    },
    {
      "cell_type": "markdown",
      "metadata": {
        "id": "veEnuTyOI2Lm",
        "colab_type": "text"
      },
      "source": [
        ""
      ]
    },
    {
      "cell_type": "markdown",
      "metadata": {
        "id": "RJnEgVEq44fD",
        "colab_type": "text"
      },
      "source": [
        "# Reconstruction of an image"
      ]
    },
    {
      "cell_type": "code",
      "metadata": {
        "id": "ZdnybVv4I28f",
        "colab_type": "code",
        "colab": {}
      },
      "source": [
        "'''\n",
        "Let's import the Farsi digits (your assignment)\n",
        "'''\n",
        "\n",
        "url = 'https://raw.githubusercontent.com/sraeisi/MachineLearning_Physics/master/Assignments/A3/X.npz'\n",
        "s=requests.get(url, stream=True).content\n",
        "X = np.load(io.BytesIO(s) )['arr_0']\n",
        "url = 'https://raw.githubusercontent.com/sraeisi/MachineLearning_Physics/master/Assignments/A3/Y.npz'\n",
        "s=requests.get(url, stream=True).content\n",
        "Y = np.load(io.BytesIO(s) )['arr_0']\n",
        "\n",
        "from sklearn.utils import shuffle\n",
        "X, Y = shuffle(X,Y, random_state = 0 )\n",
        "\n",
        "from sklearn.model_selection import train_test_split\n",
        "X_train, X_test, Y_train, Y_test = train_test_split(X, Y, random_state=0)"
      ],
      "execution_count": 0,
      "outputs": []
    },
    {
      "cell_type": "code",
      "metadata": {
        "id": "-wTb0pU4KNGi",
        "colab_type": "code",
        "colab": {}
      },
      "source": [
        "n_w, n_h = X[0].shape"
      ],
      "execution_count": 0,
      "outputs": []
    },
    {
      "cell_type": "code",
      "metadata": {
        "ExecuteTime": {
          "end_time": "2019-05-19T06:57:40.277715Z",
          "start_time": "2019-05-19T06:57:40.016700Z"
        },
        "id": "OWIiAUZS44gR",
        "colab_type": "code",
        "outputId": "0e11ccc8-f3f8-4a27-c685-290b6d0e2fa3",
        "colab": {
          "base_uri": "https://localhost:8080/",
          "height": 272
        }
      },
      "source": [
        "model = keras.models.Sequential()\n",
        " \n",
        "model.add(keras.layers.Dense(100, activation='relu', input_shape = (  n_w*n_h, )))\n",
        "model.add(keras.layers.Dense(100, activation='relu'))\n",
        "model.add(keras.layers.Dense(100, activation='relu'))\n",
        "model.add(keras.layers.Dense(10, activation='softmax'))\n",
        "\n",
        "# model.compile(loss='mean_squared_error',\n",
        "#               optimizer='rmsprop',\n",
        "#              metrics = ['accuracy'])\n",
        "\n",
        "model.compile(loss='sparse_categorical_crossentropy',\n",
        "              optimizer='adam',\n",
        "              metrics=['accuracy'])\n",
        "\n",
        "model.build((None, n_w*n_h ))\n",
        "model.summary()"
      ],
      "execution_count": 0,
      "outputs": [
        {
          "output_type": "stream",
          "text": [
            "_________________________________________________________________\n",
            "Layer (type)                 Output Shape              Param #   \n",
            "=================================================================\n",
            "dense_16 (Dense)             (None, 100)               102500    \n",
            "_________________________________________________________________\n",
            "dense_17 (Dense)             (None, 100)               10100     \n",
            "_________________________________________________________________\n",
            "dense_18 (Dense)             (None, 100)               10100     \n",
            "_________________________________________________________________\n",
            "dense_19 (Dense)             (None, 10)                1010      \n",
            "=================================================================\n",
            "Total params: 123,710\n",
            "Trainable params: 123,710\n",
            "Non-trainable params: 0\n",
            "_________________________________________________________________\n"
          ],
          "name": "stdout"
        }
      ]
    },
    {
      "cell_type": "code",
      "metadata": {
        "ExecuteTime": {
          "start_time": "2019-05-19T06:57:46.104Z"
        },
        "id": "nNF-Jhpt44gg",
        "colab_type": "code",
        "outputId": "5bbdad87-8792-4ee3-e8fd-8b48dc819e66",
        "colab": {
          "base_uri": "https://localhost:8080/",
          "height": 374
        }
      },
      "source": [
        "history = model.fit(X_train.reshape(-1, n_w*n_h), Y_train, epochs=10, batch_size=32, verbose=1, validation_data=(X_test.reshape(-1, n_w*n_h), Y_test))\n"
      ],
      "execution_count": 0,
      "outputs": [
        {
          "output_type": "stream",
          "text": [
            "Train on 76764 samples, validate on 25588 samples\n",
            "Epoch 1/10\n",
            "76764/76764 [==============================] - 10s 135us/sample - loss: 0.1320 - acc: 0.9604 - val_loss: 0.0837 - val_acc: 0.9742\n",
            "Epoch 2/10\n",
            "76764/76764 [==============================] - 11s 143us/sample - loss: 0.0544 - acc: 0.9822 - val_loss: 0.0678 - val_acc: 0.9794\n",
            "Epoch 3/10\n",
            "76764/76764 [==============================] - 12s 150us/sample - loss: 0.0385 - acc: 0.9879 - val_loss: 0.0652 - val_acc: 0.9834\n",
            "Epoch 4/10\n",
            "76764/76764 [==============================] - 10s 129us/sample - loss: 0.0298 - acc: 0.9901 - val_loss: 0.0543 - val_acc: 0.9849\n",
            "Epoch 5/10\n",
            "76764/76764 [==============================] - 10s 129us/sample - loss: 0.0241 - acc: 0.9921 - val_loss: 0.0633 - val_acc: 0.9846\n",
            "Epoch 6/10\n",
            "76764/76764 [==============================] - 10s 128us/sample - loss: 0.0217 - acc: 0.9929 - val_loss: 0.0663 - val_acc: 0.9845\n",
            "Epoch 7/10\n",
            "76764/76764 [==============================] - 10s 129us/sample - loss: 0.0164 - acc: 0.9949 - val_loss: 0.0635 - val_acc: 0.9864\n",
            "Epoch 8/10\n",
            "76764/76764 [==============================] - 10s 129us/sample - loss: 0.0158 - acc: 0.9951 - val_loss: 0.0645 - val_acc: 0.9855\n",
            "Epoch 9/10\n",
            "76764/76764 [==============================] - 10s 134us/sample - loss: 0.0136 - acc: 0.9958 - val_loss: 0.0685 - val_acc: 0.9857\n",
            "Epoch 10/10\n",
            "76764/76764 [==============================] - 11s 140us/sample - loss: 0.0110 - acc: 0.9966 - val_loss: 0.0664 - val_acc: 0.9866\n"
          ],
          "name": "stdout"
        }
      ]
    },
    {
      "cell_type": "code",
      "metadata": {
        "id": "mDxmGROK44g7",
        "colab_type": "code",
        "outputId": "2cca9ffb-ebc3-4ddb-dcb0-f49b700de9a4",
        "colab": {
          "base_uri": "https://localhost:8080/",
          "height": 442
        }
      },
      "source": [
        "from keras import layers\n",
        "from keras import models\n",
        "\n",
        "nc_model = models.Sequential()\n",
        "nc_model.add(layers.Conv2D(4, (3, 3), activation='relu', input_shape=(n_w , n_h, 1)))\n",
        "nc_model.add(layers.MaxPooling2D((2, 2)))\n",
        "nc_model.add(layers.Conv2D(16, (3, 3), activation='relu'))\n",
        "nc_model.add(layers.MaxPooling2D((2, 2)))\n",
        "nc_model.add(layers.Conv2D(32, (3, 3), activation='relu'))\n",
        "\n",
        "nc_model.add(layers.Flatten())\n",
        "# nc_model.add(layers.Dropout(0.5))\n",
        "\n",
        "nc_model.add(layers.Dense(100, activation='relu'))\n",
        "nc_model.add(layers.Dropout(0.5))\n",
        "\n",
        "nc_model.add(layers.Dense(10, activation='softmax'))\n",
        "\n",
        "nc_model.compile(loss='sparse_categorical_crossentropy',\n",
        "              optimizer='adam',\n",
        "              metrics=['accuracy'])\n",
        "\n",
        "nc_model.build((None, n_w*n_h ))\n",
        "\n",
        "\n",
        "nc_model.summary()"
      ],
      "execution_count": 0,
      "outputs": [
        {
          "output_type": "stream",
          "text": [
            "_________________________________________________________________\n",
            "Layer (type)                 Output Shape              Param #   \n",
            "=================================================================\n",
            "conv2d_8 (Conv2D)            (None, 30, 30, 4)         40        \n",
            "_________________________________________________________________\n",
            "max_pooling2d_6 (MaxPooling2 (None, 15, 15, 4)         0         \n",
            "_________________________________________________________________\n",
            "conv2d_9 (Conv2D)            (None, 13, 13, 16)        592       \n",
            "_________________________________________________________________\n",
            "max_pooling2d_7 (MaxPooling2 (None, 6, 6, 16)          0         \n",
            "_________________________________________________________________\n",
            "conv2d_10 (Conv2D)           (None, 4, 4, 32)          4640      \n",
            "_________________________________________________________________\n",
            "flatten_2 (Flatten)          (None, 512)               0         \n",
            "_________________________________________________________________\n",
            "dense_3 (Dense)              (None, 100)               51300     \n",
            "_________________________________________________________________\n",
            "dropout_3 (Dropout)          (None, 100)               0         \n",
            "_________________________________________________________________\n",
            "dense_4 (Dense)              (None, 10)                1010      \n",
            "=================================================================\n",
            "Total params: 57,582\n",
            "Trainable params: 57,582\n",
            "Non-trainable params: 0\n",
            "_________________________________________________________________\n"
          ],
          "name": "stdout"
        }
      ]
    },
    {
      "cell_type": "code",
      "metadata": {
        "id": "Xnj3O7_kJPOA",
        "colab_type": "code",
        "outputId": "8a1eddee-3355-4979-85bf-4d5c99804490",
        "colab": {
          "base_uri": "https://localhost:8080/",
          "height": 374
        }
      },
      "source": [
        "nc_history = nc_model.fit(X_train.reshape(-1, n_w,n_h,1), Y_train, epochs=10, batch_size=32, verbose=1, validation_data=(X_test.reshape(-1,  n_w,n_h,1), Y_test))\n"
      ],
      "execution_count": 0,
      "outputs": [
        {
          "output_type": "stream",
          "text": [
            "Train on 76764 samples, validate on 25588 samples\n",
            "Epoch 1/10\n",
            "76764/76764 [==============================] - 15s 199us/step - loss: 0.1832 - acc: 0.9439 - val_loss: 0.0430 - val_acc: 0.9859\n",
            "Epoch 2/10\n",
            "76764/76764 [==============================] - 12s 157us/step - loss: 0.0534 - acc: 0.9841 - val_loss: 0.0293 - val_acc: 0.9903\n",
            "Epoch 3/10\n",
            "76764/76764 [==============================] - 12s 158us/step - loss: 0.0398 - acc: 0.9883 - val_loss: 0.0243 - val_acc: 0.9918\n",
            "Epoch 4/10\n",
            "76764/76764 [==============================] - 12s 158us/step - loss: 0.0322 - acc: 0.9904 - val_loss: 0.0220 - val_acc: 0.9936\n",
            "Epoch 5/10\n",
            "76764/76764 [==============================] - 13s 175us/step - loss: 0.0274 - acc: 0.9917 - val_loss: 0.0309 - val_acc: 0.9909\n",
            "Epoch 6/10\n",
            "76764/76764 [==============================] - 12s 158us/step - loss: 0.0230 - acc: 0.9928 - val_loss: 0.0204 - val_acc: 0.9941\n",
            "Epoch 7/10\n",
            "76764/76764 [==============================] - 12s 157us/step - loss: 0.0199 - acc: 0.9937 - val_loss: 0.0224 - val_acc: 0.9934\n",
            "Epoch 8/10\n",
            "76764/76764 [==============================] - 12s 157us/step - loss: 0.0188 - acc: 0.9944 - val_loss: 0.0224 - val_acc: 0.9939\n",
            "Epoch 9/10\n",
            "76764/76764 [==============================] - 12s 158us/step - loss: 0.0165 - acc: 0.9950 - val_loss: 0.0224 - val_acc: 0.9939\n",
            "Epoch 10/10\n",
            "76764/76764 [==============================] - 12s 158us/step - loss: 0.0152 - acc: 0.9952 - val_loss: 0.0274 - val_acc: 0.9929\n"
          ],
          "name": "stdout"
        }
      ]
    },
    {
      "cell_type": "code",
      "metadata": {
        "id": "1SqbFe6dJPLO",
        "colab_type": "code",
        "colab": {}
      },
      "source": [
        ""
      ],
      "execution_count": 0,
      "outputs": []
    },
    {
      "cell_type": "code",
      "metadata": {
        "id": "kqbWaJN2JPIZ",
        "colab_type": "code",
        "colab": {}
      },
      "source": [
        ""
      ],
      "execution_count": 0,
      "outputs": []
    },
    {
      "cell_type": "code",
      "metadata": {
        "id": "2b0RiBPKJO1N",
        "colab_type": "code",
        "colab": {}
      },
      "source": [
        ""
      ],
      "execution_count": 0,
      "outputs": []
    },
    {
      "cell_type": "markdown",
      "metadata": {
        "id": "Bm91s7DkJP8_",
        "colab_type": "text"
      },
      "source": [
        "# Visulaization"
      ]
    },
    {
      "cell_type": "code",
      "metadata": {
        "id": "MtU9-biaJRvT",
        "colab_type": "code",
        "colab": {}
      },
      "source": [
        "# from keras import models\n",
        "from tensorflow.keras.models import Model"
      ],
      "execution_count": 0,
      "outputs": []
    },
    {
      "cell_type": "code",
      "metadata": {
        "id": "i37GALiZKfeV",
        "colab_type": "code",
        "colab": {}
      },
      "source": [
        "## Let's first make a list of layers that we want ot visulaize.\n",
        "vis_layers = [l.output for l in nc_model.layers]\n",
        "\n",
        "## Now we create a multi-output model. \n",
        "## The following returns a model that output the output of all the layers, simar to ourown implementation of feedforward function. \n",
        "vis_model = models.Model( inputs = nc_model.input, outputs = vis_layers )"
      ],
      "execution_count": 0,
      "outputs": []
    },
    {
      "cell_type": "code",
      "metadata": {
        "id": "hloUOkmxKg_x",
        "colab_type": "code",
        "outputId": "cba3d3fa-325d-421d-9912-38c52d00cc19",
        "colab": {
          "base_uri": "https://localhost:8080/",
          "height": 433
        }
      },
      "source": [
        "ind = np.random.randint(len(X_test))\n",
        "\n",
        "img = X_test[ind]\n",
        "plt.imshow(img.reshape(n_w, n_h))\n",
        "plt.show()\n"
      ],
      "execution_count": 0,
      "outputs": [
        {
          "output_type": "display_data",
          "data": {
            "image/png": "[encoded data removed]",
            "text/plain": [
              "<Figure size 640x480 with 1 Axes>"
            ]
          },
          "metadata": {
            "tags": []
          }
        }
      ]
    },
    {
      "cell_type": "code",
      "metadata": {
        "id": "mPxiia5BNzCD",
        "colab_type": "code",
        "colab": {}
      },
      "source": [
        "vis_prediction = vis_model.predict( [[img.reshape(n_w,n_h,1)]] )"
      ],
      "execution_count": 0,
      "outputs": []
    },
    {
      "cell_type": "code",
      "metadata": {
        "id": "iWwgnTVxOJbi",
        "colab_type": "code",
        "outputId": "a80daa4a-c9f9-44f8-81e2-6ae10c161142",
        "colab": {
          "base_uri": "https://localhost:8080/",
          "height": 34
        }
      },
      "source": [
        "j = 0\n",
        "vis_prediction[j].shape[-1]"
      ],
      "execution_count": 0,
      "outputs": [
        {
          "output_type": "execute_result",
          "data": {
            "text/plain": [
              "4"
            ]
          },
          "metadata": {
            "tags": []
          },
          "execution_count": 108
        }
      ]
    },
    {
      "cell_type": "code",
      "metadata": {
        "id": "hRMute9FKhCa",
        "colab_type": "code",
        "outputId": "eca13bd2-8ec7-41ef-b9ba-f1c6bede849a",
        "colab": {
          "base_uri": "https://localhost:8080/",
          "height": 133
        }
      },
      "source": [
        "fig = plt.figure(figsize=(10,10))\n",
        "\n",
        "for i in range( (vis_prediction[j].shape[-1]) ):\n",
        "  ax = fig.add_subplot(4, 8,i+1)# , title = 'The output of channel {} in layer {}'.format(i+1, j) )\n",
        "  ax.set_xticks([])\n",
        "  ax.set_yticks([])\n",
        "  ax.imshow(vis_prediction[j][0, :, :, i])\n",
        "  ax.set_aspect('equal')\n",
        "  \n",
        "\n",
        "plt.subplots_adjust(wspace=0.1, hspace=-.77)\n",
        "\n",
        "# plt.tight_layout()\n",
        "plt.show()  "
      ],
      "execution_count": 0,
      "outputs": [
        {
          "output_type": "display_data",
          "data": {
            "image/png": "[encoded data removed]",
            "text/plain": [
              "<Figure size 1000x1000 with 4 Axes>"
            ]
          },
          "metadata": {
            "tags": []
          }
        }
      ]
    },
    {
      "cell_type": "code",
      "metadata": {
        "id": "-4OePbtDOGGU",
        "colab_type": "code",
        "colab": {}
      },
      "source": [
        ""
      ],
      "execution_count": 0,
      "outputs": []
    }
  ]
}