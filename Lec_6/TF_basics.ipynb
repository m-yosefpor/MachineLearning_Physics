{
  "nbformat": 4,
  "nbformat_minor": 0,
  "metadata": {
    "colab": {
      "name": "TF_basics.ipynb",
      "version": "0.3.2",
      "provenance": [],
      "collapsed_sections": [],
      "include_colab_link": true
    },
    "language_info": {
      "codemirror_mode": {
        "name": "ipython",
        "version": 3
      },
      "file_extension": ".py",
      "mimetype": "text/x-python",
      "name": "python",
      "nbconvert_exporter": "python",
      "pygments_lexer": "ipython3",
      "version": "3.6.8"
    },
    "kernelspec": {
      "display_name": "Python 3",
      "language": "python",
      "name": "python3"
    }
  },
  "cells": [
    {
      "cell_type": "markdown",
      "metadata": {
        "id": "view-in-github",
        "colab_type": "text"
      },
      "source": [
        "<a href=\"https://colab.research.google.com/github/sraeisi/MachineLearning_Physics/blob/master/Lec_6/TF_basics.ipynb\" target=\"_parent\"><img src=\"https://colab.research.google.com/assets/colab-badge.svg\" alt=\"Open In Colab\"/></a>"
      ]
    },
    {
      "metadata": {
        "ExecuteTime": {
          "end_time": "2019-04-26T13:27:42.544000Z",
          "start_time": "2019-04-26T13:27:42.471998Z"
        },
        "id": "3OFsQNM1lrwg",
        "colab_type": "code",
        "colab": {}
      },
      "cell_type": "code",
      "source": [
        "import tensorflow as tf\n",
        "import numpy as np"
      ],
      "execution_count": 0,
      "outputs": []
    },
    {
      "metadata": {
        "id": "k_2_aomg7PjI",
        "colab_type": "text"
      },
      "cell_type": "markdown",
      "source": [
        "## Some Basics"
      ]
    },
    {
      "metadata": {
        "id": "h8pWMuQ4lrwk",
        "colab_type": "code",
        "outputId": "4e3becaf-9d2b-4806-cbc8-38606e2bb229",
        "colab": {
          "base_uri": "https://localhost:8080/",
          "height": 34
        }
      },
      "cell_type": "code",
      "source": [
        "###1. Simple Algebra\n",
        "\n",
        "a = tf.Variable(1, name='a')\n",
        "b = tf.Variable(2, name='b')\n",
        "\n",
        "f = a + b\n",
        "\n",
        "init = tf.global_variables_initializer()\n",
        "\n",
        "\n",
        "print(f)"
      ],
      "execution_count": 0,
      "outputs": [
        {
          "output_type": "stream",
          "text": [
            "Tensor(\"add_1:0\", shape=(), dtype=int32)\n"
          ],
          "name": "stdout"
        }
      ]
    },
    {
      "metadata": {
        "id": "B-TcylAFlrwq",
        "colab_type": "code",
        "outputId": "90443c8d-4457-4b6b-fec1-be18d15fa42f",
        "colab": {
          "base_uri": "https://localhost:8080/",
          "height": 34
        }
      },
      "cell_type": "code",
      "source": [
        "with tf.Session() as s:\n",
        "    init.run()\n",
        "    print(f.eval() )\n"
      ],
      "execution_count": 0,
      "outputs": [
        {
          "output_type": "stream",
          "text": [
            "3\n"
          ],
          "name": "stdout"
        }
      ]
    },
    {
      "metadata": {
        "id": "YJUukIgglrwt",
        "colab_type": "code",
        "outputId": "3c93d42b-ff0b-4e7c-ae8d-8cdf3937ecab",
        "colab": {}
      },
      "cell_type": "code",
      "source": [
        "log_file = '/tmp/TF_logs/'\n",
        "log_Name = 'Simple_Addition'\n",
        "with tf.Session() as s:\n",
        "    file_writer = tf.summary.FileWriter(log_file+log_Name, s.graph)\n",
        "    init.run()\n",
        "    print(f.eval() )\n",
        "\n"
      ],
      "execution_count": 0,
      "outputs": [
        {
          "output_type": "stream",
          "text": [
            "3\n"
          ],
          "name": "stdout"
        }
      ]
    },
    {
      "metadata": {
        "id": "eGEa25lMlrwv",
        "colab_type": "code",
        "outputId": "e7b17864-56c5-473f-de98-894034ae4741",
        "colab": {}
      },
      "cell_type": "code",
      "source": [
        "###2. Simple Optimization Problem\n",
        "\n",
        "w = tf.Variable([0], dtype=tf.float32)\n",
        "f = w**2 -10 * w + 25\n",
        "\n",
        "optimize = tf.train.GradientDescentOptimizer(0.01).minimize(f)\n",
        "\n",
        "init = tf.global_variables_initializer()\n",
        "\n",
        "## Add Tensor board\n",
        "\n",
        "\n",
        "with tf.Session() as s:\n",
        "    file_writer = tf.summary.FileWriter(log_file, s.graph)\n",
        "    init.run()\n",
        "    print(w.eval() )\n",
        "    \n",
        "    for i in range(1000):\n",
        "        s.run(optimize)\n",
        "    \n",
        "    print(w.eval())"
      ],
      "execution_count": 0,
      "outputs": [
        {
          "output_type": "stream",
          "text": [
            "[0.]\n",
            "[4.999988]\n"
          ],
          "name": "stdout"
        }
      ]
    },
    {
      "metadata": {
        "id": "ApkucNMalrwy",
        "colab_type": "code",
        "outputId": "72ecbd4f-e2c9-48c7-ae54-8b88a42deff8",
        "colab": {}
      },
      "cell_type": "code",
      "source": [
        "###3. Optimization with Variable inputs\n",
        "\n",
        "X = tf.placeholder(tf.float32, [3,1])\n",
        "w = tf.Variable([0], dtype=tf.float32)\n",
        "f = X[0][0] * w**2 -X[1][0] * w + X[2][0] \n",
        "\n",
        "coefs = np.array( [[1] , [-12], [36] ] )\n",
        "\n",
        "optimize = tf.train.GradientDescentOptimizer(0.01).minimize(f)\n",
        "\n",
        "init = tf.global_variables_initializer()\n",
        "\n",
        "## Add Tensor board\n",
        "\n",
        "\n",
        "with tf.Session() as s:\n",
        "    init.run()\n",
        "    print(w.eval() )\n",
        "    \n",
        "    for i in range(1000):\n",
        "        s.run(optimize, feed_dict = {X:coefs})\n",
        "    \n",
        "    print(w.eval())\t\n",
        "\n"
      ],
      "execution_count": 0,
      "outputs": [
        {
          "output_type": "stream",
          "text": [
            "[0.]\n",
            "[-5.999988]\n"
          ],
          "name": "stdout"
        }
      ]
    },
    {
      "metadata": {
        "id": "uxNkBaPtnD8p",
        "colab_type": "text"
      },
      "cell_type": "markdown",
      "source": [
        "## Simple NN with TF"
      ]
    },
    {
      "metadata": {
        "id": "6cZRRxNWT2AK",
        "colab_type": "code",
        "colab": {}
      },
      "cell_type": "code",
      "source": [
        "import numpy as np\n",
        "import tensorflow as tf\n",
        "from tensorflow.examples.tutorials.mnist import input_data\n",
        "mnist = input_data.read_data_sets(\"MNIST_data/\", one_hot=True)\n",
        "\n",
        "n_samples = mnist.train.num_examples\n",
        "n_f = mnist.train.images[0].shape[0]\n",
        "n_classes = mnist.train.labels[0].shape[0]"
      ],
      "execution_count": 0,
      "outputs": []
    },
    {
      "metadata": {
        "id": "z7R9BG8cT6zo",
        "colab_type": "code",
        "colab": {}
      },
      "cell_type": "code",
      "source": [
        "#\n",
        "eta = 0.5\n",
        "n_epoch = 10\n",
        "batch_size = 100\n",
        "\n",
        "# Input and out placehoders\n",
        "X = tf.placeholder(tf.float32, [None, n_f])\n",
        "# now declare the output data placeholder - 10 digits\n",
        "Y = tf.placeholder(tf.float32, [None, n_classes])"
      ],
      "execution_count": 0,
      "outputs": []
    },
    {
      "metadata": {
        "id": "HzqIhQmNT6tf",
        "colab_type": "code",
        "colab": {}
      },
      "cell_type": "code",
      "source": [
        "nl_1  = 100 ;\n",
        "# nl_2  = 120 ;\n",
        "nl_2  = n_classes ;  ## N_classes"
      ],
      "execution_count": 0,
      "outputs": []
    },
    {
      "metadata": {
        "id": "R2HnngSLT6qm",
        "colab_type": "code",
        "outputId": "35828bf5-9a55-4e1f-9f8b-bfdc7e7de3de",
        "colab": {
          "base_uri": "https://localhost:8080/",
          "height": 89
        }
      },
      "cell_type": "code",
      "source": [
        "#now the weights and biases\n",
        "W1 = tf.Variable(tf.random_normal([n_f, nl_1], stddev=0.03), name='W1')\n",
        "b1 = tf.Variable(tf.random_normal([nl_1]), name='b1')\n",
        "\n",
        "\n",
        "W2 = tf.Variable(tf.random_normal([nl_1, n_classes], stddev=0.03), name='W2')\n",
        "b2 = tf.Variable(tf.random_normal([n_classes]), name='b2')"
      ],
      "execution_count": 0,
      "outputs": [
        {
          "output_type": "stream",
          "text": [
            "WARNING:tensorflow:From /usr/local/lib/python3.6/dist-packages/tensorflow/python/framework/op_def_library.py:263: colocate_with (from tensorflow.python.framework.ops) is deprecated and will be removed in a future version.\n",
            "Instructions for updating:\n",
            "Colocations handled automatically by placer.\n"
          ],
          "name": "stdout"
        }
      ]
    },
    {
      "metadata": {
        "id": "zSjaRpf8T6lt",
        "colab_type": "code",
        "colab": {}
      },
      "cell_type": "code",
      "source": [
        "# First Hidden layer\n",
        "\n",
        "Z_1 = tf.add(tf.matmul(X, W1), b1)\n",
        "A_1 = tf.nn.relu(Z_1)\n",
        "\n",
        "Y_prdct = tf.nn.softmax(tf.add(tf.matmul(A_1, W2), b2))\n",
        "Y_prdct = tf.clip_by_value(Y_prdct, 1e-10, 0.9999999)\n"
      ],
      "execution_count": 0,
      "outputs": []
    },
    {
      "metadata": {
        "id": "a8px_O0rUfdx",
        "colab_type": "code",
        "colab": {}
      },
      "cell_type": "code",
      "source": [
        "# the loss function\n",
        "cross_entropy = -tf.reduce_mean(tf.reduce_sum(Y * tf.log(Y_prdct)\n",
        "                         + (1 - Y) * tf.log(1 - Y_prdct ), axis=1))"
      ],
      "execution_count": 0,
      "outputs": []
    },
    {
      "metadata": {
        "id": "1x6ZOdZEUfXc",
        "colab_type": "code",
        "outputId": "d3f9c89d-3f83-4a99-b3e2-840510590055",
        "colab": {
          "base_uri": "https://localhost:8080/",
          "height": 89
        }
      },
      "cell_type": "code",
      "source": [
        "# The optimizer\n",
        "optimiser = tf.train.GradientDescentOptimizer(learning_rate=eta).minimize(cross_entropy)"
      ],
      "execution_count": 0,
      "outputs": [
        {
          "output_type": "stream",
          "text": [
            "WARNING:tensorflow:From /usr/local/lib/python3.6/dist-packages/tensorflow/python/ops/math_ops.py:3066: to_int32 (from tensorflow.python.ops.math_ops) is deprecated and will be removed in a future version.\n",
            "Instructions for updating:\n",
            "Use tf.cast instead.\n"
          ],
          "name": "stdout"
        }
      ]
    },
    {
      "metadata": {
        "id": "s4sxaLGmUfPC",
        "colab_type": "code",
        "colab": {}
      },
      "cell_type": "code",
      "source": [
        "# finally setup the initialisation operator\n",
        "init = tf.global_variables_initializer()"
      ],
      "execution_count": 0,
      "outputs": []
    },
    {
      "metadata": {
        "id": "gBc5y-fWUfEZ",
        "colab_type": "code",
        "colab": {}
      },
      "cell_type": "code",
      "source": [
        "# And the accuracy \n",
        "correct_prediction = tf.equal(tf.argmax(Y, 1), tf.argmax(Y_prdct, 1))\n",
        "accuracy = tf.reduce_mean(tf.cast(correct_prediction, tf.float32))"
      ],
      "execution_count": 0,
      "outputs": []
    },
    {
      "metadata": {
        "id": "dD3t4bLTUwQ-",
        "colab_type": "code",
        "outputId": "6f492a39-ecee-42b5-d37d-e4d96fc9ad95",
        "colab": {
          "base_uri": "https://localhost:8080/",
          "height": 209
        }
      },
      "cell_type": "code",
      "source": [
        "# start the session\n",
        "with tf.Session() as s:\n",
        "   # initialise the variables\n",
        "    s.run(init)\n",
        "    total_batch = int(len(mnist.train.labels) / batch_size)\n",
        "    for epoch in range(n_epoch):\n",
        "        loss = 0\n",
        "        for i in range(total_batch):\n",
        "            batch_x, batch_y = mnist.train.next_batch(batch_size=batch_size)\n",
        "            _, l = s.run([optimiser, cross_entropy], \n",
        "                         feed_dict={X: batch_x, Y: batch_y})\n",
        "            loss += l / total_batch\n",
        "        print(\"Epoch:\", (epoch + 1), \"cost =\", \"{:.3f}\".format(loss))\n",
        "    print(s.run(accuracy, feed_dict={X: mnist.test.images, Y: mnist.test.labels}))"
      ],
      "execution_count": 0,
      "outputs": [
        {
          "output_type": "stream",
          "text": [
            "Epoch: 1 cost = 0.548\n",
            "Epoch: 2 cost = 0.224\n",
            "Epoch: 3 cost = 0.168\n",
            "Epoch: 4 cost = 0.138\n",
            "Epoch: 5 cost = 0.117\n",
            "Epoch: 6 cost = 0.097\n",
            "Epoch: 7 cost = 0.086\n",
            "Epoch: 8 cost = 0.075\n",
            "Epoch: 9 cost = 0.065\n",
            "Epoch: 10 cost = 0.058\n",
            "0.9756\n"
          ],
          "name": "stdout"
        }
      ]
    },
    {
      "metadata": {
        "id": "O8_6Wm1AUwLw",
        "colab_type": "code",
        "colab": {}
      },
      "cell_type": "code",
      "source": [
        "### Now you do a network with 2 hidden layers and one relu and one sigmoid activation function."
      ],
      "execution_count": 0,
      "outputs": []
    },
    {
      "metadata": {
        "id": "pgE7FGVo7TtR",
        "colab_type": "text"
      },
      "cell_type": "markdown",
      "source": [
        "## Eager Execution\n",
        "\n",
        "If you would to excute your code as you go (outside a session), you can use this mode. \n",
        "\n",
        "See \n",
        "\n",
        "https://www.tensorflow.org/guide/eager\n",
        "\n",
        "for more information. "
      ]
    },
    {
      "metadata": {
        "id": "t2t4B7b67rDB",
        "colab_type": "code",
        "colab": {}
      },
      "cell_type": "code",
      "source": [
        "import tensorflow as tf\n",
        "\n",
        "tf.enable_eager_execution()\n",
        "## This enables the eager execution mode"
      ],
      "execution_count": 0,
      "outputs": []
    },
    {
      "metadata": {
        "id": "eQTyppRY7vUM",
        "colab_type": "code",
        "colab": {
          "base_uri": "https://localhost:8080/",
          "height": 35
        },
        "outputId": "f69f274a-5318-432d-d717-e1e2aac5f4ce"
      },
      "cell_type": "code",
      "source": [
        "a = tf.Variable(1, name='a')\n",
        "b = tf.Variable(2, name='b')\n",
        "\n",
        "f = a + b\n",
        "\n",
        "# init = tf.global_variables_initializer()\n",
        "\n",
        "\n",
        "print(f ) "
      ],
      "execution_count": 5,
      "outputs": [
        {
          "output_type": "stream",
          "text": [
            "tf.Tensor(3, shape=(), dtype=int32)\n"
          ],
          "name": "stdout"
        }
      ]
    },
    {
      "metadata": {
        "id": "wQOpKG3587Tv",
        "colab_type": "text"
      },
      "cell_type": "markdown",
      "source": [
        "## More examples\n",
        "\n",
        "There are a lot you can do with TF. It is really not limited to NN. You can implement any function using TF, from KNN to random forest and Boosted decision trees. \n",
        "\n",
        "Check the notebooks in \n",
        "\n",
        "https://github.com/aymericdamien/TensorFlow-Examples\n",
        "\n",
        "some nice examples. "
      ]
    },
    {
      "metadata": {
        "id": "8mtLSMdm72kr",
        "colab_type": "code",
        "colab": {}
      },
      "cell_type": "code",
      "source": [
        ""
      ],
      "execution_count": 0,
      "outputs": []
    }
  ]
}