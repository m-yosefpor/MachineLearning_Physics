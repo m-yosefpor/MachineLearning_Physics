{
  "nbformat": 4,
  "nbformat_minor": 0,
  "metadata": {
    "colab": {
      "name": "NN-implementation.ipynb",
      "version": "0.3.2",
      "provenance": [],
      "collapsed_sections": [],
      "include_colab_link": true
    },
    "language_info": {
      "codemirror_mode": {
        "name": "ipython",
        "version": 3
      },
      "file_extension": ".py",
      "mimetype": "text/x-python",
      "name": "python",
      "nbconvert_exporter": "python",
      "pygments_lexer": "ipython3",
      "version": "3.6.6"
    },
    "kernelspec": {
      "display_name": "Python 3",
      "language": "python",
      "name": "python3"
    }
  },
  "cells": [
    {
      "cell_type": "markdown",
      "metadata": {
        "id": "view-in-github",
        "colab_type": "text"
      },
      "source": [
        "<a href=\"https://colab.research.google.com/github/sraeisi/MachineLearning_Physics/blob/master/Lec_6/NN_implementation.ipynb\" target=\"_parent\"><img src=\"https://colab.research.google.com/assets/colab-badge.svg\" alt=\"Open In Colab\"/></a>"
      ]
    },
    {
      "metadata": {
        "colab_type": "code",
        "id": "pyRSpnrE8Y3E",
        "colab": {}
      },
      "cell_type": "code",
      "source": [
        "import numpy as np\n",
        "import pandas as pd\n",
        "import matplotlib.pyplot as plt\n"
      ],
      "execution_count": 0,
      "outputs": []
    },
    {
      "metadata": {
        "colab_type": "code",
        "id": "uVL1PyMllKdm",
        "colab": {}
      },
      "cell_type": "code",
      "source": [
        "from matplotlib import style\n",
        "plt.style.use('seaborn-talk')\n"
      ],
      "execution_count": 0,
      "outputs": []
    },
    {
      "metadata": {
        "colab_type": "code",
        "id": "TIBU-WoF8Y3Q",
        "colab": {}
      },
      "cell_type": "code",
      "source": [
        "def sigmoid(x):\n",
        "    return 1 / (1 + np.exp(-x))\n",
        "\n",
        "def d_sigmoid(x):\n",
        "    a = 1 / (1 + np.exp(-x))\n",
        "    return a*(1-a) \n",
        "\n",
        "\n",
        "def relu(x):\n",
        "    return np.maximum(0,x)\n",
        "\n",
        "## Input cannot be a list, it has to be either a number or a numpy array. \n",
        "def d_relu(x):\n",
        "    return x>0\n"
      ],
      "execution_count": 0,
      "outputs": []
    },
    {
      "metadata": {
        "colab_type": "text",
        "id": "6cC5C4jjKNjd"
      },
      "cell_type": "markdown",
      "source": [
        "# Implement your own code for NN"
      ]
    },
    {
      "metadata": {
        "colab_type": "text",
        "id": "p69IwHv4NhFs"
      },
      "cell_type": "markdown",
      "source": [
        "Now we want to do this ourselves, not using the optimizer. \n",
        "\n",
        "We will use a simple GD algorithm which basically does the following:\n",
        "\n",
        "w_1  -> w_1 - alpha * dL/dw_1\n",
        "\n",
        "w_2  -> w_2 - alpha * dL/dw_2"
      ]
    },
    {
      "metadata": {
        "id": "kjNXbhNZJX3P",
        "colab_type": "code",
        "colab": {}
      },
      "cell_type": "code",
      "source": [
        "'''\n",
        "We need to define our loss function for training. \n",
        "We use the cross-entropy. \n",
        "'''\n",
        "\n",
        "def cross_entropy(y, a):\n",
        "    ns = len(y)\n",
        "    if y.shape==a.shape:\n",
        "        return np.sum( -y*np.log(a)- (1-y)*np.log(1-a) )/ ns\n",
        "    else:\n",
        "        print('Double check the dimensions, y is of the form {}, where as y_predicted is {}'.format(y.shape, a.shape)  )\n"
      ],
      "execution_count": 0,
      "outputs": []
    },
    {
      "metadata": {
        "id": "EJDAnH9hJX3U",
        "colab_type": "code",
        "colab": {}
      },
      "cell_type": "code",
      "source": [
        "'''\n",
        "The same as log_reg_predict. The only difference is that \n",
        "we let it take the activation function as an input. \n",
        "Also note that here, x is not neccessarily the input, but \n",
        "could be the output of any of the previous layers. \n",
        "'''\n",
        "def single_layer(x, w, b ,  activation_func=(lambda x: sigmoid(x)  ) ):\n",
        "    \n",
        "    return z , a\n",
        "\n",
        "'''\n",
        "We now define our general neural network function. \n",
        "\n",
        "The input shapes are\n",
        "x: (n_s, n_f)\n",
        "w_list: {w_l :  ( n_(l), n_(l-1) ) }\n",
        "b_list: {b_l :  (     1  , n_l ) }\n",
        "\n",
        "We return both z and a in all the layers for the output. \n",
        "This could be too much for a real data!!\n",
        "\n",
        "'''\n",
        "def feed_forward(x, w_list, b_list, activation_func_list=[(lambda x: sigmoid(x))]  ):\n",
        "    a = x\n",
        "    z_list = []\n",
        "    a_list = [a]\n",
        "      \n",
        "    return a_list, z_list\n"
      ],
      "execution_count": 0,
      "outputs": []
    },
    {
      "metadata": {
        "id": "3x7ZzMbOJX3Y",
        "colab_type": "code",
        "colab": {}
      },
      "cell_type": "code",
      "source": [
        "'''\n",
        "This will make a random network based on the nodes in each layer.\n",
        "The inputs are\n",
        "nl_list = [n_f, n_l1, n_l2, ..., n_c]: with n_li the number of nodes in layer i. \n",
        "\n",
        "We could add \n",
        "activation_func_list = [act_func_1, act_func_2, ... ]\n",
        "But for now, we keep it simple. \n",
        "\n",
        "'''\n",
        "\n",
        "def random_network_generator( nl_list ):\n",
        "    w_list = []\n",
        "    b_list = []\n",
        "    for i in range(len(nl_list)-1 ):\n",
        "        w_list += [ np.random.uniform(-1,1,size=[nl_list[i+1] , nl_list[i] ]) ]\n",
        "        b_list += [ np.random.uniform(-1,1,size=[1 , nl_list[i+1] ]) ]\n",
        "    return w_list, b_list"
      ],
      "execution_count": 0,
      "outputs": []
    },
    {
      "metadata": {
        "id": "aFBCLFcmJX3e",
        "colab_type": "code",
        "colab": {}
      },
      "cell_type": "code",
      "source": [
        "'''\n",
        "For each step of Back Propagation, we need the followings:\n",
        "\n",
        "'''\n",
        "def single_bp(W, Z, A, dA_in, df):\n",
        "\n",
        "    return dW, dB, dA_out\n",
        "    "
      ],
      "execution_count": 0,
      "outputs": []
    },
    {
      "metadata": {
        "id": "tyP6vOTLJX3j",
        "colab_type": "code",
        "colab": {}
      },
      "cell_type": "code",
      "source": [
        "'''\n",
        "This would implement the single_bp from the end of the NN to the begining \n",
        "layer by layer. \n",
        "dA_f is the dA for the last layer, which depends on the loss function and \n",
        "the labels, y as well as the activation function of the last/output layer. \n",
        "'''\n",
        "def back_propagation(W_list, Z_list, A_list, dA_f, df_list=[(lambda x:1)]):\n",
        "    \n",
        "    ### Stuff to return\n",
        "    dW_list = []\n",
        "    dB_list = []\n",
        "       \n",
        "    return dW_list[::-1], dB_list[::-1]\n"
      ],
      "execution_count": 0,
      "outputs": []
    },
    {
      "metadata": {
        "id": "0L_9fapsJX3r",
        "colab_type": "code",
        "colab": {}
      },
      "cell_type": "code",
      "source": [
        "def train_NN(X, Y, nl_list, activation_func_list=[ [sigmoid, d_sigmoid] ]  , n_itr=10):\n",
        "\n",
        "    print('Initialization ...')\n",
        "    w_list, b_list = random_network_generator(nl_list)\n",
        "    dw_list = [np.zeros(shape=w.shape) for w in w_list]\n",
        "    db_list = [np.zeros(shape=b.shape) for b in b_list]\n",
        "\n",
        "    a_list, z_list = feed_forward(X, w_list, b_list, f_list) \n",
        "\n",
        "    loss_tracker = [cross_entropy(Y, a_list[-1] ) ]\n",
        "\n",
        "    da_f = (a_list[-1]-Y)/(a_list[-1]*(a_list[-1]-1))\n",
        "\n",
        "    for j in range(n_itr):\n",
        "        dw_list, db_list = back_propagation(w_list, z_list, a_list, da_f, df_list)\n",
        "\n",
        "        for i in range(d-1):\n",
        "            w_list[i] += .01 * dw_list[i]\n",
        "            b_list[i] += .01 * db_list[i]\n",
        "\n",
        "        \n",
        "        \n",
        "        da_f = (a_list[-1]-Y)/(a_list[-1]*(a_list[-1]-1))\n",
        "\n",
        "      \n",
        "    return w_list, b_list, loss_tracker\n"
      ],
      "execution_count": 0,
      "outputs": []
    },
    {
      "metadata": {
        "id": "roDOI6Q4JX3y",
        "colab_type": "code",
        "colab": {}
      },
      "cell_type": "code",
      "source": [
        "n_s = 1000  # number of samples\n",
        "n_outputs = 1\n",
        "n_f = 2\n",
        "n_l = [n_f, 5, 6, n_outputs ]\n",
        "\n",
        "x = np.random.uniform(-1,1,size=[n_s,n_f])\n",
        "\n",
        "w_list, b_list = random_network_generator(n_l)\n",
        "\n",
        "a_list = [[relu, d_relu],[relu, d_relu], [sigmoid, d_sigmoid] ] \n",
        "# a_list = [[sigmoid, d_sigmoid],[sigmoid, d_sigmoid], [sigmoid, d_sigmoid] ] \n",
        "f_list  = [ a[0] for a in a_list ] \n",
        "\n",
        "y_actual = feed_forward(x, w_list, b_list, f_list)[0][-1]\n",
        "\n",
        "ws, bs, loss = train_NN( x , y_actual , n_l , n_itr=10000, activation_func_list=a_list )\n",
        "plt.plot(  loss  )"
      ],
      "execution_count": 0,
      "outputs": []
    },
    {
      "metadata": {
        "id": "LSPfvJ7lOhy4",
        "colab_type": "text"
      },
      "cell_type": "markdown",
      "source": [
        "# With Keras"
      ]
    },
    {
      "metadata": {
        "id": "3IlmERD9Ojur",
        "colab_type": "code",
        "colab": {}
      },
      "cell_type": "code",
      "source": [
        "# TensorFlow and tf.keras\n",
        "import tensorflow as tf\n",
        "from tensorflow import keras\n",
        "\n",
        "import requests\n",
        "import io"
      ],
      "execution_count": 0,
      "outputs": []
    },
    {
      "metadata": {
        "id": "Ameq2O4DPRRV",
        "colab_type": "code",
        "colab": {}
      },
      "cell_type": "code",
      "source": [
        "'''\n",
        "Let's import the Farsi digits (your assignment)\n",
        "'''\n",
        "\n",
        "url = 'https://raw.githubusercontent.com/sraeisi/MachineLearning_Physics/master/Assignments/A3/X.npz'\n",
        "s=requests.get(url, stream=True).content\n",
        "X = np.load(io.BytesIO(s) )['arr_0']\n",
        "url = 'https://raw.githubusercontent.com/sraeisi/MachineLearning_Physics/master/Assignments/A3/Y.npz'\n",
        "s=requests.get(url, stream=True).content\n",
        "Y = np.load(io.BytesIO(s) )['arr_0']\n",
        "\n",
        "from sklearn.utils import shuffle\n",
        "X, Y = shuffle(X,Y, random_state = 0 )"
      ],
      "execution_count": 0,
      "outputs": []
    },
    {
      "metadata": {
        "id": "vM18t_u-PhJX",
        "colab_type": "code",
        "outputId": "5793ff92-017e-4efc-c484-f6b96efd2134",
        "colab": {
          "base_uri": "https://localhost:8080/",
          "height": 35
        }
      },
      "cell_type": "code",
      "source": [
        "print('Each image is of the form: {}'.format(X[0].shape ) )"
      ],
      "execution_count": 6,
      "outputs": [
        {
          "output_type": "stream",
          "text": [
            "Each image is of the form: (32, 32)\n"
          ],
          "name": "stdout"
        }
      ]
    },
    {
      "metadata": {
        "id": "m7ompFkwOnZz",
        "colab_type": "code",
        "colab": {}
      },
      "cell_type": "code",
      "source": [
        "model = keras.Sequential([\n",
        "    keras.layers.Flatten(input_shape=(32, 32)),\n",
        "    keras.layers.Dense(128, activation=tf.nn.relu),\n",
        "    keras.layers.Dense(10, activation=tf.nn.softmax)\n",
        "])\n",
        "\n",
        "\n",
        "model.compile(optimizer='adam', \n",
        "              loss='sparse_categorical_crossentropy',\n",
        "              metrics=['accuracy'])\n",
        "\n"
      ],
      "execution_count": 0,
      "outputs": []
    },
    {
      "metadata": {
        "id": "JjuMhnCzRbUF",
        "colab_type": "code",
        "colab": {}
      },
      "cell_type": "code",
      "source": [
        "from sklearn.model_selection import train_test_split\n",
        "from sklearn.metrics import confusion_matrix\n",
        "\n",
        "X_train, X_test, Y_train, Y_test = train_test_split(X, Y, random_state=0)"
      ],
      "execution_count": 0,
      "outputs": []
    },
    {
      "metadata": {
        "id": "MENQ_G8uPe_d",
        "colab_type": "code",
        "outputId": "c486edd8-bc52-46a3-a02d-daa180dad457",
        "colab": {
          "base_uri": "https://localhost:8080/",
          "height": 196
        }
      },
      "cell_type": "code",
      "source": [
        "history = model.fit(X_train,Y_train, epochs=5)"
      ],
      "execution_count": 10,
      "outputs": [
        {
          "output_type": "stream",
          "text": [
            "Epoch 1/5\n",
            "76764/76764 [==============================] - 12s 152us/sample - loss: 0.1335 - acc: 0.9616\n",
            "Epoch 2/5\n",
            "76764/76764 [==============================] - 11s 148us/sample - loss: 0.0487 - acc: 0.9856\n",
            "Epoch 3/5\n",
            "76764/76764 [==============================] - 13s 166us/sample - loss: 0.0303 - acc: 0.9909\n",
            "Epoch 4/5\n",
            "76764/76764 [==============================] - 13s 168us/sample - loss: 0.0202 - acc: 0.9936\n",
            "Epoch 5/5\n",
            "76764/76764 [==============================] - 12s 155us/sample - loss: 0.0152 - acc: 0.9952\n"
          ],
          "name": "stdout"
        }
      ]
    },
    {
      "metadata": {
        "id": "NdWZ1zlLTOat",
        "colab_type": "code",
        "outputId": "0385ce4e-f4b9-4f8d-ba27-dd1d0b9b32b5",
        "colab": {
          "base_uri": "https://localhost:8080/",
          "height": 196
        }
      },
      "cell_type": "code",
      "source": [
        "Y_predicted = np.argmax( model.predict(X_test) , axis=1 )\n",
        "cm = confusion_matrix(Y_test, Y_predicted)\n",
        "print(cm)"
      ],
      "execution_count": 11,
      "outputs": [
        {
          "output_type": "stream",
          "text": [
            "[[2530    0    1    0    0    4    0    0    1    0]\n",
            " [   1 2501    4    0    1    1    1    0    0    2]\n",
            " [   1    6 2452   26    8    0    2    4    0    1]\n",
            " [   1    0   41 2481   21    0    0    0    0    0]\n",
            " [   5    2   12   34 2620    6    7    3    0    3]\n",
            " [  20    1    1    0    5 2462    1    1    5    1]\n",
            " [   2    3    3    0    1    0 2579    5    3   12]\n",
            " [   6    2    3    0    3    0    2 2592    0    0]\n",
            " [   1    4    0    0    0    0    0    1 2535    7]\n",
            " [   0    8    0    0    0    0   21    0    7 2508]]\n"
          ],
          "name": "stdout"
        }
      ]
    },
    {
      "metadata": {
        "id": "NRrqowY_TjDT",
        "colab_type": "code",
        "outputId": "4177e75d-3493-4fa7-8933-0f239949e065",
        "colab": {
          "base_uri": "https://localhost:8080/",
          "height": 369
        }
      },
      "cell_type": "code",
      "source": [
        "# Plot training & validation accuracy values\n",
        "fig = plt.figure(figsize=(10,5))\n",
        "ax = fig.add_subplot(1,2,1, title = 'Model accuracy', ylabel= 'Accuracy')\n",
        "plt.plot(history.history['acc'])\n",
        "\n",
        "# Plot training & validation loss values\n",
        "ax = fig.add_subplot(1,2,2, title = 'Model loss', ylabel= 'Loss')\n",
        "plt.plot(history.history['loss'])\n",
        "\n",
        "plt.tight_layout()\n",
        "plt.show()"
      ],
      "execution_count": 12,
      "outputs": [
        {
          "output_type": "display_data",
          "data": {
            "image/png": "[encoded data removed]",
            "text/plain": [
              "<Figure size 720x360 with 2 Axes>"
            ]
          },
          "metadata": {
            "tags": []
          }
        }
      ]
    },
    {
      "metadata": {
        "id": "kAPrRoRQPth4",
        "colab_type": "code",
        "outputId": "090faf40-7962-4ed5-e4af-c55147698319",
        "colab": {
          "base_uri": "https://localhost:8080/",
          "height": 35
        }
      },
      "cell_type": "code",
      "source": [
        "Y_oh = keras.utils.to_categorical(Y, num_classes=10, dtype=int)\n",
        "\n",
        "X_train, X_test, Y_train, Y_test = train_test_split(X, Y, random_state=0)\n",
        "Y_oh[0]"
      ],
      "execution_count": 13,
      "outputs": [
        {
          "output_type": "execute_result",
          "data": {
            "text/plain": [
              "array([0, 0, 0, 0, 0, 1, 0, 0, 0, 0])"
            ]
          },
          "metadata": {
            "tags": []
          },
          "execution_count": 13
        }
      ]
    },
    {
      "metadata": {
        "id": "pihC6RkAQNpM",
        "colab_type": "code",
        "outputId": "6ecebe3c-1bb0-4989-88f3-5eabb5f80467",
        "colab": {
          "base_uri": "https://localhost:8080/",
          "height": 393
        }
      },
      "cell_type": "code",
      "source": [
        "history = model.fit(X_train,Y_train, validation_split=0.25, epochs=10, batch_size=16, verbose=1)"
      ],
      "execution_count": 14,
      "outputs": [
        {
          "output_type": "stream",
          "text": [
            "Train on 57573 samples, validate on 19191 samples\n",
            "Epoch 1/10\n",
            "57573/57573 [==============================] - 23s 400us/sample - loss: 0.0194 - acc: 0.9935 - val_loss: 0.0233 - val_acc: 0.9925\n",
            "Epoch 2/10\n",
            "57573/57573 [==============================] - 27s 471us/sample - loss: 0.0137 - acc: 0.9954 - val_loss: 0.0295 - val_acc: 0.9909\n",
            "Epoch 3/10\n",
            "57573/57573 [==============================] - 27s 462us/sample - loss: 0.0104 - acc: 0.9963 - val_loss: 0.0283 - val_acc: 0.9913\n",
            "Epoch 4/10\n",
            "57573/57573 [==============================] - 30s 521us/sample - loss: 0.0089 - acc: 0.9967 - val_loss: 0.0290 - val_acc: 0.9926\n",
            "Epoch 5/10\n",
            "57573/57573 [==============================] - 26s 453us/sample - loss: 0.0084 - acc: 0.9971 - val_loss: 0.0377 - val_acc: 0.9903\n",
            "Epoch 6/10\n",
            "57573/57573 [==============================] - 28s 479us/sample - loss: 0.0062 - acc: 0.9979 - val_loss: 0.0407 - val_acc: 0.9905\n",
            "Epoch 7/10\n",
            "57573/57573 [==============================] - 26s 453us/sample - loss: 0.0058 - acc: 0.9981 - val_loss: 0.0371 - val_acc: 0.9917\n",
            "Epoch 8/10\n",
            "57573/57573 [==============================] - 27s 476us/sample - loss: 0.0072 - acc: 0.9977 - val_loss: 0.0341 - val_acc: 0.9921\n",
            "Epoch 9/10\n",
            "57573/57573 [==============================] - 26s 455us/sample - loss: 0.0053 - acc: 0.9983 - val_loss: 0.0425 - val_acc: 0.9910\n",
            "Epoch 10/10\n",
            "57573/57573 [==============================] - 28s 485us/sample - loss: 0.0060 - acc: 0.9982 - val_loss: 0.0530 - val_acc: 0.9906\n"
          ],
          "name": "stdout"
        }
      ]
    },
    {
      "metadata": {
        "id": "R0KP4tPZVY5l",
        "colab_type": "code",
        "outputId": "7689663f-90f3-4a6d-b4ad-e880be851447",
        "colab": {
          "base_uri": "https://localhost:8080/",
          "height": 196
        }
      },
      "cell_type": "code",
      "source": [
        "Y_predicted = np.argmax( model.predict(X_test) , axis=1 )\n",
        "cm = confusion_matrix(Y_test, Y_predicted)\n",
        "print(cm)"
      ],
      "execution_count": 15,
      "outputs": [
        {
          "output_type": "stream",
          "text": [
            "[[2512    1    1    0    0   22    0    0    0    0]\n",
            " [   1 2506    0    0    1    1    0    0    1    1]\n",
            " [   1   13 2447   22    9    0    4    3    0    1]\n",
            " [   1    0   53 2476   11    2    0    1    0    0]\n",
            " [   3    2   13   59 2582   18    5    6    3    1]\n",
            " [   4    1    1    0    0 2489    0    0    2    0]\n",
            " [   2    6   11    1    1    2 2568    5    0   12]\n",
            " [   2    1    1    2    3    3    3 2593    0    0]\n",
            " [   0    5    0    0    1    2    2    0 2533    5]\n",
            " [   0   12    2    0    1    0   14    0    5 2510]]\n"
          ],
          "name": "stdout"
        }
      ]
    },
    {
      "metadata": {
        "id": "u4Vj-MdAVcIu",
        "colab_type": "code",
        "outputId": "18e9fe46-d649-4037-90bf-041ed8ead7d7",
        "colab": {
          "base_uri": "https://localhost:8080/",
          "height": 369
        }
      },
      "cell_type": "code",
      "source": [
        "# Plot training & validation accuracy values\n",
        "fig = plt.figure(figsize=(10,5))\n",
        "ax = fig.add_subplot(1,2,1, title = 'Model accuracy', ylabel= 'Accuracy')\n",
        "plt.plot(history.history['acc'])\n",
        "plt.plot(history.history['val_acc'])\n",
        "plt.legend(['Train', 'Test'], loc='upper left')\n",
        "\n",
        "# Plot training & validation loss values\n",
        "ax = fig.add_subplot(1,2,2, title = 'Model loss', ylabel= 'Loss')\n",
        "plt.plot(history.history['loss'])\n",
        "plt.plot(history.history['val_loss'])\n",
        "plt.legend(['Train', 'Test'], loc='upper left')\n",
        "\n",
        "plt.tight_layout()\n",
        "plt.show()"
      ],
      "execution_count": 16,
      "outputs": [
        {
          "output_type": "display_data",
          "data": {
            "image/png": "[encoded data removed]",
            "text/plain": [
              "<Figure size 720x360 with 2 Axes>"
            ]
          },
          "metadata": {
            "tags": []
          }
        }
      ]
    },
    {
      "metadata": {
        "id": "VaCcqglPWore",
        "colab_type": "code",
        "colab": {}
      },
      "cell_type": "code",
      "source": [
        ""
      ],
      "execution_count": 0,
      "outputs": []
    }
  ]
}