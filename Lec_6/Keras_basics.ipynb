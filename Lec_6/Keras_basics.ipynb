{
  "nbformat": 4,
  "nbformat_minor": 0,
  "metadata": {
    "colab": {
      "name": "Keras_basics.ipynb",
      "version": "0.3.2",
      "provenance": [],
      "collapsed_sections": [
        "PvZd8dNkagLl"
      ],
      "include_colab_link": true
    },
    "kernelspec": {
      "name": "python3",
      "display_name": "Python 3"
    }
  },
  "cells": [
    {
      "cell_type": "markdown",
      "metadata": {
        "id": "view-in-github",
        "colab_type": "text"
      },
      "source": [
        "<a href=\"https://colab.research.google.com/github/sraeisi/MachineLearning_Physics/blob/master/Lec_6/Keras_basics.ipynb\" target=\"_parent\"><img src=\"https://colab.research.google.com/assets/colab-badge.svg\" alt=\"Open In Colab\"/></a>"
      ]
    },
    {
      "metadata": {
        "id": "XyaKzVDuXLmF",
        "colab_type": "code",
        "colab": {}
      },
      "cell_type": "code",
      "source": [
        "import numpy as np\n",
        "import matplotlib.pyplot as plt\n",
        "\n",
        "# TensorFlow and tf.keras\n",
        "import tensorflow as tf\n",
        "from tensorflow import keras\n",
        "\n",
        "import requests\n",
        "import io"
      ],
      "execution_count": 0,
      "outputs": []
    },
    {
      "metadata": {
        "id": "vPUjDX8ABoGc",
        "colab_type": "text"
      },
      "cell_type": "markdown",
      "source": [
        "## Farsi Hand-written digits classification"
      ]
    },
    {
      "metadata": {
        "id": "FE54NJdSXplU",
        "colab_type": "code",
        "colab": {}
      },
      "cell_type": "code",
      "source": [
        "'''\n",
        "Let's import the Farsi digits (your assignment)\n",
        "'''\n",
        "\n",
        "url = 'https://raw.githubusercontent.com/sraeisi/MachineLearning_Physics/master/Assignments/A3/X.npz'\n",
        "s=requests.get(url, stream=True).content\n",
        "X = np.load(io.BytesIO(s) )['arr_0']\n",
        "url = 'https://raw.githubusercontent.com/sraeisi/MachineLearning_Physics/master/Assignments/A3/Y.npz'\n",
        "s=requests.get(url, stream=True).content\n",
        "Y = np.load(io.BytesIO(s) )['arr_0']\n",
        "\n",
        "from sklearn.utils import shuffle\n",
        "X, Y = shuffle(X,Y, random_state = 0 )"
      ],
      "execution_count": 0,
      "outputs": []
    },
    {
      "metadata": {
        "id": "ldLimT4BXqVg",
        "colab_type": "code",
        "outputId": "35f1708b-b74f-4244-96a2-ef223e962ef1",
        "colab": {
          "base_uri": "https://localhost:8080/",
          "height": 35
        }
      },
      "cell_type": "code",
      "source": [
        "print('Each image is of the form: {}'.format(X[0].shape ) )"
      ],
      "execution_count": 0,
      "outputs": [
        {
          "output_type": "stream",
          "text": [
            "Each image is of the form: (32, 32)\n"
          ],
          "name": "stdout"
        }
      ]
    },
    {
      "metadata": {
        "id": "WSXG5PFOXtQC",
        "colab_type": "code",
        "outputId": "ef34c39e-9fe9-4d0c-d6bf-da167cdedbbc",
        "colab": {
          "base_uri": "https://localhost:8080/",
          "height": 90
        }
      },
      "cell_type": "code",
      "source": [
        "model = keras.Sequential([\n",
        "    keras.layers.Flatten(input_shape=(32, 32)),\n",
        "    keras.layers.Dense(128, activation=tf.nn.relu),\n",
        "    keras.layers.Dense(10, activation=tf.nn.softmax)\n",
        "])\n",
        "\n",
        "\n",
        "model.compile(optimizer='adam', \n",
        "              loss='sparse_categorical_crossentropy',\n",
        "              metrics=['accuracy'])"
      ],
      "execution_count": 0,
      "outputs": [
        {
          "output_type": "stream",
          "text": [
            "WARNING:tensorflow:From /usr/local/lib/python3.6/dist-packages/tensorflow/python/ops/resource_variable_ops.py:435: colocate_with (from tensorflow.python.framework.ops) is deprecated and will be removed in a future version.\n",
            "Instructions for updating:\n",
            "Colocations handled automatically by placer.\n"
          ],
          "name": "stdout"
        }
      ]
    },
    {
      "metadata": {
        "id": "FyNX5FJRXx9V",
        "colab_type": "code",
        "colab": {}
      },
      "cell_type": "code",
      "source": [
        "from sklearn.model_selection import train_test_split\n",
        "from sklearn.metrics import confusion_matrix\n",
        "\n",
        "X_train, X_test, Y_train, Y_test = train_test_split(X, Y, random_state=0)"
      ],
      "execution_count": 0,
      "outputs": []
    },
    {
      "metadata": {
        "id": "RPYBp6g9Xy23",
        "colab_type": "code",
        "outputId": "8674b56f-3b70-4efe-ca8c-1484d5995b33",
        "colab": {
          "base_uri": "https://localhost:8080/",
          "height": 211
        }
      },
      "cell_type": "code",
      "source": [
        "history = model.fit(X_train,Y_train, validation_split=0.25, epochs=5)"
      ],
      "execution_count": 0,
      "outputs": [
        {
          "output_type": "stream",
          "text": [
            "Train on 57573 samples, validate on 19191 samples\n",
            "Epoch 1/5\n",
            "57573/57573 [==============================] - 8s 136us/sample - loss: 0.1531 - acc: 0.9560 - val_loss: 0.0846 - val_acc: 0.9751\n",
            "Epoch 2/5\n",
            "57573/57573 [==============================] - 8s 132us/sample - loss: 0.0569 - acc: 0.9834 - val_loss: 0.0802 - val_acc: 0.9759\n",
            "Epoch 3/5\n",
            "57573/57573 [==============================] - 9s 148us/sample - loss: 0.0355 - acc: 0.9886 - val_loss: 0.0586 - val_acc: 0.9814\n",
            "Epoch 4/5\n",
            "57573/57573 [==============================] - 7s 128us/sample - loss: 0.0236 - acc: 0.9927 - val_loss: 0.0536 - val_acc: 0.9843\n",
            "Epoch 5/5\n",
            "57573/57573 [==============================] - 7s 128us/sample - loss: 0.0152 - acc: 0.9955 - val_loss: 0.0605 - val_acc: 0.9831\n"
          ],
          "name": "stdout"
        }
      ]
    },
    {
      "metadata": {
        "id": "soJviX78X19-",
        "colab_type": "code",
        "outputId": "a28926bb-d378-451c-d657-fb1948a93c37",
        "colab": {
          "base_uri": "https://localhost:8080/",
          "height": 193
        }
      },
      "cell_type": "code",
      "source": [
        "Y_predicted = np.argmax( model.predict(X_test) , axis=1 )\n",
        "cm = confusion_matrix(Y_test, Y_predicted)\n",
        "print(cm)"
      ],
      "execution_count": 0,
      "outputs": [
        {
          "output_type": "stream",
          "text": [
            "[[2518    0    0    2    1   14    0    0    1    0]\n",
            " [   0 2503    4    0    1    0    1    0    1    1]\n",
            " [   1    7 2406   59   19    0    7    1    0    0]\n",
            " [   0    0   30 2493   19    1    0    0    0    1]\n",
            " [   0    4    6   45 2620    8    4    2    2    1]\n",
            " [   6    2    0    4    2 2471    2    0    6    4]\n",
            " [   0    1    4    1    2    0 2591    1    3    5]\n",
            " [   3    3    6    3    3    3   15 2572    0    0]\n",
            " [   0    4    0    0    0    1    2    0 2534    7]\n",
            " [   0    8    1    1    6    0   33    0   10 2485]]\n"
          ],
          "name": "stdout"
        }
      ]
    },
    {
      "metadata": {
        "id": "OW8pM1UVYI_H",
        "colab_type": "code",
        "outputId": "9470cc15-bc6a-4b4f-cfd3-3f52c952640f",
        "colab": {
          "base_uri": "https://localhost:8080/",
          "height": 389
        }
      },
      "cell_type": "code",
      "source": [
        "# Plot training & validation accuracy values\n",
        "fig = plt.figure(figsize=(10,5))\n",
        "ax = fig.add_subplot(1,2,1, title = 'Model accuracy', ylabel= 'Accuracy')\n",
        "plt.plot(history.history['acc'])\n",
        "plt.plot(history.history['val_acc'])\n",
        "plt.legend(['Train', 'Test'], loc='upper left')\n",
        "\n",
        "# Plot training & validation loss values\n",
        "ax = fig.add_subplot(1,2,2, title = 'Model loss', ylabel= 'Loss')\n",
        "plt.plot(history.history['loss'])\n",
        "plt.plot(history.history['val_loss'])\n",
        "plt.legend(['Train', 'Test'], loc='upper left')\n",
        "\n",
        "plt.tight_layout()\n",
        "plt.show()"
      ],
      "execution_count": 0,
      "outputs": [
        {
          "output_type": "display_data",
          "data": {
            "image/png": "[encoded data removed]",
            "text/plain": [
              "<Figure size 720x360 with 2 Axes>"
            ]
          },
          "metadata": {
            "tags": []
          }
        }
      ]
    },
    {
      "metadata": {
        "id": "VUBhOlWvX5z7",
        "colab_type": "code",
        "colab": {}
      },
      "cell_type": "code",
      "source": [
        "Y_oh = keras.utils.to_categorical(Y, num_classes=10, dtype=int)\n",
        "\n",
        "X_train, X_test, Y_train, Y_test = train_test_split(X, Y_oh, random_state=0)\n",
        "\n",
        "\n",
        "## We need to change the loss function for the one-hot encoding\n",
        "model.compile(optimizer='adam', \n",
        "              loss='categorical_crossentropy',\n",
        "              metrics=['accuracy'])"
      ],
      "execution_count": 0,
      "outputs": []
    },
    {
      "metadata": {
        "id": "xiy9_xdXYBIw",
        "colab_type": "code",
        "colab": {}
      },
      "cell_type": "code",
      "source": [
        "history = model.fit(X_train,Y_train, validation_split=0.25, epochs=10, batch_size=16, verbose=1)"
      ],
      "execution_count": 0,
      "outputs": []
    },
    {
      "metadata": {
        "id": "x4XW7S7CYEOB",
        "colab_type": "code",
        "colab": {}
      },
      "cell_type": "code",
      "source": [
        "Y_predicted = np.argmax( model.predict(X_test) , axis=1 )\n",
        "cm = confusion_matrix(Y_test, Y_predicted)\n",
        "print(cm)"
      ],
      "execution_count": 0,
      "outputs": []
    },
    {
      "metadata": {
        "id": "v5n5eQS4YHO4",
        "colab_type": "code",
        "colab": {}
      },
      "cell_type": "code",
      "source": [
        "# Plot training & validation accuracy values\n",
        "fig = plt.figure(figsize=(10,5))\n",
        "ax = fig.add_subplot(1,2,1, title = 'Model accuracy', ylabel= 'Accuracy')\n",
        "plt.plot(history.history['acc'])\n",
        "plt.plot(history.history['val_acc'])\n",
        "plt.legend(['Train', 'Test'], loc='upper left')\n",
        "\n",
        "# Plot training & validation loss values\n",
        "ax = fig.add_subplot(1,2,2, title = 'Model loss', ylabel= 'Loss')\n",
        "plt.plot(history.history['loss'])\n",
        "plt.plot(history.history['val_loss'])\n",
        "plt.legend(['Train', 'Test'], loc='upper left')\n",
        "\n",
        "plt.tight_layout()\n",
        "plt.show()"
      ],
      "execution_count": 0,
      "outputs": []
    },
    {
      "metadata": {
        "id": "PvZd8dNkagLl",
        "colab_type": "text"
      },
      "cell_type": "markdown",
      "source": [
        "## Try this for the particle identification problem."
      ]
    },
    {
      "metadata": {
        "id": "ipUS-xGwafLK",
        "colab_type": "code",
        "outputId": "1c88dbcd-fe2b-430c-ae45-59913dbf1061",
        "colab": {
          "base_uri": "https://localhost:8080/",
          "height": 203
        }
      },
      "cell_type": "code",
      "source": [
        "import pandas as pd\n",
        "url = 'https://www.dropbox.com/s/66dbhxl93y41coe/particle-identification-from-detector-responses.zip?dl=1'\n",
        "s=requests.get(url, stream=True).content\n",
        "data=pd.read_csv(io.BytesIO(s) , compression='zip' )\n",
        " \n",
        "'''\n",
        "Alternatively, you can download the file into your computer and run the following code. \n",
        "You need to uncomment it first. \n",
        "'''    \n",
        "\n",
        "# data = pd.read_csv('particle-identification-from-detector-responses.zip', compression='zip')\n",
        "data.head()"
      ],
      "execution_count": 2,
      "outputs": [
        {
          "output_type": "execute_result",
          "data": {
            "text/html": [
              "<div>\n",
              "<style scoped>\n",
              "    .dataframe tbody tr th:only-of-type {\n",
              "        vertical-align: middle;\n",
              "    }\n",
              "\n",
              "    .dataframe tbody tr th {\n",
              "        vertical-align: top;\n",
              "    }\n",
              "\n",
              "    .dataframe thead th {\n",
              "        text-align: right;\n",
              "    }\n",
              "</style>\n",
              "<table border=\"1\" class=\"dataframe\">\n",
              "  <thead>\n",
              "    <tr style=\"text-align: right;\">\n",
              "      <th></th>\n",
              "      <th>id</th>\n",
              "      <th>p</th>\n",
              "      <th>theta</th>\n",
              "      <th>beta</th>\n",
              "      <th>nphe</th>\n",
              "      <th>ein</th>\n",
              "      <th>eout</th>\n",
              "    </tr>\n",
              "  </thead>\n",
              "  <tbody>\n",
              "    <tr>\n",
              "      <th>0</th>\n",
              "      <td>211</td>\n",
              "      <td>0.780041</td>\n",
              "      <td>1.081480</td>\n",
              "      <td>0.989962</td>\n",
              "      <td>0</td>\n",
              "      <td>0.000000</td>\n",
              "      <td>0.000000</td>\n",
              "    </tr>\n",
              "    <tr>\n",
              "      <th>1</th>\n",
              "      <td>211</td>\n",
              "      <td>0.260929</td>\n",
              "      <td>0.778892</td>\n",
              "      <td>0.902450</td>\n",
              "      <td>0</td>\n",
              "      <td>0.000000</td>\n",
              "      <td>0.000000</td>\n",
              "    </tr>\n",
              "    <tr>\n",
              "      <th>2</th>\n",
              "      <td>2212</td>\n",
              "      <td>0.773022</td>\n",
              "      <td>0.185953</td>\n",
              "      <td>0.642428</td>\n",
              "      <td>4</td>\n",
              "      <td>0.101900</td>\n",
              "      <td>0.000000</td>\n",
              "    </tr>\n",
              "    <tr>\n",
              "      <th>3</th>\n",
              "      <td>211</td>\n",
              "      <td>0.476997</td>\n",
              "      <td>0.445561</td>\n",
              "      <td>0.951471</td>\n",
              "      <td>0</td>\n",
              "      <td>0.000000</td>\n",
              "      <td>0.000000</td>\n",
              "    </tr>\n",
              "    <tr>\n",
              "      <th>4</th>\n",
              "      <td>2212</td>\n",
              "      <td>2.123290</td>\n",
              "      <td>0.337332</td>\n",
              "      <td>0.908652</td>\n",
              "      <td>0</td>\n",
              "      <td>0.034379</td>\n",
              "      <td>0.049256</td>\n",
              "    </tr>\n",
              "  </tbody>\n",
              "</table>\n",
              "</div>"
            ],
            "text/plain": [
              "     id         p     theta      beta  nphe       ein      eout\n",
              "0   211  0.780041  1.081480  0.989962     0  0.000000  0.000000\n",
              "1   211  0.260929  0.778892  0.902450     0  0.000000  0.000000\n",
              "2  2212  0.773022  0.185953  0.642428     4  0.101900  0.000000\n",
              "3   211  0.476997  0.445561  0.951471     0  0.000000  0.000000\n",
              "4  2212  2.123290  0.337332  0.908652     0  0.034379  0.049256"
            ]
          },
          "metadata": {
            "tags": []
          },
          "execution_count": 2
        }
      ]
    },
    {
      "metadata": {
        "id": "1lc1lU1xa87h",
        "colab_type": "code",
        "outputId": "9077c70d-c612-4e67-b3ae-e86b91cbe36a",
        "colab": {
          "base_uri": "https://localhost:8080/",
          "height": 203
        }
      },
      "cell_type": "code",
      "source": [
        "n_s = len(data)\n",
        "targets = list(set(data['id']))\n",
        "mini_data = data.sample(n_s, axis=0, random_state=0)\n",
        "mini_data['target'] = mini_data['id'].apply(lambda x: targets.index(x)) \n",
        "mini_data.drop('id',axis=1, inplace=True)\n",
        "mini_data.head()"
      ],
      "execution_count": 3,
      "outputs": [
        {
          "output_type": "execute_result",
          "data": {
            "text/html": [
              "<div>\n",
              "<style scoped>\n",
              "    .dataframe tbody tr th:only-of-type {\n",
              "        vertical-align: middle;\n",
              "    }\n",
              "\n",
              "    .dataframe tbody tr th {\n",
              "        vertical-align: top;\n",
              "    }\n",
              "\n",
              "    .dataframe thead th {\n",
              "        text-align: right;\n",
              "    }\n",
              "</style>\n",
              "<table border=\"1\" class=\"dataframe\">\n",
              "  <thead>\n",
              "    <tr style=\"text-align: right;\">\n",
              "      <th></th>\n",
              "      <th>p</th>\n",
              "      <th>theta</th>\n",
              "      <th>beta</th>\n",
              "      <th>nphe</th>\n",
              "      <th>ein</th>\n",
              "      <th>eout</th>\n",
              "      <th>target</th>\n",
              "    </tr>\n",
              "  </thead>\n",
              "  <tbody>\n",
              "    <tr>\n",
              "      <th>3748577</th>\n",
              "      <td>1.230330</td>\n",
              "      <td>0.415613</td>\n",
              "      <td>0.985857</td>\n",
              "      <td>0</td>\n",
              "      <td>0.182147</td>\n",
              "      <td>0.058503</td>\n",
              "      <td>1</td>\n",
              "    </tr>\n",
              "    <tr>\n",
              "      <th>4555504</th>\n",
              "      <td>0.870680</td>\n",
              "      <td>0.864884</td>\n",
              "      <td>0.989180</td>\n",
              "      <td>0</td>\n",
              "      <td>0.000000</td>\n",
              "      <td>0.000000</td>\n",
              "      <td>1</td>\n",
              "    </tr>\n",
              "    <tr>\n",
              "      <th>2388454</th>\n",
              "      <td>1.320670</td>\n",
              "      <td>0.481086</td>\n",
              "      <td>0.806984</td>\n",
              "      <td>0</td>\n",
              "      <td>0.151431</td>\n",
              "      <td>0.115267</td>\n",
              "      <td>2</td>\n",
              "    </tr>\n",
              "    <tr>\n",
              "      <th>3738046</th>\n",
              "      <td>0.657969</td>\n",
              "      <td>0.500238</td>\n",
              "      <td>0.982778</td>\n",
              "      <td>0</td>\n",
              "      <td>0.034974</td>\n",
              "      <td>0.055161</td>\n",
              "      <td>1</td>\n",
              "    </tr>\n",
              "    <tr>\n",
              "      <th>1572731</th>\n",
              "      <td>1.756310</td>\n",
              "      <td>0.340558</td>\n",
              "      <td>0.993275</td>\n",
              "      <td>0</td>\n",
              "      <td>0.030030</td>\n",
              "      <td>0.167452</td>\n",
              "      <td>1</td>\n",
              "    </tr>\n",
              "  </tbody>\n",
              "</table>\n",
              "</div>"
            ],
            "text/plain": [
              "                p     theta      beta  nphe       ein      eout  target\n",
              "3748577  1.230330  0.415613  0.985857     0  0.182147  0.058503       1\n",
              "4555504  0.870680  0.864884  0.989180     0  0.000000  0.000000       1\n",
              "2388454  1.320670  0.481086  0.806984     0  0.151431  0.115267       2\n",
              "3738046  0.657969  0.500238  0.982778     0  0.034974  0.055161       1\n",
              "1572731  1.756310  0.340558  0.993275     0  0.030030  0.167452       1"
            ]
          },
          "metadata": {
            "tags": []
          },
          "execution_count": 3
        }
      ]
    },
    {
      "metadata": {
        "id": "D46GLZBvcAKe",
        "colab_type": "code",
        "colab": {}
      },
      "cell_type": "code",
      "source": [
        "Y = mini_data['target'].values\n",
        "ind_to_keep = ['p', 'beta']\n",
        "X = mini_data[ind_to_keep].values"
      ],
      "execution_count": 0,
      "outputs": []
    },
    {
      "metadata": {
        "id": "CCeay1QjanUa",
        "colab_type": "code",
        "colab": {
          "base_uri": "https://localhost:8080/",
          "height": 281
        },
        "outputId": "c2093107-4fe6-4d64-d66c-eee936493729"
      },
      "cell_type": "code",
      "source": [
        "model = keras.Sequential()\n",
        "model = keras.Sequential([\n",
        "    keras.layers.Dense(128,activation=tf.nn.relu),\n",
        "    keras.layers.Dense(128,activation=tf.nn.relu),\n",
        "    keras.layers.Dense(128,activation=tf.nn.relu),\n",
        "    keras.layers.Dense(4, activation=tf.nn.softmax)\n",
        "])\n",
        "\n",
        "\n",
        "model.compile(optimizer='adam', \n",
        "              loss='categorical_crossentropy',\n",
        "              metrics=['accuracy'])\n",
        "\n",
        "model.build([None, 2])\n",
        "model.summary()"
      ],
      "execution_count": 11,
      "outputs": [
        {
          "output_type": "stream",
          "text": [
            "_________________________________________________________________\n",
            "Layer (type)                 Output Shape              Param #   \n",
            "=================================================================\n",
            "dense_16 (Dense)             multiple                  384       \n",
            "_________________________________________________________________\n",
            "dense_17 (Dense)             multiple                  16512     \n",
            "_________________________________________________________________\n",
            "dense_18 (Dense)             multiple                  16512     \n",
            "_________________________________________________________________\n",
            "dense_19 (Dense)             multiple                  516       \n",
            "=================================================================\n",
            "Total params: 33,924\n",
            "Trainable params: 33,924\n",
            "Non-trainable params: 0\n",
            "_________________________________________________________________\n"
          ],
          "name": "stdout"
        }
      ]
    },
    {
      "metadata": {
        "id": "h4y8HE8regPN",
        "colab_type": "code",
        "colab": {}
      },
      "cell_type": "code",
      "source": [
        "Y_oh = keras.utils.to_categorical(Y, num_classes=4, dtype=int)\n",
        "\n",
        "from sklearn.model_selection import train_test_split\n",
        "from sklearn.metrics import confusion_matrix\n",
        "\n",
        "X_train, X_test, Y_train, Y_test = train_test_split(X, Y_oh, random_state=0)"
      ],
      "execution_count": 0,
      "outputs": []
    },
    {
      "metadata": {
        "id": "mQYrlegQe7lW",
        "colab_type": "code",
        "outputId": "8b67d5c0-d1fe-474f-d199-08dd31302772",
        "colab": {
          "base_uri": "https://localhost:8080/",
          "height": 35
        }
      },
      "cell_type": "code",
      "source": [
        "Y_train.shape"
      ],
      "execution_count": 13,
      "outputs": [
        {
          "output_type": "execute_result",
          "data": {
            "text/plain": [
              "(3750000, 4)"
            ]
          },
          "metadata": {
            "tags": []
          },
          "execution_count": 13
        }
      ]
    },
    {
      "metadata": {
        "id": "_8Xjh72segMo",
        "colab_type": "code",
        "outputId": "b3d03b27-cd64-439e-e5d4-a861f044676e",
        "colab": {
          "base_uri": "https://localhost:8080/",
          "height": 811
        }
      },
      "cell_type": "code",
      "source": [
        "history = model.fit(X_train,Y_train, validation_split=0.05, epochs=10 , batch_size=256, verbose=1)"
      ],
      "execution_count": 14,
      "outputs": [
        {
          "output_type": "stream",
          "text": [
            "Train on 3562500 samples, validate on 187500 samples\n",
            "WARNING:tensorflow:From /usr/local/lib/python3.6/dist-packages/tensorflow/python/ops/math_ops.py:3066: to_int32 (from tensorflow.python.ops.math_ops) is deprecated and will be removed in a future version.\n",
            "Instructions for updating:\n",
            "Use tf.cast instead.\n",
            "Epoch 1/20\n",
            "3562500/3562500 [==============================] - 67s 19us/sample - loss: 0.1130 - acc: 0.9619 - val_loss: 0.1723 - val_acc: 0.9424\n",
            "Epoch 2/20\n",
            "3562500/3562500 [==============================] - 65s 18us/sample - loss: 0.0954 - acc: 0.9671 - val_loss: 0.0978 - val_acc: 0.9667\n",
            "Epoch 3/20\n",
            "3562500/3562500 [==============================] - 66s 19us/sample - loss: 0.0934 - acc: 0.9675 - val_loss: 0.0913 - val_acc: 0.9680\n",
            "Epoch 4/20\n",
            "3562500/3562500 [==============================] - 65s 18us/sample - loss: 0.0927 - acc: 0.9678 - val_loss: 0.0907 - val_acc: 0.9691\n",
            "Epoch 5/20\n",
            "3562500/3562500 [==============================] - 64s 18us/sample - loss: 0.0921 - acc: 0.9679 - val_loss: 0.0879 - val_acc: 0.9694\n",
            "Epoch 6/20\n",
            "3562500/3562500 [==============================] - 66s 18us/sample - loss: 0.0918 - acc: 0.9680 - val_loss: 0.0982 - val_acc: 0.9648\n",
            "Epoch 7/20\n",
            "3562500/3562500 [==============================] - 64s 18us/sample - loss: 0.0915 - acc: 0.9682 - val_loss: 0.0897 - val_acc: 0.9689\n",
            "Epoch 8/20\n",
            "3562500/3562500 [==============================] - 64s 18us/sample - loss: 0.0913 - acc: 0.9682 - val_loss: 0.0910 - val_acc: 0.9675\n",
            "Epoch 9/20\n",
            "3562500/3562500 [==============================] - 64s 18us/sample - loss: 0.0910 - acc: 0.9683 - val_loss: 0.0939 - val_acc: 0.9669\n",
            "Epoch 10/20\n",
            "3562500/3562500 [==============================] - 64s 18us/sample - loss: 0.0909 - acc: 0.9683 - val_loss: 0.0961 - val_acc: 0.9661\n",
            "Epoch 11/20\n",
            "3562500/3562500 [==============================] - 66s 19us/sample - loss: 0.0907 - acc: 0.9683 - val_loss: 0.0887 - val_acc: 0.9688\n",
            "Epoch 12/20\n",
            "3562500/3562500 [==============================] - 63s 18us/sample - loss: 0.0906 - acc: 0.9684 - val_loss: 0.0888 - val_acc: 0.9691\n",
            "Epoch 13/20\n",
            "3562500/3562500 [==============================] - 63s 18us/sample - loss: 0.0904 - acc: 0.9685 - val_loss: 0.0890 - val_acc: 0.9689\n",
            "Epoch 14/20\n",
            "3562500/3562500 [==============================] - 63s 18us/sample - loss: 0.0902 - acc: 0.9685 - val_loss: 0.0922 - val_acc: 0.9685\n",
            "Epoch 15/20\n",
            "3562500/3562500 [==============================] - 62s 17us/sample - loss: 0.0902 - acc: 0.9686 - val_loss: 0.0911 - val_acc: 0.9681\n",
            "Epoch 16/20\n",
            "3562500/3562500 [==============================] - 68s 19us/sample - loss: 0.0900 - acc: 0.9686 - val_loss: 0.0911 - val_acc: 0.9684\n",
            "Epoch 17/20\n",
            "3562500/3562500 [==============================] - 66s 19us/sample - loss: 0.0900 - acc: 0.9687 - val_loss: 0.0898 - val_acc: 0.9683\n",
            "Epoch 18/20\n",
            "3562500/3562500 [==============================] - 65s 18us/sample - loss: 0.0900 - acc: 0.9686 - val_loss: 0.0939 - val_acc: 0.9667\n",
            "Epoch 19/20\n",
            "3562500/3562500 [==============================] - 66s 18us/sample - loss: 0.0899 - acc: 0.9687 - val_loss: 0.1052 - val_acc: 0.9625\n",
            "Epoch 20/20\n",
            "3562500/3562500 [==============================] - 67s 19us/sample - loss: 0.0898 - acc: 0.9686 - val_loss: 0.2111 - val_acc: 0.9228\n"
          ],
          "name": "stdout"
        }
      ]
    },
    {
      "metadata": {
        "id": "xSHQEfJCegJy",
        "colab_type": "code",
        "outputId": "c82dea21-1aba-47e8-b206-f48d0680f93e",
        "colab": {
          "base_uri": "https://localhost:8080/",
          "height": 441
        }
      },
      "cell_type": "code",
      "source": [
        "X0, X1 = X[:, 0], X[:, 1]\n",
        "h=.02\n",
        "x_min, x_max = X0.min() - 1, X0.max() + 1\n",
        "y_min, y_max = X1.min() - 1, X1.max() + 1\n",
        "xx, yy = np.meshgrid(np.arange(x_min, x_max , h), np.arange(y_min, y_max , h) )\n",
        "\n",
        "fig = plt.figure(figsize=(6,6))\n",
        "# for clf in list(clf_dict.keys())[:]:\n",
        "#     print(list(clf_dict.keys()).index(clf))\n",
        "#     ax = plt.subplot(1, len(degrees), i + 1, xlabel=x_label, ylabel=y_label, title=plt_title)\n",
        "ax = fig.add_subplot(1, 1, 1 , xlabel = ind_to_keep[0], ylabel=ind_to_keep[1], title = 'NN')\n",
        "\n",
        "Z = model.predict(np.c_[xx.ravel(), yy.ravel()])\n",
        "Z = np.argmax(Z, axis=1)\n",
        "# print(np.shape(np.c_[xx.ravel(), yy.ravel()]))\n",
        "# print(Z.shape)\n",
        "# print(xx.shape)\n",
        "# print(yy.shape)\n",
        "Z = Z.reshape(xx.shape)\n",
        "# ax.scatter(X[:,0],X[:,1],c=Y, cmap=plt.cm.plasma, s=20)\n",
        "ax.contour(xx, yy, Z,  levels=[-.5, 0, .5], linestyles=['--', '-', '--'])\n",
        "ax.contourf(xx, yy, Z, alpha= .1, cmap = plt.cm.gray)\n",
        "    \n",
        "plt.tight_layout()\n",
        "plt.show()"
      ],
      "execution_count": 27,
      "outputs": [
        {
          "output_type": "display_data",
          "data": {
            "image/png": "[encoded data removed]",
            "text/plain": [
              "<Figure size 432x432 with 1 Axes>"
            ]
          },
          "metadata": {
            "tags": []
          }
        }
      ]
    },
    {
      "metadata": {
        "id": "SJnTpEpoYbl1",
        "colab_type": "text"
      },
      "cell_type": "markdown",
      "source": [
        "# Learning rate:\n",
        "Change the learning rate and plot the results for \n",
        "\n",
        "eta = .01, .03, .1, .3, 1\n",
        "\n",
        "For each one, do 5 runs (5 epoch should be enough. )\n",
        "\n",
        "Plot and compare them. \n",
        "\n",
        "Track the time and report the average learning time for each value of eta. "
      ]
    },
    {
      "metadata": {
        "id": "fYlS_AORWScx",
        "colab_type": "code",
        "colab": {}
      },
      "cell_type": "code",
      "source": [
        "model = keras.Sequential([\n",
        "    keras.layers.Flatten(input_shape=(32, 32)),\n",
        "    keras.layers.Dense(128, activation=tf.nn.relu),\n",
        "    keras.layers.Dense(10, activation=tf.nn.softmax)\n",
        "])\n",
        "\n",
        "\n",
        "model.compile(optimizer='adam', \n",
        "              loss='sparse_categorical_crossentropy',\n",
        "              metrics=['accuracy'])\n",
        "\n",
        "import time"
      ],
      "execution_count": 0,
      "outputs": []
    },
    {
      "metadata": {
        "id": "u3VPmOITVwuC",
        "colab_type": "code",
        "colab": {
          "base_uri": "https://localhost:8080/",
          "height": 105
        },
        "outputId": "04be0682-cd97-4ee1-c403-9090e3c5a294"
      },
      "cell_type": "code",
      "source": [
        "exc_time = []\n",
        "histories = []\n",
        "eta_list = [.01, .03, .1, .3 , 1]\n",
        "for eta in eta_list:\n",
        "  model.reset_metrics()\n",
        "  optimizer = keras.optimizers.Adam(lr=eta)\n",
        "  model.optimizer = optimizer\n",
        "  \n",
        "  start = time.time()\n",
        "  h = model.fit(X_train,Y_train, validation_split=0.25, epochs=10,batch_size=64, verbose=0)\n",
        "  stop = time.time()\n",
        "  print(stop-start)\n",
        "  exc_time += [stop-start]\n",
        "  \n",
        "  histories +=[h]\n",
        "  "
      ],
      "execution_count": 38,
      "outputs": [
        {
          "output_type": "stream",
          "text": [
            "40.65576720237732\n",
            "39.18314528465271\n",
            "39.714462995529175\n",
            "39.16478157043457\n",
            "38.57382893562317\n"
          ],
          "name": "stdout"
        }
      ]
    },
    {
      "metadata": {
        "id": "9VjEWMKsb9X-",
        "colab_type": "code",
        "colab": {}
      },
      "cell_type": "code",
      "source": [
        "eta_list = [.01, .03, .1, .3 , 1]\n"
      ],
      "execution_count": 0,
      "outputs": []
    },
    {
      "metadata": {
        "id": "LymebrgpYWoj",
        "colab_type": "code",
        "colab": {
          "base_uri": "https://localhost:8080/",
          "height": 35
        },
        "outputId": "a3733e9f-a4ee-4a78-cf90-44e28a2dcad7"
      },
      "cell_type": "code",
      "source": [
        "print(exc_time)"
      ],
      "execution_count": 36,
      "outputs": [
        {
          "output_type": "stream",
          "text": [
            "[20.144747495651245, 19.881685256958008]\n"
          ],
          "name": "stdout"
        }
      ]
    },
    {
      "metadata": {
        "id": "enCAKk24Yn4S",
        "colab_type": "code",
        "colab": {
          "base_uri": "https://localhost:8080/",
          "height": 369
        },
        "outputId": "61815daf-baf7-4f2b-e020-fff91790f33c"
      },
      "cell_type": "code",
      "source": [
        "# Plot training & validation accuracy values\n",
        "fig = plt.figure(figsize=(10,5))\n",
        "ax = fig.add_subplot(1,2,1, title = 'Model accuracy', ylabel= 'Accuracy')\n",
        "for i in range(5):\n",
        "  ax.plot(histories[i].history['acc'], color='r', label= 'Training Accuracy, eta = {}'.format(eta_list[i] ) )\n",
        "  ax.plot(histories[i].history['val_acc'], color='b', label= 'Test Accuracy, eta = {}'.format(eta_list[i] ) )\n",
        "plt.legend(loc=0)\n",
        "\n",
        "# Plot training & validation loss values\n",
        "ax = fig.add_subplot(1,2,2, title = 'Model loss', ylabel= 'Loss')\n",
        "\n",
        "for i in range(5):\n",
        "  ax.plot(histories[i].history['loss'], color='r', label= 'Training Accuracy, eta = {}'.format(eta_list[i] ) )\n",
        "  ax.plot(histories[i].history['val_loss'], color='b', label= 'Test Accuracy, eta = {}'.format(eta_list[i] ) )\n",
        "plt.legend(loc=0)\n",
        "\n",
        "\n",
        "plt.tight_layout()\n",
        "plt.show()"
      ],
      "execution_count": 42,
      "outputs": [
        {
          "output_type": "display_data",
          "data": {
            "image/png": "[encoded data removed]",
            "text/plain": [
              "<Figure size 720x360 with 2 Axes>"
            ]
          },
          "metadata": {
            "tags": []
          }
        }
      ]
    },
    {
      "metadata": {
        "id": "9suSBEnhZC-S",
        "colab_type": "text"
      },
      "cell_type": "markdown",
      "source": [
        "# Batch size\n",
        "\n",
        "Change the Batch_size and plot the results for \n",
        "\n",
        "Batch_size = 8, 32, 128, 512, 1024 (change n_epochs too. )\n",
        "\n",
        "eta =  .03, .1, .3\n",
        "\n",
        "For each one, do 5 runs (5 epoch should be enough. )\n",
        "\n",
        "Plot and compare them. \n",
        "\n",
        "Track the time and report the average learning time for each value of eta. "
      ]
    },
    {
      "metadata": {
        "id": "F3x1xpwcZeF4",
        "colab_type": "text"
      },
      "cell_type": "markdown",
      "source": [
        "# Optimization techniques\n",
        "\n",
        "For a fixed batch_size (pick the best from last section) try the three different algorithms that we discussed. Look at \n",
        "\n",
        "https://keras.io/optimizers/\n",
        "\n",
        "for the possible optimizers. \n",
        "\n",
        "Try \n",
        "\n",
        "eta = .03, .1, .3\n",
        "\n",
        "For each one, do 5 runs (5 epoch should be enough. )\n",
        "\n",
        "Plot and compare them. \n",
        "\n",
        "Track the time and report the average learning time for each value of eta. "
      ]
    },
    {
      "metadata": {
        "id": "sGrwg_DOYbF4",
        "colab_type": "code",
        "colab": {}
      },
      "cell_type": "code",
      "source": [
        ""
      ],
      "execution_count": 0,
      "outputs": []
    },
    {
      "metadata": {
        "id": "KPrYnKKNHmuM",
        "colab_type": "text"
      },
      "cell_type": "markdown",
      "source": [
        "## Overfitting\n",
        "\n",
        "Here we include some dropout and some regularization in our model to overcome overfitting."
      ]
    },
    {
      "metadata": {
        "id": "Ia7Q0tgtGkuA",
        "colab_type": "code",
        "colab": {}
      },
      "cell_type": "code",
      "source": [
        "model = keras.Sequential()\n",
        "model = keras.Sequential([\n",
        "    keras.layers.Dense(128,activation=tf.nn.relu, kernel_regularizer=keras.regularizers.l2(0.001) ),\n",
        "    keras.layers.Dense(128,activation=tf.nn.relu),\n",
        "    keras.layers.Dropout(0.5),\n",
        "    keras.layers.Dense(128,activation=tf.nn.relu),\n",
        "    keras.layers.Dense(4, activation=tf.nn.softmax)\n",
        "])\n",
        "\n",
        "\n",
        "model.compile(optimizer='adam', \n",
        "              loss='categorical_crossentropy',\n",
        "              metrics=['accuracy'])\n",
        "\n",
        "model.build([None, 2])\n",
        "model.summary()"
      ],
      "execution_count": 0,
      "outputs": []
    }
  ]
}