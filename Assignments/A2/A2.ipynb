{
  "nbformat": 4,
  "nbformat_minor": 0,
  "metadata": {
    "colab": {
      "name": "A2.ipynb",
      "version": "0.3.2",
      "provenance": [],
      "collapsed_sections": [],
      "include_colab_link": true
    },
    "kernelspec": {
      "name": "python3",
      "display_name": "Python 3"
    }
  },
  "cells": [
    {
      "cell_type": "markdown",
      "metadata": {
        "id": "view-in-github",
        "colab_type": "text"
      },
      "source": [
        "<a href=\"https://colab.research.google.com/github/sraeisi/MachineLearning_Physics/blob/master/Assignments/A2/A2.ipynb\" target=\"_parent\"><img src=\"https://colab.research.google.com/assets/colab-badge.svg\" alt=\"Open In Colab\"/></a>"
      ]
    },
    {
      "metadata": {
        "id": "FP9tk0dr8_ZZ",
        "colab_type": "text"
      },
      "cell_type": "markdown",
      "source": [
        "P1.  Model Selection\n",
        "===\n",
        "\n",
        "Take the Sun radiation data and\n",
        "\n",
        "\n",
        "*   Use polynomial featuresof degree p and plot the validation curve. What does the VC tell you?\n",
        "*   For the optimal p, draw the learning curve. What does it show? \n",
        "*   Esitmate the variance and Bias.\n",
        "*   Repeat the first two parts with polynomial kernel and the actual data. (Write our own polynomial kernel)\n",
        "*   Make a comparison between the time and scores of the two case (with poly kernel and with poly features and plot them as a function of the degree). \n",
        "\n",
        "Remark: Use cross-validate for the steps above. \n",
        "\n",
        "\n",
        "*   Use the built-in sklearn function for model-selection to find the optimal parameters for a SVR with rbf kernel and plot the learning curve for these parameters.\n",
        "\n",
        "\n",
        "P2. Regularization\n",
        "===\n",
        "\n",
        "Take the particle identification dataset and use SGDclassifier to train a classifier, once with l1 penalty, once with l2 penalty and once with elasticnet penalty. Change the regularization parameter, alpha and plot the w_i vs alpha for the three situations. \n",
        "\n",
        "\n",
        "\n",
        "\n"
      ]
    },
    {
      "metadata": {
        "id": "gRR7uNB06It-",
        "colab_type": "code",
        "colab": {}
      },
      "cell_type": "code",
      "source": [
        ""
      ],
      "execution_count": 0,
      "outputs": []
    }
  ]
}