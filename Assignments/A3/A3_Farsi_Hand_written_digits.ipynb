{
 "cells": [
  {
   "cell_type": "code",
   "execution_count": 1,
   "metadata": {},
   "outputs": [],
   "source": [
    "import numpy as np\n",
    "import pandas as pd\n",
    "import matplotlib.pyplot as plt"
   ]
  },
  {
   "cell_type": "markdown",
   "metadata": {},
   "source": [
    "# Load the data"
   ]
  },
  {
   "cell_type": "markdown",
   "metadata": {},
   "source": [
    "The original data is taken from \n",
    "\n",
    "http://farsiocr.ir/\n",
    "\n",
    "website and transformed to the current format. "
   ]
  },
  {
   "cell_type": "code",
   "execution_count": 2,
   "metadata": {},
   "outputs": [],
   "source": [
    "X = np.load('X.npz')['arr_0']\n",
    "Y = np.load('Y.npz')['arr_0']"
   ]
  },
  {
   "cell_type": "code",
   "execution_count": 3,
   "metadata": {},
   "outputs": [
    {
     "data": {
      "image/png": "[encoded data removed]",
      "text/plain": [
       "<Figure size 432x288 with 1 Axes>"
      ]
     },
     "metadata": {
      "needs_background": "light"
     },
     "output_type": "display_data"
    }
   ],
   "source": [
    "rand_ind = np.random.randint(0,100000)\n",
    "fig = plt.figure(figsize=(6,4))\n",
    "ax = fig.add_subplot(111,title = 'This should be a {}'.format(Y[rand_ind]))\n",
    "ax.imshow(X[rand_ind])\n",
    "plt.show()"
   ]
  },
  {
   "cell_type": "code",
   "execution_count": 4,
   "metadata": {},
   "outputs": [],
   "source": [
    "X = X.reshape(-1, 32*32)"
   ]
  },
  {
   "cell_type": "markdown",
   "metadata": {},
   "source": [
    "# Assignment\n"
   ]
  },
  {
   "cell_type": "markdown",
   "metadata": {},
   "source": [
    "- Train a some basic classifiers to get a sense of the bias and variance.\n",
    "- Calculate the confusion matrix. (You can use the built-in scikit-learn functions)\n",
    "- Calculate the recall, precision, AUC and f1-score for each class. (You can use the built-in scikit-learn functions)\n",
    "- Do you need more data?\n",
    "- Make a comparison table like the one in \n",
    "http://yann.lecun.com/exdb/mnist/  \n",
    "\n",
    "5 Classifier would suffice. You can use one type of estimator but with different settings, e.g. kernels. Also calculate the accuracy for the training and test set with cross-validation and add training time and prediction time for the test set to your table.\n",
    "\n",
    "- Apply PCA and TSNE for n_component = 2, 100\n",
    "- Find the (roughly) optimal value of n_components for PCA. \n",
    "- Train your classifiers in the comparison table, this time with the reduced data. \n",
    "\n"
   ]
  }
 ],
 "metadata": {
  "kernelspec": {
   "display_name": "Python 3",
   "language": "python",
   "name": "python3"
  },
  "language_info": {
   "codemirror_mode": {
    "name": "ipython",
    "version": 3
   },
   "file_extension": ".py",
   "mimetype": "text/x-python",
   "name": "python",
   "nbconvert_exporter": "python",
   "pygments_lexer": "ipython3",
   "version": "3.6.6"
  },
  "toc": {
   "base_numbering": 1,
   "nav_menu": {},
   "number_sections": true,
   "sideBar": true,
   "skip_h1_title": false,
   "title_cell": "Table of Contents",
   "title_sidebar": "Contents",
   "toc_cell": false,
   "toc_position": {},
   "toc_section_display": true,
   "toc_window_display": false
  }
 },
 "nbformat": 4,
 "nbformat_minor": 2
}
