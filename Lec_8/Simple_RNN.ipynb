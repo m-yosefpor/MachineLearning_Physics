{
  "nbformat": 4,
  "nbformat_minor": 0,
  "metadata": {
    "colab": {
      "name": "Simple_RNN.ipynb",
      "version": "0.3.2",
      "provenance": [],
      "collapsed_sections": [],
      "include_colab_link": true
    },
    "kernelspec": {
      "name": "python3",
      "display_name": "Python 3"
    },
    "accelerator": "GPU"
  },
  "cells": [
    {
      "cell_type": "markdown",
      "metadata": {
        "id": "view-in-github",
        "colab_type": "text"
      },
      "source": [
        "<a href=\"https://colab.research.google.com/github/sraeisi/MachineLearning_Physics/blob/master/Lec_8/Simple_RNN.ipynb\" target=\"_parent\"><img src=\"https://colab.research.google.com/assets/colab-badge.svg\" alt=\"Open In Colab\"/></a>"
      ]
    },
    {
      "cell_type": "code",
      "metadata": {
        "id": "L0NGaZ6rc7S3",
        "colab_type": "code",
        "colab": {}
      },
      "source": [
        "import numpy as np\n",
        "import pandas as pd\n",
        "import matplotlib.pyplot as plt\n",
        "import requests, io\n",
        "\n",
        "from tensorflow import keras"
      ],
      "execution_count": 0,
      "outputs": []
    },
    {
      "cell_type": "code",
      "metadata": {
        "id": "aX030A5ldH5N",
        "colab_type": "code",
        "colab": {}
      },
      "source": [
        "'''\n",
        "Let's import the Farsi digits (your assignment)\n",
        "'''\n",
        "\n",
        "url = 'https://raw.githubusercontent.com/sraeisi/MachineLearning_Physics/master/Assignments/A3/X.npz'\n",
        "s=requests.get(url, stream=True).content\n",
        "X = np.load(io.BytesIO(s) )['arr_0']\n",
        "url = 'https://raw.githubusercontent.com/sraeisi/MachineLearning_Physics/master/Assignments/A3/Y.npz'\n",
        "s=requests.get(url, stream=True).content\n",
        "Y = np.load(io.BytesIO(s) )['arr_0']\n",
        "\n",
        "from sklearn.utils import shuffle\n",
        "X, Y = shuffle(X,Y, random_state = 0 )\n",
        "\n",
        "from sklearn.model_selection import train_test_split\n",
        "X_train, X_test, Y_train, Y_test = train_test_split(X, Y, random_state=0)\n",
        "\n",
        "n_w, n_h = X[0].shape"
      ],
      "execution_count": 0,
      "outputs": []
    },
    {
      "cell_type": "code",
      "metadata": {
        "id": "PUQY8RDPfNb4",
        "colab_type": "code",
        "colab": {
          "base_uri": "https://localhost:8080/",
          "height": 35
        },
        "outputId": "adce4dbb-be6a-4916-deb9-15219b219942"
      },
      "source": [
        "X.shape[1:]"
      ],
      "execution_count": 3,
      "outputs": [
        {
          "output_type": "execute_result",
          "data": {
            "text/plain": [
              "(32, 32)"
            ]
          },
          "metadata": {
            "tags": []
          },
          "execution_count": 3
        }
      ]
    },
    {
      "cell_type": "code",
      "metadata": {
        "id": "E8ddnWSsdRqo",
        "colab_type": "code",
        "colab": {}
      },
      "source": [
        "model = keras.models.Sequential()"
      ],
      "execution_count": 0,
      "outputs": []
    },
    {
      "cell_type": "code",
      "metadata": {
        "id": "Q7Dh77fcdfG0",
        "colab_type": "code",
        "colab": {}
      },
      "source": [
        "from tensorflow.keras.layers import LSTM, RNN, CuDNNLSTM, GRU, Dense"
      ],
      "execution_count": 0,
      "outputs": []
    },
    {
      "cell_type": "code",
      "metadata": {
        "id": "4KYtjGdIdv8e",
        "colab_type": "code",
        "colab": {
          "base_uri": "https://localhost:8080/",
          "height": 90
        },
        "outputId": "0e8811e9-01a9-4c2d-b31f-86dbbde302e7"
      },
      "source": [
        "model.add(LSTM(64, input_shape =(n_w, n_h) , activation='relu', return_sequences=True)  )\n",
        "\n",
        "model.add(LSTM(32,  activation='relu')  )\n",
        "\n",
        "model.add(Dense(32,  activation='relu')  )\n",
        "\n",
        "model.add(Dense(10,  activation='softmax')  )\n",
        "\n",
        "\n",
        "model.compile(loss = 'sparse_categorical_crossentropy', \n",
        "              optimizer=keras.optimizers.Adam(lr = .001), metrics = ['acc'])\n"
      ],
      "execution_count": 6,
      "outputs": [
        {
          "output_type": "stream",
          "text": [
            "WARNING:tensorflow:From /usr/local/lib/python3.6/dist-packages/tensorflow/python/ops/resource_variable_ops.py:435: colocate_with (from tensorflow.python.framework.ops) is deprecated and will be removed in a future version.\n",
            "Instructions for updating:\n",
            "Colocations handled automatically by placer.\n"
          ],
          "name": "stdout"
        }
      ]
    },
    {
      "cell_type": "code",
      "metadata": {
        "id": "29_XjI2CfJuA",
        "colab_type": "code",
        "colab": {
          "base_uri": "https://localhost:8080/",
          "height": 281
        },
        "outputId": "0e0adbdc-bc1e-4239-ecde-5f000e3a8d85"
      },
      "source": [
        "model.summary()"
      ],
      "execution_count": 7,
      "outputs": [
        {
          "output_type": "stream",
          "text": [
            "_________________________________________________________________\n",
            "Layer (type)                 Output Shape              Param #   \n",
            "=================================================================\n",
            "lstm (LSTM)                  (None, 32, 64)            24832     \n",
            "_________________________________________________________________\n",
            "lstm_1 (LSTM)                (None, 32)                12416     \n",
            "_________________________________________________________________\n",
            "dense (Dense)                (None, 32)                1056      \n",
            "_________________________________________________________________\n",
            "dense_1 (Dense)              (None, 10)                330       \n",
            "=================================================================\n",
            "Total params: 38,634\n",
            "Trainable params: 38,634\n",
            "Non-trainable params: 0\n",
            "_________________________________________________________________\n"
          ],
          "name": "stdout"
        }
      ]
    },
    {
      "cell_type": "code",
      "metadata": {
        "id": "JRnWayPfiugL",
        "colab_type": "code",
        "colab": {
          "base_uri": "https://localhost:8080/",
          "height": 105
        },
        "outputId": "adb51cbd-3934-41b1-fe0f-acc5db0d6566"
      },
      "source": [
        "history = model.fit(X_train, Y_train, epochs=2, batch_size=128, verbose=1, validation_data=(X_test, Y_test))\n"
      ],
      "execution_count": 8,
      "outputs": [
        {
          "output_type": "stream",
          "text": [
            "Train on 76764 samples, validate on 25588 samples\n",
            "Epoch 1/2\n",
            "76764/76764 [==============================] - 109s 1ms/sample - loss: 0.6644 - val_loss: 0.1557\n",
            "Epoch 2/2\n",
            "76764/76764 [==============================] - 105s 1ms/sample - loss: 0.1156 - val_loss: 0.0982\n"
          ],
          "name": "stdout"
        }
      ]
    },
    {
      "cell_type": "code",
      "metadata": {
        "id": "nKR8W0r_i34G",
        "colab_type": "code",
        "colab": {
          "base_uri": "https://localhost:8080/",
          "height": 105
        },
        "outputId": "5e21af5d-cb2c-490a-a42f-e35a547389ad"
      },
      "source": [
        "model2 = keras.models.Sequential()\n",
        "model2.add(CuDNNLSTM(64, input_shape =(n_w, n_h) , return_sequences=True)  )\n",
        "\n",
        "model2.add(CuDNNLSTM(32)  )\n",
        "\n",
        "model2.add(Dense(32,  activation='relu')  )\n",
        "\n",
        "model2.add(Dense(10,  activation='softmax')  )\n",
        "\n",
        "\n",
        "model2.compile(loss = 'sparse_categorical_crossentropy', \n",
        "              optimizer=keras.optimizers.Adam(lr = .001), metrics = ['acc'])\n",
        "history2 = model2.fit(X_train, Y_train, epochs=2, batch_size=128, verbose=1, validation_data=(X_test, Y_test))\n"
      ],
      "execution_count": 7,
      "outputs": [
        {
          "output_type": "stream",
          "text": [
            "Train on 76764 samples, validate on 25588 samples\n",
            "Epoch 1/2\n",
            "76764/76764 [==============================] - 16s 206us/sample - loss: 0.3699 - acc: 0.8934 - val_loss: 0.1119 - val_acc: 0.9688\n",
            "Epoch 2/2\n",
            "76764/76764 [==============================] - 13s 173us/sample - loss: 0.0796 - acc: 0.9775 - val_loss: 0.0663 - val_acc: 0.9813\n"
          ],
          "name": "stdout"
        }
      ]
    },
    {
      "cell_type": "code",
      "metadata": {
        "id": "ze966_G-lWIW",
        "colab_type": "code",
        "colab": {}
      },
      "source": [
        ""
      ],
      "execution_count": 0,
      "outputs": []
    }
  ]
}